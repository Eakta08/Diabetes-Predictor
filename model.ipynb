{
 "cells": [
  {
   "cell_type": "markdown",
   "id": "d6c0dc8d",
   "metadata": {
    "id": "d6c0dc8d"
   },
   "source": [
    "# Importing libaries"
   ]
  },
  {
   "cell_type": "code",
   "execution_count": 1,
   "id": "a14ab5ad",
   "metadata": {
    "id": "a14ab5ad"
   },
   "outputs": [],
   "source": [
    "import pandas as pd\n",
    "import numpy as np\n",
    "import seaborn as sns\n",
    "import matplotlib.pyplot as plt"
   ]
  },
  {
   "cell_type": "code",
   "execution_count": 2,
   "id": "4bfc6aa1",
   "metadata": {},
   "outputs": [],
   "source": [
    "import warnings\n",
    "warnings.filterwarnings('ignore')"
   ]
  },
  {
   "cell_type": "markdown",
   "id": "556d65d0",
   "metadata": {
    "id": "556d65d0"
   },
   "source": [
    "# Reading the dataset"
   ]
  },
  {
   "cell_type": "code",
   "execution_count": 3,
   "id": "a657cc2a",
   "metadata": {
    "colab": {
     "base_uri": "https://localhost:8080/",
     "height": 423
    },
    "id": "a657cc2a",
    "outputId": "7677456d-92db-4d82-f137-56ad192932f2"
   },
   "outputs": [
    {
     "data": {
      "text/html": [
       "<div>\n",
       "<style scoped>\n",
       "    .dataframe tbody tr th:only-of-type {\n",
       "        vertical-align: middle;\n",
       "    }\n",
       "\n",
       "    .dataframe tbody tr th {\n",
       "        vertical-align: top;\n",
       "    }\n",
       "\n",
       "    .dataframe thead th {\n",
       "        text-align: right;\n",
       "    }\n",
       "</style>\n",
       "<table border=\"1\" class=\"dataframe\">\n",
       "  <thead>\n",
       "    <tr style=\"text-align: right;\">\n",
       "      <th></th>\n",
       "      <th>gender</th>\n",
       "      <th>age</th>\n",
       "      <th>hypertension</th>\n",
       "      <th>heart_disease</th>\n",
       "      <th>smoking_history</th>\n",
       "      <th>bmi</th>\n",
       "      <th>HbA1c_level</th>\n",
       "      <th>blood_glucose_level</th>\n",
       "      <th>diabetes</th>\n",
       "    </tr>\n",
       "  </thead>\n",
       "  <tbody>\n",
       "    <tr>\n",
       "      <th>0</th>\n",
       "      <td>Female</td>\n",
       "      <td>80.0</td>\n",
       "      <td>0</td>\n",
       "      <td>1</td>\n",
       "      <td>never</td>\n",
       "      <td>25.19</td>\n",
       "      <td>6.6</td>\n",
       "      <td>140</td>\n",
       "      <td>0</td>\n",
       "    </tr>\n",
       "    <tr>\n",
       "      <th>1</th>\n",
       "      <td>Female</td>\n",
       "      <td>54.0</td>\n",
       "      <td>0</td>\n",
       "      <td>0</td>\n",
       "      <td>No Info</td>\n",
       "      <td>27.32</td>\n",
       "      <td>6.6</td>\n",
       "      <td>80</td>\n",
       "      <td>0</td>\n",
       "    </tr>\n",
       "    <tr>\n",
       "      <th>2</th>\n",
       "      <td>Male</td>\n",
       "      <td>28.0</td>\n",
       "      <td>0</td>\n",
       "      <td>0</td>\n",
       "      <td>never</td>\n",
       "      <td>27.32</td>\n",
       "      <td>5.7</td>\n",
       "      <td>158</td>\n",
       "      <td>0</td>\n",
       "    </tr>\n",
       "    <tr>\n",
       "      <th>3</th>\n",
       "      <td>Female</td>\n",
       "      <td>36.0</td>\n",
       "      <td>0</td>\n",
       "      <td>0</td>\n",
       "      <td>current</td>\n",
       "      <td>23.45</td>\n",
       "      <td>5.0</td>\n",
       "      <td>155</td>\n",
       "      <td>0</td>\n",
       "    </tr>\n",
       "    <tr>\n",
       "      <th>4</th>\n",
       "      <td>Male</td>\n",
       "      <td>76.0</td>\n",
       "      <td>1</td>\n",
       "      <td>1</td>\n",
       "      <td>current</td>\n",
       "      <td>20.14</td>\n",
       "      <td>4.8</td>\n",
       "      <td>155</td>\n",
       "      <td>0</td>\n",
       "    </tr>\n",
       "    <tr>\n",
       "      <th>...</th>\n",
       "      <td>...</td>\n",
       "      <td>...</td>\n",
       "      <td>...</td>\n",
       "      <td>...</td>\n",
       "      <td>...</td>\n",
       "      <td>...</td>\n",
       "      <td>...</td>\n",
       "      <td>...</td>\n",
       "      <td>...</td>\n",
       "    </tr>\n",
       "    <tr>\n",
       "      <th>99995</th>\n",
       "      <td>Female</td>\n",
       "      <td>80.0</td>\n",
       "      <td>0</td>\n",
       "      <td>0</td>\n",
       "      <td>No Info</td>\n",
       "      <td>27.32</td>\n",
       "      <td>6.2</td>\n",
       "      <td>90</td>\n",
       "      <td>0</td>\n",
       "    </tr>\n",
       "    <tr>\n",
       "      <th>99996</th>\n",
       "      <td>Female</td>\n",
       "      <td>2.0</td>\n",
       "      <td>0</td>\n",
       "      <td>0</td>\n",
       "      <td>No Info</td>\n",
       "      <td>17.37</td>\n",
       "      <td>6.5</td>\n",
       "      <td>100</td>\n",
       "      <td>0</td>\n",
       "    </tr>\n",
       "    <tr>\n",
       "      <th>99997</th>\n",
       "      <td>Male</td>\n",
       "      <td>66.0</td>\n",
       "      <td>0</td>\n",
       "      <td>0</td>\n",
       "      <td>former</td>\n",
       "      <td>27.83</td>\n",
       "      <td>5.7</td>\n",
       "      <td>155</td>\n",
       "      <td>0</td>\n",
       "    </tr>\n",
       "    <tr>\n",
       "      <th>99998</th>\n",
       "      <td>Female</td>\n",
       "      <td>24.0</td>\n",
       "      <td>0</td>\n",
       "      <td>0</td>\n",
       "      <td>never</td>\n",
       "      <td>35.42</td>\n",
       "      <td>4.0</td>\n",
       "      <td>100</td>\n",
       "      <td>0</td>\n",
       "    </tr>\n",
       "    <tr>\n",
       "      <th>99999</th>\n",
       "      <td>Female</td>\n",
       "      <td>57.0</td>\n",
       "      <td>0</td>\n",
       "      <td>0</td>\n",
       "      <td>current</td>\n",
       "      <td>22.43</td>\n",
       "      <td>6.6</td>\n",
       "      <td>90</td>\n",
       "      <td>0</td>\n",
       "    </tr>\n",
       "  </tbody>\n",
       "</table>\n",
       "<p>100000 rows × 9 columns</p>\n",
       "</div>"
      ],
      "text/plain": [
       "       gender   age  hypertension  heart_disease smoking_history    bmi  \\\n",
       "0      Female  80.0             0              1           never  25.19   \n",
       "1      Female  54.0             0              0         No Info  27.32   \n",
       "2        Male  28.0             0              0           never  27.32   \n",
       "3      Female  36.0             0              0         current  23.45   \n",
       "4        Male  76.0             1              1         current  20.14   \n",
       "...       ...   ...           ...            ...             ...    ...   \n",
       "99995  Female  80.0             0              0         No Info  27.32   \n",
       "99996  Female   2.0             0              0         No Info  17.37   \n",
       "99997    Male  66.0             0              0          former  27.83   \n",
       "99998  Female  24.0             0              0           never  35.42   \n",
       "99999  Female  57.0             0              0         current  22.43   \n",
       "\n",
       "       HbA1c_level  blood_glucose_level  diabetes  \n",
       "0              6.6                  140         0  \n",
       "1              6.6                   80         0  \n",
       "2              5.7                  158         0  \n",
       "3              5.0                  155         0  \n",
       "4              4.8                  155         0  \n",
       "...            ...                  ...       ...  \n",
       "99995          6.2                   90         0  \n",
       "99996          6.5                  100         0  \n",
       "99997          5.7                  155         0  \n",
       "99998          4.0                  100         0  \n",
       "99999          6.6                   90         0  \n",
       "\n",
       "[100000 rows x 9 columns]"
      ]
     },
     "execution_count": 3,
     "metadata": {},
     "output_type": "execute_result"
    }
   ],
   "source": [
    "data=pd.read_csv(\"diabetes_prediction_dataset.csv\")\n",
    "data"
   ]
  },
  {
   "cell_type": "code",
   "execution_count": 4,
   "id": "8cd6b79f",
   "metadata": {
    "colab": {
     "base_uri": "https://localhost:8080/"
    },
    "id": "8cd6b79f",
    "outputId": "8469844f-dbae-4261-844c-d2abc818898d"
   },
   "outputs": [
    {
     "data": {
      "text/plain": [
       "Index(['gender', 'age', 'hypertension', 'heart_disease', 'smoking_history',\n",
       "       'bmi', 'HbA1c_level', 'blood_glucose_level', 'diabetes'],\n",
       "      dtype='object')"
      ]
     },
     "execution_count": 4,
     "metadata": {},
     "output_type": "execute_result"
    }
   ],
   "source": [
    "data.columns"
   ]
  },
  {
   "cell_type": "code",
   "execution_count": 5,
   "id": "0c380a79",
   "metadata": {
    "colab": {
     "base_uri": "https://localhost:8080/"
    },
    "id": "0c380a79",
    "outputId": "8c3ae4d8-25ff-4096-89f9-bc3c0132f6c3"
   },
   "outputs": [
    {
     "data": {
      "text/plain": [
       "gender                  object\n",
       "age                    float64\n",
       "hypertension             int64\n",
       "heart_disease            int64\n",
       "smoking_history         object\n",
       "bmi                    float64\n",
       "HbA1c_level            float64\n",
       "blood_glucose_level      int64\n",
       "diabetes                 int64\n",
       "dtype: object"
      ]
     },
     "execution_count": 5,
     "metadata": {},
     "output_type": "execute_result"
    }
   ],
   "source": [
    "data.dtypes"
   ]
  },
  {
   "cell_type": "code",
   "execution_count": 6,
   "id": "c1bd9041",
   "metadata": {
    "colab": {
     "base_uri": "https://localhost:8080/"
    },
    "id": "c1bd9041",
    "outputId": "19b1fd49-2328-47da-f082-4c3b5b093e53"
   },
   "outputs": [
    {
     "data": {
      "text/plain": [
       "array(['Female', 'Male', 'Other'], dtype=object)"
      ]
     },
     "execution_count": 6,
     "metadata": {},
     "output_type": "execute_result"
    }
   ],
   "source": [
    "data.gender.unique()"
   ]
  },
  {
   "cell_type": "code",
   "execution_count": 7,
   "id": "7d9443b4",
   "metadata": {
    "colab": {
     "base_uri": "https://localhost:8080/"
    },
    "id": "7d9443b4",
    "outputId": "97c34742-4ee8-4aac-8c37-ceabd4acc33e"
   },
   "outputs": [
    {
     "data": {
      "text/plain": [
       "Female    58552\n",
       "Male      41430\n",
       "Other        18\n",
       "Name: gender, dtype: int64"
      ]
     },
     "execution_count": 7,
     "metadata": {},
     "output_type": "execute_result"
    }
   ],
   "source": [
    "data.gender.value_counts()"
   ]
  },
  {
   "cell_type": "code",
   "execution_count": 8,
   "id": "7093f222",
   "metadata": {
    "colab": {
     "base_uri": "https://localhost:8080/"
    },
    "id": "7093f222",
    "outputId": "5c431029-6587-4e95-8f3d-d1fefe6dbe53"
   },
   "outputs": [
    {
     "data": {
      "text/plain": [
       "array(['never', 'No Info', 'current', 'former', 'ever', 'not current'],\n",
       "      dtype=object)"
      ]
     },
     "execution_count": 8,
     "metadata": {},
     "output_type": "execute_result"
    }
   ],
   "source": [
    "data.smoking_history.unique()"
   ]
  },
  {
   "cell_type": "code",
   "execution_count": 9,
   "id": "eaba3506",
   "metadata": {
    "colab": {
     "base_uri": "https://localhost:8080/"
    },
    "id": "eaba3506",
    "outputId": "85959470-6818-447b-e498-9275c60b18c7"
   },
   "outputs": [
    {
     "data": {
      "text/plain": [
       "No Info        35816\n",
       "never          35095\n",
       "former          9352\n",
       "current         9286\n",
       "not current     6447\n",
       "ever            4004\n",
       "Name: smoking_history, dtype: int64"
      ]
     },
     "execution_count": 9,
     "metadata": {},
     "output_type": "execute_result"
    }
   ],
   "source": [
    "data.smoking_history.value_counts()"
   ]
  },
  {
   "cell_type": "code",
   "execution_count": 10,
   "id": "a2f98471",
   "metadata": {
    "colab": {
     "base_uri": "https://localhost:8080/",
     "height": 300
    },
    "id": "a2f98471",
    "outputId": "dd96b13f-5422-4239-9790-e49823208e29"
   },
   "outputs": [
    {
     "data": {
      "text/html": [
       "<div>\n",
       "<style scoped>\n",
       "    .dataframe tbody tr th:only-of-type {\n",
       "        vertical-align: middle;\n",
       "    }\n",
       "\n",
       "    .dataframe tbody tr th {\n",
       "        vertical-align: top;\n",
       "    }\n",
       "\n",
       "    .dataframe thead th {\n",
       "        text-align: right;\n",
       "    }\n",
       "</style>\n",
       "<table border=\"1\" class=\"dataframe\">\n",
       "  <thead>\n",
       "    <tr style=\"text-align: right;\">\n",
       "      <th></th>\n",
       "      <th>age</th>\n",
       "      <th>bmi</th>\n",
       "      <th>HbA1c_level</th>\n",
       "      <th>blood_glucose_level</th>\n",
       "    </tr>\n",
       "  </thead>\n",
       "  <tbody>\n",
       "    <tr>\n",
       "      <th>count</th>\n",
       "      <td>100000.000000</td>\n",
       "      <td>100000.000000</td>\n",
       "      <td>100000.000000</td>\n",
       "      <td>100000.000000</td>\n",
       "    </tr>\n",
       "    <tr>\n",
       "      <th>mean</th>\n",
       "      <td>41.885856</td>\n",
       "      <td>27.320767</td>\n",
       "      <td>5.527507</td>\n",
       "      <td>138.058060</td>\n",
       "    </tr>\n",
       "    <tr>\n",
       "      <th>std</th>\n",
       "      <td>22.516840</td>\n",
       "      <td>6.636783</td>\n",
       "      <td>1.070672</td>\n",
       "      <td>40.708136</td>\n",
       "    </tr>\n",
       "    <tr>\n",
       "      <th>min</th>\n",
       "      <td>0.080000</td>\n",
       "      <td>10.010000</td>\n",
       "      <td>3.500000</td>\n",
       "      <td>80.000000</td>\n",
       "    </tr>\n",
       "    <tr>\n",
       "      <th>25%</th>\n",
       "      <td>24.000000</td>\n",
       "      <td>23.630000</td>\n",
       "      <td>4.800000</td>\n",
       "      <td>100.000000</td>\n",
       "    </tr>\n",
       "    <tr>\n",
       "      <th>50%</th>\n",
       "      <td>43.000000</td>\n",
       "      <td>27.320000</td>\n",
       "      <td>5.800000</td>\n",
       "      <td>140.000000</td>\n",
       "    </tr>\n",
       "    <tr>\n",
       "      <th>75%</th>\n",
       "      <td>60.000000</td>\n",
       "      <td>29.580000</td>\n",
       "      <td>6.200000</td>\n",
       "      <td>159.000000</td>\n",
       "    </tr>\n",
       "    <tr>\n",
       "      <th>max</th>\n",
       "      <td>80.000000</td>\n",
       "      <td>95.690000</td>\n",
       "      <td>9.000000</td>\n",
       "      <td>300.000000</td>\n",
       "    </tr>\n",
       "  </tbody>\n",
       "</table>\n",
       "</div>"
      ],
      "text/plain": [
       "                 age            bmi    HbA1c_level  blood_glucose_level\n",
       "count  100000.000000  100000.000000  100000.000000        100000.000000\n",
       "mean       41.885856      27.320767       5.527507           138.058060\n",
       "std        22.516840       6.636783       1.070672            40.708136\n",
       "min         0.080000      10.010000       3.500000            80.000000\n",
       "25%        24.000000      23.630000       4.800000           100.000000\n",
       "50%        43.000000      27.320000       5.800000           140.000000\n",
       "75%        60.000000      29.580000       6.200000           159.000000\n",
       "max        80.000000      95.690000       9.000000           300.000000"
      ]
     },
     "execution_count": 10,
     "metadata": {},
     "output_type": "execute_result"
    }
   ],
   "source": [
    "data[['age','bmi','HbA1c_level', 'blood_glucose_level']].describe()"
   ]
  },
  {
   "cell_type": "code",
   "execution_count": 11,
   "id": "e5c63629",
   "metadata": {
    "colab": {
     "base_uri": "https://localhost:8080/",
     "height": 466
    },
    "id": "e5c63629",
    "outputId": "eac73e8a-f7f5-458c-b2db-bf2f009aa277"
   },
   "outputs": [
    {
     "data": {
      "text/plain": [
       "<Axes: xlabel='age'>"
      ]
     },
     "execution_count": 11,
     "metadata": {},
     "output_type": "execute_result"
    },
    {
     "data": {
      "image/png": "[encoded data removed]",
      "text/plain": [
       "<Figure size 640x480 with 1 Axes>"
      ]
     },
     "metadata": {},
     "output_type": "display_data"
    }
   ],
   "source": [
    "sns.boxplot(x=data.age)"
   ]
  },
  {
   "cell_type": "code",
   "execution_count": 12,
   "id": "bf24762f",
   "metadata": {
    "colab": {
     "base_uri": "https://localhost:8080/",
     "height": 466
    },
    "id": "bf24762f",
    "outputId": "735c54a1-2781-4957-c5e6-ad285eaa8a82"
   },
   "outputs": [
    {
     "data": {
      "text/plain": [
       "<Axes: xlabel='bmi'>"
      ]
     },
     "execution_count": 12,
     "metadata": {},
     "output_type": "execute_result"
    },
    {
     "data": {
      "image/png": "[encoded data removed]",
      "text/plain": [
       "<Figure size 640x480 with 1 Axes>"
      ]
     },
     "metadata": {},
     "output_type": "display_data"
    }
   ],
   "source": [
    "sns.boxplot(x=data.bmi)"
   ]
  },
  {
   "cell_type": "code",
   "execution_count": 13,
   "id": "38344919",
   "metadata": {
    "colab": {
     "base_uri": "https://localhost:8080/",
     "height": 467
    },
    "id": "38344919",
    "outputId": "d54734ab-999a-452a-a7b8-77670292317e"
   },
   "outputs": [
    {
     "data": {
      "text/plain": [
       "<Axes: xlabel='HbA1c_level'>"
      ]
     },
     "execution_count": 13,
     "metadata": {},
     "output_type": "execute_result"
    },
    {
     "data": {
      "image/png": "[encoded data removed]",
      "text/plain": [
       "<Figure size 640x480 with 1 Axes>"
      ]
     },
     "metadata": {},
     "output_type": "display_data"
    }
   ],
   "source": [
    "sns.boxplot(x=data.HbA1c_level)"
   ]
  },
  {
   "cell_type": "code",
   "execution_count": 14,
   "id": "d4f9d023",
   "metadata": {
    "colab": {
     "base_uri": "https://localhost:8080/",
     "height": 467
    },
    "id": "d4f9d023",
    "outputId": "7b0e1311-2245-4632-f8fa-236a8bed86c6"
   },
   "outputs": [
    {
     "data": {
      "text/plain": [
       "<Axes: xlabel='blood_glucose_level'>"
      ]
     },
     "execution_count": 14,
     "metadata": {},
     "output_type": "execute_result"
    },
    {
     "data": {
      "image/png": "[encoded data removed]",
      "text/plain": [
       "<Figure size 640x480 with 1 Axes>"
      ]
     },
     "metadata": {},
     "output_type": "display_data"
    }
   ],
   "source": [
    "sns.boxplot(x=data.blood_glucose_level)"
   ]
  },
  {
   "cell_type": "code",
   "execution_count": 15,
   "id": "15cf3acb",
   "metadata": {
    "colab": {
     "base_uri": "https://localhost:8080/",
     "height": 577
    },
    "id": "15cf3acb",
    "outputId": "9e1b7c52-f2c0-4280-9348-e702a4ba4cb0"
   },
   "outputs": [
    {
     "data": {
      "text/plain": [
       "<Axes: >"
      ]
     },
     "execution_count": 15,
     "metadata": {},
     "output_type": "execute_result"
    },
    {
     "data": {
      "image/png": "[encoded data removed]",
      "text/plain": [
       "<Figure size 640x480 with 2 Axes>"
      ]
     },
     "metadata": {},
     "output_type": "display_data"
    }
   ],
   "source": [
    "sns.heatmap(data[['age','bmi','HbA1c_level', 'blood_glucose_level']].corr(), annot=True)"
   ]
  },
  {
   "cell_type": "markdown",
   "id": "f654a1a7",
   "metadata": {
    "id": "f654a1a7"
   },
   "source": [
    "# Data Preprocessing"
   ]
  },
  {
   "cell_type": "code",
   "execution_count": 16,
   "id": "8a795468",
   "metadata": {
    "colab": {
     "base_uri": "https://localhost:8080/"
    },
    "id": "8a795468",
    "outputId": "f88bb1da-d780-4a9b-d8b8-10a23244315f"
   },
   "outputs": [
    {
     "data": {
      "text/plain": [
       "gender                 0\n",
       "age                    0\n",
       "hypertension           0\n",
       "heart_disease          0\n",
       "smoking_history        0\n",
       "bmi                    0\n",
       "HbA1c_level            0\n",
       "blood_glucose_level    0\n",
       "diabetes               0\n",
       "dtype: int64"
      ]
     },
     "execution_count": 16,
     "metadata": {},
     "output_type": "execute_result"
    }
   ],
   "source": [
    "data.isnull().sum()"
   ]
  },
  {
   "cell_type": "code",
   "execution_count": 17,
   "id": "51d0c360",
   "metadata": {
    "colab": {
     "base_uri": "https://localhost:8080/"
    },
    "id": "51d0c360",
    "outputId": "9e2dffb2-2a42-42b3-f2df-df7d04dc754d"
   },
   "outputs": [
    {
     "data": {
      "text/plain": [
       "3854"
      ]
     },
     "execution_count": 17,
     "metadata": {},
     "output_type": "execute_result"
    }
   ],
   "source": [
    "data.duplicated().sum()"
   ]
  },
  {
   "cell_type": "code",
   "execution_count": 18,
   "id": "21f9be86",
   "metadata": {
    "id": "21f9be86"
   },
   "outputs": [],
   "source": [
    "data.drop_duplicates(inplace=True)"
   ]
  },
  {
   "cell_type": "code",
   "execution_count": 19,
   "id": "95d7b0c2",
   "metadata": {
    "colab": {
     "base_uri": "https://localhost:8080/",
     "height": 423
    },
    "id": "95d7b0c2",
    "outputId": "52f85f06-b871-4c66-d8ca-b5b1ac634a5a"
   },
   "outputs": [
    {
     "data": {
      "text/html": [
       "<div>\n",
       "<style scoped>\n",
       "    .dataframe tbody tr th:only-of-type {\n",
       "        vertical-align: middle;\n",
       "    }\n",
       "\n",
       "    .dataframe tbody tr th {\n",
       "        vertical-align: top;\n",
       "    }\n",
       "\n",
       "    .dataframe thead th {\n",
       "        text-align: right;\n",
       "    }\n",
       "</style>\n",
       "<table border=\"1\" class=\"dataframe\">\n",
       "  <thead>\n",
       "    <tr style=\"text-align: right;\">\n",
       "      <th></th>\n",
       "      <th>Female</th>\n",
       "      <th>Male</th>\n",
       "    </tr>\n",
       "  </thead>\n",
       "  <tbody>\n",
       "    <tr>\n",
       "      <th>0</th>\n",
       "      <td>1</td>\n",
       "      <td>0</td>\n",
       "    </tr>\n",
       "    <tr>\n",
       "      <th>1</th>\n",
       "      <td>1</td>\n",
       "      <td>0</td>\n",
       "    </tr>\n",
       "    <tr>\n",
       "      <th>2</th>\n",
       "      <td>0</td>\n",
       "      <td>1</td>\n",
       "    </tr>\n",
       "    <tr>\n",
       "      <th>3</th>\n",
       "      <td>1</td>\n",
       "      <td>0</td>\n",
       "    </tr>\n",
       "    <tr>\n",
       "      <th>4</th>\n",
       "      <td>0</td>\n",
       "      <td>1</td>\n",
       "    </tr>\n",
       "    <tr>\n",
       "      <th>...</th>\n",
       "      <td>...</td>\n",
       "      <td>...</td>\n",
       "    </tr>\n",
       "    <tr>\n",
       "      <th>99994</th>\n",
       "      <td>1</td>\n",
       "      <td>0</td>\n",
       "    </tr>\n",
       "    <tr>\n",
       "      <th>99996</th>\n",
       "      <td>1</td>\n",
       "      <td>0</td>\n",
       "    </tr>\n",
       "    <tr>\n",
       "      <th>99997</th>\n",
       "      <td>0</td>\n",
       "      <td>1</td>\n",
       "    </tr>\n",
       "    <tr>\n",
       "      <th>99998</th>\n",
       "      <td>1</td>\n",
       "      <td>0</td>\n",
       "    </tr>\n",
       "    <tr>\n",
       "      <th>99999</th>\n",
       "      <td>1</td>\n",
       "      <td>0</td>\n",
       "    </tr>\n",
       "  </tbody>\n",
       "</table>\n",
       "<p>96146 rows × 2 columns</p>\n",
       "</div>"
      ],
      "text/plain": [
       "       Female  Male\n",
       "0           1     0\n",
       "1           1     0\n",
       "2           0     1\n",
       "3           1     0\n",
       "4           0     1\n",
       "...       ...   ...\n",
       "99994       1     0\n",
       "99996       1     0\n",
       "99997       0     1\n",
       "99998       1     0\n",
       "99999       1     0\n",
       "\n",
       "[96146 rows x 2 columns]"
      ]
     },
     "execution_count": 19,
     "metadata": {},
     "output_type": "execute_result"
    }
   ],
   "source": [
    "dummy_gender=pd.get_dummies(data.gender)\n",
    "dummy_gender.drop('Other', axis=1, inplace=True)\n",
    "dummy_gender"
   ]
  },
  {
   "cell_type": "code",
   "execution_count": 20,
   "id": "5df537ac",
   "metadata": {
    "id": "5df537ac"
   },
   "outputs": [],
   "source": [
    "data.drop('gender',axis=1,inplace=True)\n",
    "data=pd.concat([data,dummy_gender],axis=1)"
   ]
  },
  {
   "cell_type": "code",
   "execution_count": 21,
   "id": "2aba2d88",
   "metadata": {
    "colab": {
     "base_uri": "https://localhost:8080/",
     "height": 206
    },
    "id": "2aba2d88",
    "outputId": "7d260be7-7e33-444f-c1eb-9e2981f763ac"
   },
   "outputs": [
    {
     "data": {
      "text/html": [
       "<div>\n",
       "<style scoped>\n",
       "    .dataframe tbody tr th:only-of-type {\n",
       "        vertical-align: middle;\n",
       "    }\n",
       "\n",
       "    .dataframe tbody tr th {\n",
       "        vertical-align: top;\n",
       "    }\n",
       "\n",
       "    .dataframe thead th {\n",
       "        text-align: right;\n",
       "    }\n",
       "</style>\n",
       "<table border=\"1\" class=\"dataframe\">\n",
       "  <thead>\n",
       "    <tr style=\"text-align: right;\">\n",
       "      <th></th>\n",
       "      <th>age</th>\n",
       "      <th>hypertension</th>\n",
       "      <th>heart_disease</th>\n",
       "      <th>smoking_history</th>\n",
       "      <th>bmi</th>\n",
       "      <th>HbA1c_level</th>\n",
       "      <th>blood_glucose_level</th>\n",
       "      <th>diabetes</th>\n",
       "      <th>Female</th>\n",
       "      <th>Male</th>\n",
       "    </tr>\n",
       "  </thead>\n",
       "  <tbody>\n",
       "    <tr>\n",
       "      <th>0</th>\n",
       "      <td>80.0</td>\n",
       "      <td>0</td>\n",
       "      <td>1</td>\n",
       "      <td>never</td>\n",
       "      <td>25.19</td>\n",
       "      <td>6.6</td>\n",
       "      <td>140</td>\n",
       "      <td>0</td>\n",
       "      <td>1</td>\n",
       "      <td>0</td>\n",
       "    </tr>\n",
       "    <tr>\n",
       "      <th>1</th>\n",
       "      <td>54.0</td>\n",
       "      <td>0</td>\n",
       "      <td>0</td>\n",
       "      <td>No Info</td>\n",
       "      <td>27.32</td>\n",
       "      <td>6.6</td>\n",
       "      <td>80</td>\n",
       "      <td>0</td>\n",
       "      <td>1</td>\n",
       "      <td>0</td>\n",
       "    </tr>\n",
       "    <tr>\n",
       "      <th>2</th>\n",
       "      <td>28.0</td>\n",
       "      <td>0</td>\n",
       "      <td>0</td>\n",
       "      <td>never</td>\n",
       "      <td>27.32</td>\n",
       "      <td>5.7</td>\n",
       "      <td>158</td>\n",
       "      <td>0</td>\n",
       "      <td>0</td>\n",
       "      <td>1</td>\n",
       "    </tr>\n",
       "    <tr>\n",
       "      <th>3</th>\n",
       "      <td>36.0</td>\n",
       "      <td>0</td>\n",
       "      <td>0</td>\n",
       "      <td>current</td>\n",
       "      <td>23.45</td>\n",
       "      <td>5.0</td>\n",
       "      <td>155</td>\n",
       "      <td>0</td>\n",
       "      <td>1</td>\n",
       "      <td>0</td>\n",
       "    </tr>\n",
       "    <tr>\n",
       "      <th>4</th>\n",
       "      <td>76.0</td>\n",
       "      <td>1</td>\n",
       "      <td>1</td>\n",
       "      <td>current</td>\n",
       "      <td>20.14</td>\n",
       "      <td>4.8</td>\n",
       "      <td>155</td>\n",
       "      <td>0</td>\n",
       "      <td>0</td>\n",
       "      <td>1</td>\n",
       "    </tr>\n",
       "  </tbody>\n",
       "</table>\n",
       "</div>"
      ],
      "text/plain": [
       "    age  hypertension  heart_disease smoking_history    bmi  HbA1c_level  \\\n",
       "0  80.0             0              1           never  25.19          6.6   \n",
       "1  54.0             0              0         No Info  27.32          6.6   \n",
       "2  28.0             0              0           never  27.32          5.7   \n",
       "3  36.0             0              0         current  23.45          5.0   \n",
       "4  76.0             1              1         current  20.14          4.8   \n",
       "\n",
       "   blood_glucose_level  diabetes  Female  Male  \n",
       "0                  140         0       1     0  \n",
       "1                   80         0       1     0  \n",
       "2                  158         0       0     1  \n",
       "3                  155         0       1     0  \n",
       "4                  155         0       0     1  "
      ]
     },
     "execution_count": 21,
     "metadata": {},
     "output_type": "execute_result"
    }
   ],
   "source": [
    "data.head()"
   ]
  },
  {
   "cell_type": "code",
   "execution_count": 22,
   "id": "1d0fb21d",
   "metadata": {
    "colab": {
     "base_uri": "https://localhost:8080/",
     "height": 423
    },
    "id": "1d0fb21d",
    "outputId": "ee330913-8a67-4980-ecbe-bfacc38c6988"
   },
   "outputs": [
    {
     "data": {
      "text/html": [
       "<div>\n",
       "<style scoped>\n",
       "    .dataframe tbody tr th:only-of-type {\n",
       "        vertical-align: middle;\n",
       "    }\n",
       "\n",
       "    .dataframe tbody tr th {\n",
       "        vertical-align: top;\n",
       "    }\n",
       "\n",
       "    .dataframe thead th {\n",
       "        text-align: right;\n",
       "    }\n",
       "</style>\n",
       "<table border=\"1\" class=\"dataframe\">\n",
       "  <thead>\n",
       "    <tr style=\"text-align: right;\">\n",
       "      <th></th>\n",
       "      <th>current</th>\n",
       "      <th>ever</th>\n",
       "      <th>former</th>\n",
       "      <th>never</th>\n",
       "      <th>not current</th>\n",
       "    </tr>\n",
       "  </thead>\n",
       "  <tbody>\n",
       "    <tr>\n",
       "      <th>0</th>\n",
       "      <td>0</td>\n",
       "      <td>0</td>\n",
       "      <td>0</td>\n",
       "      <td>1</td>\n",
       "      <td>0</td>\n",
       "    </tr>\n",
       "    <tr>\n",
       "      <th>1</th>\n",
       "      <td>0</td>\n",
       "      <td>0</td>\n",
       "      <td>0</td>\n",
       "      <td>0</td>\n",
       "      <td>0</td>\n",
       "    </tr>\n",
       "    <tr>\n",
       "      <th>2</th>\n",
       "      <td>0</td>\n",
       "      <td>0</td>\n",
       "      <td>0</td>\n",
       "      <td>1</td>\n",
       "      <td>0</td>\n",
       "    </tr>\n",
       "    <tr>\n",
       "      <th>3</th>\n",
       "      <td>1</td>\n",
       "      <td>0</td>\n",
       "      <td>0</td>\n",
       "      <td>0</td>\n",
       "      <td>0</td>\n",
       "    </tr>\n",
       "    <tr>\n",
       "      <th>4</th>\n",
       "      <td>1</td>\n",
       "      <td>0</td>\n",
       "      <td>0</td>\n",
       "      <td>0</td>\n",
       "      <td>0</td>\n",
       "    </tr>\n",
       "    <tr>\n",
       "      <th>...</th>\n",
       "      <td>...</td>\n",
       "      <td>...</td>\n",
       "      <td>...</td>\n",
       "      <td>...</td>\n",
       "      <td>...</td>\n",
       "    </tr>\n",
       "    <tr>\n",
       "      <th>99994</th>\n",
       "      <td>0</td>\n",
       "      <td>0</td>\n",
       "      <td>0</td>\n",
       "      <td>0</td>\n",
       "      <td>0</td>\n",
       "    </tr>\n",
       "    <tr>\n",
       "      <th>99996</th>\n",
       "      <td>0</td>\n",
       "      <td>0</td>\n",
       "      <td>0</td>\n",
       "      <td>0</td>\n",
       "      <td>0</td>\n",
       "    </tr>\n",
       "    <tr>\n",
       "      <th>99997</th>\n",
       "      <td>0</td>\n",
       "      <td>0</td>\n",
       "      <td>1</td>\n",
       "      <td>0</td>\n",
       "      <td>0</td>\n",
       "    </tr>\n",
       "    <tr>\n",
       "      <th>99998</th>\n",
       "      <td>0</td>\n",
       "      <td>0</td>\n",
       "      <td>0</td>\n",
       "      <td>1</td>\n",
       "      <td>0</td>\n",
       "    </tr>\n",
       "    <tr>\n",
       "      <th>99999</th>\n",
       "      <td>1</td>\n",
       "      <td>0</td>\n",
       "      <td>0</td>\n",
       "      <td>0</td>\n",
       "      <td>0</td>\n",
       "    </tr>\n",
       "  </tbody>\n",
       "</table>\n",
       "<p>96146 rows × 5 columns</p>\n",
       "</div>"
      ],
      "text/plain": [
       "       current  ever  former  never  not current\n",
       "0            0     0       0      1            0\n",
       "1            0     0       0      0            0\n",
       "2            0     0       0      1            0\n",
       "3            1     0       0      0            0\n",
       "4            1     0       0      0            0\n",
       "...        ...   ...     ...    ...          ...\n",
       "99994        0     0       0      0            0\n",
       "99996        0     0       0      0            0\n",
       "99997        0     0       1      0            0\n",
       "99998        0     0       0      1            0\n",
       "99999        1     0       0      0            0\n",
       "\n",
       "[96146 rows x 5 columns]"
      ]
     },
     "execution_count": 22,
     "metadata": {},
     "output_type": "execute_result"
    }
   ],
   "source": [
    "dummy_smoking=pd.get_dummies(data.smoking_history)\n",
    "dummy_smoking.drop('No Info', axis=1,inplace=True)\n",
    "dummy_smoking"
   ]
  },
  {
   "cell_type": "code",
   "execution_count": 23,
   "id": "22e7249c",
   "metadata": {
    "id": "22e7249c"
   },
   "outputs": [],
   "source": [
    "data.drop('smoking_history',axis=1,inplace=True)\n",
    "data=pd.concat([data,dummy_smoking],axis=1)"
   ]
  },
  {
   "cell_type": "code",
   "execution_count": 24,
   "id": "0f4375be",
   "metadata": {
    "colab": {
     "base_uri": "https://localhost:8080/",
     "height": 206
    },
    "id": "0f4375be",
    "outputId": "232a1299-0eef-49a1-9771-c0d0098b965d"
   },
   "outputs": [
    {
     "data": {
      "text/html": [
       "<div>\n",
       "<style scoped>\n",
       "    .dataframe tbody tr th:only-of-type {\n",
       "        vertical-align: middle;\n",
       "    }\n",
       "\n",
       "    .dataframe tbody tr th {\n",
       "        vertical-align: top;\n",
       "    }\n",
       "\n",
       "    .dataframe thead th {\n",
       "        text-align: right;\n",
       "    }\n",
       "</style>\n",
       "<table border=\"1\" class=\"dataframe\">\n",
       "  <thead>\n",
       "    <tr style=\"text-align: right;\">\n",
       "      <th></th>\n",
       "      <th>age</th>\n",
       "      <th>hypertension</th>\n",
       "      <th>heart_disease</th>\n",
       "      <th>bmi</th>\n",
       "      <th>HbA1c_level</th>\n",
       "      <th>blood_glucose_level</th>\n",
       "      <th>diabetes</th>\n",
       "      <th>Female</th>\n",
       "      <th>Male</th>\n",
       "      <th>current</th>\n",
       "      <th>ever</th>\n",
       "      <th>former</th>\n",
       "      <th>never</th>\n",
       "      <th>not current</th>\n",
       "    </tr>\n",
       "  </thead>\n",
       "  <tbody>\n",
       "    <tr>\n",
       "      <th>0</th>\n",
       "      <td>80.0</td>\n",
       "      <td>0</td>\n",
       "      <td>1</td>\n",
       "      <td>25.19</td>\n",
       "      <td>6.6</td>\n",
       "      <td>140</td>\n",
       "      <td>0</td>\n",
       "      <td>1</td>\n",
       "      <td>0</td>\n",
       "      <td>0</td>\n",
       "      <td>0</td>\n",
       "      <td>0</td>\n",
       "      <td>1</td>\n",
       "      <td>0</td>\n",
       "    </tr>\n",
       "    <tr>\n",
       "      <th>1</th>\n",
       "      <td>54.0</td>\n",
       "      <td>0</td>\n",
       "      <td>0</td>\n",
       "      <td>27.32</td>\n",
       "      <td>6.6</td>\n",
       "      <td>80</td>\n",
       "      <td>0</td>\n",
       "      <td>1</td>\n",
       "      <td>0</td>\n",
       "      <td>0</td>\n",
       "      <td>0</td>\n",
       "      <td>0</td>\n",
       "      <td>0</td>\n",
       "      <td>0</td>\n",
       "    </tr>\n",
       "    <tr>\n",
       "      <th>2</th>\n",
       "      <td>28.0</td>\n",
       "      <td>0</td>\n",
       "      <td>0</td>\n",
       "      <td>27.32</td>\n",
       "      <td>5.7</td>\n",
       "      <td>158</td>\n",
       "      <td>0</td>\n",
       "      <td>0</td>\n",
       "      <td>1</td>\n",
       "      <td>0</td>\n",
       "      <td>0</td>\n",
       "      <td>0</td>\n",
       "      <td>1</td>\n",
       "      <td>0</td>\n",
       "    </tr>\n",
       "    <tr>\n",
       "      <th>3</th>\n",
       "      <td>36.0</td>\n",
       "      <td>0</td>\n",
       "      <td>0</td>\n",
       "      <td>23.45</td>\n",
       "      <td>5.0</td>\n",
       "      <td>155</td>\n",
       "      <td>0</td>\n",
       "      <td>1</td>\n",
       "      <td>0</td>\n",
       "      <td>1</td>\n",
       "      <td>0</td>\n",
       "      <td>0</td>\n",
       "      <td>0</td>\n",
       "      <td>0</td>\n",
       "    </tr>\n",
       "    <tr>\n",
       "      <th>4</th>\n",
       "      <td>76.0</td>\n",
       "      <td>1</td>\n",
       "      <td>1</td>\n",
       "      <td>20.14</td>\n",
       "      <td>4.8</td>\n",
       "      <td>155</td>\n",
       "      <td>0</td>\n",
       "      <td>0</td>\n",
       "      <td>1</td>\n",
       "      <td>1</td>\n",
       "      <td>0</td>\n",
       "      <td>0</td>\n",
       "      <td>0</td>\n",
       "      <td>0</td>\n",
       "    </tr>\n",
       "  </tbody>\n",
       "</table>\n",
       "</div>"
      ],
      "text/plain": [
       "    age  hypertension  heart_disease    bmi  HbA1c_level  blood_glucose_level  \\\n",
       "0  80.0             0              1  25.19          6.6                  140   \n",
       "1  54.0             0              0  27.32          6.6                   80   \n",
       "2  28.0             0              0  27.32          5.7                  158   \n",
       "3  36.0             0              0  23.45          5.0                  155   \n",
       "4  76.0             1              1  20.14          4.8                  155   \n",
       "\n",
       "   diabetes  Female  Male  current  ever  former  never  not current  \n",
       "0         0       1     0        0     0       0      1            0  \n",
       "1         0       1     0        0     0       0      0            0  \n",
       "2         0       0     1        0     0       0      1            0  \n",
       "3         0       1     0        1     0       0      0            0  \n",
       "4         0       0     1        1     0       0      0            0  "
      ]
     },
     "execution_count": 24,
     "metadata": {},
     "output_type": "execute_result"
    }
   ],
   "source": [
    "data.head()"
   ]
  },
  {
   "cell_type": "markdown",
   "id": "dcd14f87",
   "metadata": {
    "id": "dcd14f87"
   },
   "source": [
    "# Train-Test Split"
   ]
  },
  {
   "cell_type": "code",
   "execution_count": 25,
   "id": "cf3f91e5",
   "metadata": {
    "id": "cf3f91e5"
   },
   "outputs": [],
   "source": [
    "X=data.drop('diabetes',axis=1)\n",
    "y=data.diabetes"
   ]
  },
  {
   "cell_type": "code",
   "execution_count": 26,
   "id": "9ad12b65",
   "metadata": {},
   "outputs": [
    {
     "data": {
      "text/html": [
       "<div>\n",
       "<style scoped>\n",
       "    .dataframe tbody tr th:only-of-type {\n",
       "        vertical-align: middle;\n",
       "    }\n",
       "\n",
       "    .dataframe tbody tr th {\n",
       "        vertical-align: top;\n",
       "    }\n",
       "\n",
       "    .dataframe thead th {\n",
       "        text-align: right;\n",
       "    }\n",
       "</style>\n",
       "<table border=\"1\" class=\"dataframe\">\n",
       "  <thead>\n",
       "    <tr style=\"text-align: right;\">\n",
       "      <th></th>\n",
       "      <th>age</th>\n",
       "      <th>hypertension</th>\n",
       "      <th>heart_disease</th>\n",
       "      <th>bmi</th>\n",
       "      <th>HbA1c_level</th>\n",
       "      <th>blood_glucose_level</th>\n",
       "      <th>Female</th>\n",
       "      <th>Male</th>\n",
       "      <th>current</th>\n",
       "      <th>ever</th>\n",
       "      <th>former</th>\n",
       "      <th>never</th>\n",
       "      <th>not current</th>\n",
       "    </tr>\n",
       "  </thead>\n",
       "  <tbody>\n",
       "    <tr>\n",
       "      <th>0</th>\n",
       "      <td>80.0</td>\n",
       "      <td>0</td>\n",
       "      <td>1</td>\n",
       "      <td>25.19</td>\n",
       "      <td>6.6</td>\n",
       "      <td>140</td>\n",
       "      <td>1</td>\n",
       "      <td>0</td>\n",
       "      <td>0</td>\n",
       "      <td>0</td>\n",
       "      <td>0</td>\n",
       "      <td>1</td>\n",
       "      <td>0</td>\n",
       "    </tr>\n",
       "    <tr>\n",
       "      <th>1</th>\n",
       "      <td>54.0</td>\n",
       "      <td>0</td>\n",
       "      <td>0</td>\n",
       "      <td>27.32</td>\n",
       "      <td>6.6</td>\n",
       "      <td>80</td>\n",
       "      <td>1</td>\n",
       "      <td>0</td>\n",
       "      <td>0</td>\n",
       "      <td>0</td>\n",
       "      <td>0</td>\n",
       "      <td>0</td>\n",
       "      <td>0</td>\n",
       "    </tr>\n",
       "    <tr>\n",
       "      <th>2</th>\n",
       "      <td>28.0</td>\n",
       "      <td>0</td>\n",
       "      <td>0</td>\n",
       "      <td>27.32</td>\n",
       "      <td>5.7</td>\n",
       "      <td>158</td>\n",
       "      <td>0</td>\n",
       "      <td>1</td>\n",
       "      <td>0</td>\n",
       "      <td>0</td>\n",
       "      <td>0</td>\n",
       "      <td>1</td>\n",
       "      <td>0</td>\n",
       "    </tr>\n",
       "    <tr>\n",
       "      <th>3</th>\n",
       "      <td>36.0</td>\n",
       "      <td>0</td>\n",
       "      <td>0</td>\n",
       "      <td>23.45</td>\n",
       "      <td>5.0</td>\n",
       "      <td>155</td>\n",
       "      <td>1</td>\n",
       "      <td>0</td>\n",
       "      <td>1</td>\n",
       "      <td>0</td>\n",
       "      <td>0</td>\n",
       "      <td>0</td>\n",
       "      <td>0</td>\n",
       "    </tr>\n",
       "    <tr>\n",
       "      <th>4</th>\n",
       "      <td>76.0</td>\n",
       "      <td>1</td>\n",
       "      <td>1</td>\n",
       "      <td>20.14</td>\n",
       "      <td>4.8</td>\n",
       "      <td>155</td>\n",
       "      <td>0</td>\n",
       "      <td>1</td>\n",
       "      <td>1</td>\n",
       "      <td>0</td>\n",
       "      <td>0</td>\n",
       "      <td>0</td>\n",
       "      <td>0</td>\n",
       "    </tr>\n",
       "  </tbody>\n",
       "</table>\n",
       "</div>"
      ],
      "text/plain": [
       "    age  hypertension  heart_disease    bmi  HbA1c_level  blood_glucose_level  \\\n",
       "0  80.0             0              1  25.19          6.6                  140   \n",
       "1  54.0             0              0  27.32          6.6                   80   \n",
       "2  28.0             0              0  27.32          5.7                  158   \n",
       "3  36.0             0              0  23.45          5.0                  155   \n",
       "4  76.0             1              1  20.14          4.8                  155   \n",
       "\n",
       "   Female  Male  current  ever  former  never  not current  \n",
       "0       1     0        0     0       0      1            0  \n",
       "1       1     0        0     0       0      0            0  \n",
       "2       0     1        0     0       0      1            0  \n",
       "3       1     0        1     0       0      0            0  \n",
       "4       0     1        1     0       0      0            0  "
      ]
     },
     "execution_count": 26,
     "metadata": {},
     "output_type": "execute_result"
    }
   ],
   "source": [
    "X.head()"
   ]
  },
  {
   "cell_type": "code",
   "execution_count": 27,
   "id": "8d021572",
   "metadata": {},
   "outputs": [
    {
     "data": {
      "text/plain": [
       "0    0\n",
       "1    0\n",
       "2    0\n",
       "3    0\n",
       "4    0\n",
       "Name: diabetes, dtype: int64"
      ]
     },
     "execution_count": 27,
     "metadata": {},
     "output_type": "execute_result"
    }
   ],
   "source": [
    "y.head()"
   ]
  },
  {
   "cell_type": "code",
   "execution_count": 28,
   "id": "c7b8dc38",
   "metadata": {
    "id": "c7b8dc38"
   },
   "outputs": [],
   "source": [
    "from sklearn.model_selection import train_test_split\n",
    "X_train,X_test,y_train,y_test=train_test_split(X,y,test_size=0.25)"
   ]
  },
  {
   "cell_type": "markdown",
   "id": "2b758d55",
   "metadata": {
    "id": "2b758d55"
   },
   "source": [
    "# Model Selection"
   ]
  },
  {
   "cell_type": "code",
   "execution_count": 29,
   "id": "7ca997a2",
   "metadata": {
    "id": "7ca997a2"
   },
   "outputs": [],
   "source": [
    "from sklearn.metrics import classification_report, f1_score, accuracy_score, recall_score, precision_score, confusion_matrix\n",
    "metric=pd.DataFrame({})"
   ]
  },
  {
   "cell_type": "markdown",
   "id": "b5c01de9",
   "metadata": {
    "id": "b5c01de9"
   },
   "source": [
    "* ## Logistic Regression"
   ]
  },
  {
   "cell_type": "code",
   "execution_count": 30,
   "id": "2b98e9af",
   "metadata": {
    "id": "2b98e9af"
   },
   "outputs": [],
   "source": [
    "from sklearn.linear_model import LogisticRegression"
   ]
  },
  {
   "cell_type": "code",
   "execution_count": 31,
   "id": "aa07a1dc",
   "metadata": {
    "id": "aa07a1dc"
   },
   "outputs": [],
   "source": [
    "LR=LogisticRegression()"
   ]
  },
  {
   "cell_type": "code",
   "execution_count": 32,
   "id": "80bdcdbb",
   "metadata": {
    "colab": {
     "base_uri": "https://localhost:8080/",
     "height": 74
    },
    "id": "80bdcdbb",
    "outputId": "c7003623-d5f5-4bb8-a276-3e1ed009fcfa"
   },
   "outputs": [
    {
     "data": {
      "text/html": [
       "<style>#sk-container-id-1 {color: black;background-color: white;}#sk-container-id-1 pre{padding: 0;}#sk-container-id-1 div.sk-toggleable {background-color: white;}#sk-container-id-1 label.sk-toggleable__label {cursor: pointer;display: block;width: 100%;margin-bottom: 0;padding: 0.3em;box-sizing: border-box;text-align: center;}#sk-container-id-1 label.sk-toggleable__label-arrow:before {content: \"▸\";float: left;margin-right: 0.25em;color: #696969;}#sk-container-id-1 label.sk-toggleable__label-arrow:hover:before {color: black;}#sk-container-id-1 div.sk-estimator:hover label.sk-toggleable__label-arrow:before {color: black;}#sk-container-id-1 div.sk-toggleable__content {max-height: 0;max-width: 0;overflow: hidden;text-align: left;background-color: #f0f8ff;}#sk-container-id-1 div.sk-toggleable__content pre {margin: 0.2em;color: black;border-radius: 0.25em;background-color: #f0f8ff;}#sk-container-id-1 input.sk-toggleable__control:checked~div.sk-toggleable__content {max-height: 200px;max-width: 100%;overflow: auto;}#sk-container-id-1 input.sk-toggleable__control:checked~label.sk-toggleable__label-arrow:before {content: \"▾\";}#sk-container-id-1 div.sk-estimator input.sk-toggleable__control:checked~label.sk-toggleable__label {background-color: #d4ebff;}#sk-container-id-1 div.sk-label input.sk-toggleable__control:checked~label.sk-toggleable__label {background-color: #d4ebff;}#sk-container-id-1 input.sk-hidden--visually {border: 0;clip: rect(1px 1px 1px 1px);clip: rect(1px, 1px, 1px, 1px);height: 1px;margin: -1px;overflow: hidden;padding: 0;position: absolute;width: 1px;}#sk-container-id-1 div.sk-estimator {font-family: monospace;background-color: #f0f8ff;border: 1px dotted black;border-radius: 0.25em;box-sizing: border-box;margin-bottom: 0.5em;}#sk-container-id-1 div.sk-estimator:hover {background-color: #d4ebff;}#sk-container-id-1 div.sk-parallel-item::after {content: \"\";width: 100%;border-bottom: 1px solid gray;flex-grow: 1;}#sk-container-id-1 div.sk-label:hover label.sk-toggleable__label {background-color: #d4ebff;}#sk-container-id-1 div.sk-serial::before {content: \"\";position: absolute;border-left: 1px solid gray;box-sizing: border-box;top: 0;bottom: 0;left: 50%;z-index: 0;}#sk-container-id-1 div.sk-serial {display: flex;flex-direction: column;align-items: center;background-color: white;padding-right: 0.2em;padding-left: 0.2em;position: relative;}#sk-container-id-1 div.sk-item {position: relative;z-index: 1;}#sk-container-id-1 div.sk-parallel {display: flex;align-items: stretch;justify-content: center;background-color: white;position: relative;}#sk-container-id-1 div.sk-item::before, #sk-container-id-1 div.sk-parallel-item::before {content: \"\";position: absolute;border-left: 1px solid gray;box-sizing: border-box;top: 0;bottom: 0;left: 50%;z-index: -1;}#sk-container-id-1 div.sk-parallel-item {display: flex;flex-direction: column;z-index: 1;position: relative;background-color: white;}#sk-container-id-1 div.sk-parallel-item:first-child::after {align-self: flex-end;width: 50%;}#sk-container-id-1 div.sk-parallel-item:last-child::after {align-self: flex-start;width: 50%;}#sk-container-id-1 div.sk-parallel-item:only-child::after {width: 0;}#sk-container-id-1 div.sk-dashed-wrapped {border: 1px dashed gray;margin: 0 0.4em 0.5em 0.4em;box-sizing: border-box;padding-bottom: 0.4em;background-color: white;}#sk-container-id-1 div.sk-label label {font-family: monospace;font-weight: bold;display: inline-block;line-height: 1.2em;}#sk-container-id-1 div.sk-label-container {text-align: center;}#sk-container-id-1 div.sk-container {/* jupyter's `normalize.less` sets `[hidden] { display: none; }` but bootstrap.min.css set `[hidden] { display: none !important; }` so we also need the `!important` here to be able to override the default hidden behavior on the sphinx rendered scikit-learn.org. See: https://github.com/scikit-learn/scikit-learn/issues/21755 */display: inline-block !important;position: relative;}#sk-container-id-1 div.sk-text-repr-fallback {display: none;}</style><div id=\"sk-container-id-1\" class=\"sk-top-container\"><div class=\"sk-text-repr-fallback\"><pre>LogisticRegression()</pre><b>In a Jupyter environment, please rerun this cell to show the HTML representation or trust the notebook. <br />On GitHub, the HTML representation is unable to render, please try loading this page with nbviewer.org.</b></div><div class=\"sk-container\" hidden><div class=\"sk-item\"><div class=\"sk-estimator sk-toggleable\"><input class=\"sk-toggleable__control sk-hidden--visually\" id=\"sk-estimator-id-1\" type=\"checkbox\" checked><label for=\"sk-estimator-id-1\" class=\"sk-toggleable__label sk-toggleable__label-arrow\">LogisticRegression</label><div class=\"sk-toggleable__content\"><pre>LogisticRegression()</pre></div></div></div></div></div>"
      ],
      "text/plain": [
       "LogisticRegression()"
      ]
     },
     "execution_count": 32,
     "metadata": {},
     "output_type": "execute_result"
    }
   ],
   "source": [
    "LR.fit(X_train,y_train)"
   ]
  },
  {
   "cell_type": "code",
   "execution_count": 33,
   "id": "9009fdef",
   "metadata": {
    "id": "9009fdef"
   },
   "outputs": [],
   "source": [
    "y_pred_test=LR.predict(X_test)\n",
    "y_pred_train=LR.predict(X_train)"
   ]
  },
  {
   "cell_type": "code",
   "execution_count": 34,
   "id": "22f3764d",
   "metadata": {
    "colab": {
     "base_uri": "https://localhost:8080/"
    },
    "id": "22f3764d",
    "outputId": "011f7c46-e9f1-4895-8dee-3d18ba56dd09"
   },
   "outputs": [
    {
     "name": "stdout",
     "output_type": "stream",
     "text": [
      "              precision    recall  f1-score   support\n",
      "\n",
      "           0       0.96      0.99      0.98     21925\n",
      "           1       0.86      0.62      0.72      2112\n",
      "\n",
      "    accuracy                           0.96     24037\n",
      "   macro avg       0.91      0.80      0.85     24037\n",
      "weighted avg       0.95      0.96      0.95     24037\n",
      "\n"
     ]
    }
   ],
   "source": [
    "print(classification_report(y_test,y_pred_test))"
   ]
  },
  {
   "cell_type": "code",
   "execution_count": 35,
   "id": "079c81a3",
   "metadata": {
    "colab": {
     "base_uri": "https://localhost:8080/"
    },
    "id": "079c81a3",
    "outputId": "84d2cf9b-1fef-449a-ea7d-2b6c0f155080"
   },
   "outputs": [
    {
     "name": "stdout",
     "output_type": "stream",
     "text": [
      "Training Accuracy : 0.958174430376236\n",
      "Testing Accuracy : 0.9575654199775346\n",
      "F1 Score : 0.7193175564116676\n",
      "Recall : 0.618844696969697\n",
      "Precision : 0.8587385019710907\n"
     ]
    }
   ],
   "source": [
    "train_acc=accuracy_score(y_train,y_pred_train)\n",
    "test_acc=accuracy_score(y_test,y_pred_test)\n",
    "recal=recall_score(y_test,y_pred_test)\n",
    "prec=precision_score(y_test,y_pred_test)\n",
    "f1=f1_score(y_test,y_pred_test)\n",
    "print(\"Training Accuracy :\", train_acc)\n",
    "print(\"Testing Accuracy :\", test_acc)\n",
    "print(\"F1 Score :\", f1)\n",
    "print(\"Recall :\", recal)\n",
    "print(\"Precision :\", prec)"
   ]
  },
  {
   "cell_type": "code",
   "execution_count": 36,
   "id": "2a63f6b0",
   "metadata": {
    "id": "2a63f6b0"
   },
   "outputs": [],
   "source": [
    "metric[\"Logistic Regression\"]={\"Training_Accuracy\":train_acc, \"Testing Accuracy\":test_acc, \"f1 score\":f1, \"Recall\":recal, \"Precision\":prec}"
   ]
  },
  {
   "cell_type": "code",
   "execution_count": 37,
   "id": "ftqY1RwGarYC",
   "metadata": {
    "id": "ftqY1RwGarYC"
   },
   "outputs": [
    {
     "data": {
      "image/png": "[encoded data removed]",
      "text/plain": [
       "<Figure size 500x300 with 2 Axes>"
      ]
     },
     "metadata": {},
     "output_type": "display_data"
    }
   ],
   "source": [
    "conf_matrix = pd.DataFrame(data = confusion_matrix(y_test,y_pred_test),\n",
    "                           columns = ['Predicted:0', 'Predicted:1'],\n",
    "                           index =['Actual:0', 'Actual:1'])\n",
    "plt.figure(figsize = (5, 3))\n",
    "sns.heatmap(conf_matrix, annot = True, fmt = 'd')\n",
    "plt.show()"
   ]
  },
  {
   "cell_type": "markdown",
   "id": "4ac78a06",
   "metadata": {
    "id": "4ac78a06"
   },
   "source": [
    "* ## Support Vector Machine"
   ]
  },
  {
   "cell_type": "code",
   "execution_count": 38,
   "id": "7d911e9e",
   "metadata": {},
   "outputs": [],
   "source": [
    "from sklearn.svm import LinearSVC"
   ]
  },
  {
   "cell_type": "code",
   "execution_count": 39,
   "id": "5232ee20",
   "metadata": {},
   "outputs": [],
   "source": [
    "sv=LinearSVC()"
   ]
  },
  {
   "cell_type": "code",
   "execution_count": 40,
   "id": "5977f576",
   "metadata": {},
   "outputs": [
    {
     "data": {
      "text/html": [
       "<style>#sk-container-id-2 {color: black;background-color: white;}#sk-container-id-2 pre{padding: 0;}#sk-container-id-2 div.sk-toggleable {background-color: white;}#sk-container-id-2 label.sk-toggleable__label {cursor: pointer;display: block;width: 100%;margin-bottom: 0;padding: 0.3em;box-sizing: border-box;text-align: center;}#sk-container-id-2 label.sk-toggleable__label-arrow:before {content: \"▸\";float: left;margin-right: 0.25em;color: #696969;}#sk-container-id-2 label.sk-toggleable__label-arrow:hover:before {color: black;}#sk-container-id-2 div.sk-estimator:hover label.sk-toggleable__label-arrow:before {color: black;}#sk-container-id-2 div.sk-toggleable__content {max-height: 0;max-width: 0;overflow: hidden;text-align: left;background-color: #f0f8ff;}#sk-container-id-2 div.sk-toggleable__content pre {margin: 0.2em;color: black;border-radius: 0.25em;background-color: #f0f8ff;}#sk-container-id-2 input.sk-toggleable__control:checked~div.sk-toggleable__content {max-height: 200px;max-width: 100%;overflow: auto;}#sk-container-id-2 input.sk-toggleable__control:checked~label.sk-toggleable__label-arrow:before {content: \"▾\";}#sk-container-id-2 div.sk-estimator input.sk-toggleable__control:checked~label.sk-toggleable__label {background-color: #d4ebff;}#sk-container-id-2 div.sk-label input.sk-toggleable__control:checked~label.sk-toggleable__label {background-color: #d4ebff;}#sk-container-id-2 input.sk-hidden--visually {border: 0;clip: rect(1px 1px 1px 1px);clip: rect(1px, 1px, 1px, 1px);height: 1px;margin: -1px;overflow: hidden;padding: 0;position: absolute;width: 1px;}#sk-container-id-2 div.sk-estimator {font-family: monospace;background-color: #f0f8ff;border: 1px dotted black;border-radius: 0.25em;box-sizing: border-box;margin-bottom: 0.5em;}#sk-container-id-2 div.sk-estimator:hover {background-color: #d4ebff;}#sk-container-id-2 div.sk-parallel-item::after {content: \"\";width: 100%;border-bottom: 1px solid gray;flex-grow: 1;}#sk-container-id-2 div.sk-label:hover label.sk-toggleable__label {background-color: #d4ebff;}#sk-container-id-2 div.sk-serial::before {content: \"\";position: absolute;border-left: 1px solid gray;box-sizing: border-box;top: 0;bottom: 0;left: 50%;z-index: 0;}#sk-container-id-2 div.sk-serial {display: flex;flex-direction: column;align-items: center;background-color: white;padding-right: 0.2em;padding-left: 0.2em;position: relative;}#sk-container-id-2 div.sk-item {position: relative;z-index: 1;}#sk-container-id-2 div.sk-parallel {display: flex;align-items: stretch;justify-content: center;background-color: white;position: relative;}#sk-container-id-2 div.sk-item::before, #sk-container-id-2 div.sk-parallel-item::before {content: \"\";position: absolute;border-left: 1px solid gray;box-sizing: border-box;top: 0;bottom: 0;left: 50%;z-index: -1;}#sk-container-id-2 div.sk-parallel-item {display: flex;flex-direction: column;z-index: 1;position: relative;background-color: white;}#sk-container-id-2 div.sk-parallel-item:first-child::after {align-self: flex-end;width: 50%;}#sk-container-id-2 div.sk-parallel-item:last-child::after {align-self: flex-start;width: 50%;}#sk-container-id-2 div.sk-parallel-item:only-child::after {width: 0;}#sk-container-id-2 div.sk-dashed-wrapped {border: 1px dashed gray;margin: 0 0.4em 0.5em 0.4em;box-sizing: border-box;padding-bottom: 0.4em;background-color: white;}#sk-container-id-2 div.sk-label label {font-family: monospace;font-weight: bold;display: inline-block;line-height: 1.2em;}#sk-container-id-2 div.sk-label-container {text-align: center;}#sk-container-id-2 div.sk-container {/* jupyter's `normalize.less` sets `[hidden] { display: none; }` but bootstrap.min.css set `[hidden] { display: none !important; }` so we also need the `!important` here to be able to override the default hidden behavior on the sphinx rendered scikit-learn.org. See: https://github.com/scikit-learn/scikit-learn/issues/21755 */display: inline-block !important;position: relative;}#sk-container-id-2 div.sk-text-repr-fallback {display: none;}</style><div id=\"sk-container-id-2\" class=\"sk-top-container\"><div class=\"sk-text-repr-fallback\"><pre>LinearSVC()</pre><b>In a Jupyter environment, please rerun this cell to show the HTML representation or trust the notebook. <br />On GitHub, the HTML representation is unable to render, please try loading this page with nbviewer.org.</b></div><div class=\"sk-container\" hidden><div class=\"sk-item\"><div class=\"sk-estimator sk-toggleable\"><input class=\"sk-toggleable__control sk-hidden--visually\" id=\"sk-estimator-id-2\" type=\"checkbox\" checked><label for=\"sk-estimator-id-2\" class=\"sk-toggleable__label sk-toggleable__label-arrow\">LinearSVC</label><div class=\"sk-toggleable__content\"><pre>LinearSVC()</pre></div></div></div></div></div>"
      ],
      "text/plain": [
       "LinearSVC()"
      ]
     },
     "execution_count": 40,
     "metadata": {},
     "output_type": "execute_result"
    }
   ],
   "source": [
    "sv.fit(X_train,y_train)"
   ]
  },
  {
   "cell_type": "code",
   "execution_count": 41,
   "id": "d61313d6",
   "metadata": {},
   "outputs": [],
   "source": [
    "y_pred_test=sv.predict(X_test)\n",
    "y_pred_train=sv.predict(X_train)"
   ]
  },
  {
   "cell_type": "code",
   "execution_count": 42,
   "id": "4d85c185",
   "metadata": {
    "colab": {
     "base_uri": "https://localhost:8080/"
    },
    "id": "22f3764d",
    "outputId": "011f7c46-e9f1-4895-8dee-3d18ba56dd09"
   },
   "outputs": [
    {
     "name": "stdout",
     "output_type": "stream",
     "text": [
      "              precision    recall  f1-score   support\n",
      "\n",
      "           0       1.00      0.76      0.86     21925\n",
      "           1       0.28      0.96      0.43      2112\n",
      "\n",
      "    accuracy                           0.78     24037\n",
      "   macro avg       0.64      0.86      0.65     24037\n",
      "weighted avg       0.93      0.78      0.82     24037\n",
      "\n"
     ]
    }
   ],
   "source": [
    "print(classification_report(y_test,y_pred_test))"
   ]
  },
  {
   "cell_type": "code",
   "execution_count": 43,
   "id": "8fe6d0e3",
   "metadata": {
    "colab": {
     "base_uri": "https://localhost:8080/"
    },
    "id": "079c81a3",
    "outputId": "84d2cf9b-1fef-449a-ea7d-2b6c0f155080"
   },
   "outputs": [
    {
     "name": "stdout",
     "output_type": "stream",
     "text": [
      "Training Accuracy : 0.7752985064277691\n",
      "Testing Accuracy : 0.776386404293381\n",
      "F1 Score : 0.4304334004450567\n",
      "Recall : 0.9616477272727273\n",
      "Precision : 0.27726962457337884\n"
     ]
    }
   ],
   "source": [
    "train_acc=accuracy_score(y_train,y_pred_train)\n",
    "test_acc=accuracy_score(y_test,y_pred_test)\n",
    "recal=recall_score(y_test,y_pred_test)\n",
    "prec=precision_score(y_test,y_pred_test)\n",
    "f1=f1_score(y_test,y_pred_test)\n",
    "print(\"Training Accuracy :\", train_acc)\n",
    "print(\"Testing Accuracy :\", test_acc)\n",
    "print(\"F1 Score :\", f1)\n",
    "print(\"Recall :\", recal)\n",
    "print(\"Precision :\", prec)"
   ]
  },
  {
   "cell_type": "code",
   "execution_count": 44,
   "id": "7fffd0a8",
   "metadata": {
    "id": "2a63f6b0"
   },
   "outputs": [],
   "source": [
    "metric[\"Support Vector Machine\"]={\"Training_Accuracy\":train_acc, \"Testing Accuracy\":test_acc, \"f1 score\":f1, \"Recall\":recal, \"Precision\":prec}"
   ]
  },
  {
   "cell_type": "code",
   "execution_count": 45,
   "id": "a383c412",
   "metadata": {},
   "outputs": [
    {
     "data": {
      "image/png": "[encoded data removed]",
      "text/plain": [
       "<Figure size 500x300 with 2 Axes>"
      ]
     },
     "metadata": {},
     "output_type": "display_data"
    }
   ],
   "source": [
    "conf_matrix = pd.DataFrame(data = confusion_matrix(y_test,y_pred_test),\n",
    "                           columns = ['Predicted:0', 'Predicted:1'],\n",
    "                           index =['Actual:0', 'Actual:1'])\n",
    "plt.figure(figsize = (5, 3))\n",
    "sns.heatmap(conf_matrix, annot = True, fmt = 'd')\n",
    "plt.show()"
   ]
  },
  {
   "cell_type": "markdown",
   "id": "e8f7593f",
   "metadata": {
    "id": "e8f7593f"
   },
   "source": [
    "* ## Navies Bayes"
   ]
  },
  {
   "cell_type": "code",
   "execution_count": 46,
   "id": "ac3ec74b",
   "metadata": {},
   "outputs": [],
   "source": [
    "from sklearn.naive_bayes import GaussianNB"
   ]
  },
  {
   "cell_type": "code",
   "execution_count": 47,
   "id": "bd077159",
   "metadata": {},
   "outputs": [],
   "source": [
    "NB=GaussianNB()"
   ]
  },
  {
   "cell_type": "code",
   "execution_count": 48,
   "id": "aacaf635",
   "metadata": {},
   "outputs": [
    {
     "data": {
      "text/html": [
       "<style>#sk-container-id-3 {color: black;background-color: white;}#sk-container-id-3 pre{padding: 0;}#sk-container-id-3 div.sk-toggleable {background-color: white;}#sk-container-id-3 label.sk-toggleable__label {cursor: pointer;display: block;width: 100%;margin-bottom: 0;padding: 0.3em;box-sizing: border-box;text-align: center;}#sk-container-id-3 label.sk-toggleable__label-arrow:before {content: \"▸\";float: left;margin-right: 0.25em;color: #696969;}#sk-container-id-3 label.sk-toggleable__label-arrow:hover:before {color: black;}#sk-container-id-3 div.sk-estimator:hover label.sk-toggleable__label-arrow:before {color: black;}#sk-container-id-3 div.sk-toggleable__content {max-height: 0;max-width: 0;overflow: hidden;text-align: left;background-color: #f0f8ff;}#sk-container-id-3 div.sk-toggleable__content pre {margin: 0.2em;color: black;border-radius: 0.25em;background-color: #f0f8ff;}#sk-container-id-3 input.sk-toggleable__control:checked~div.sk-toggleable__content {max-height: 200px;max-width: 100%;overflow: auto;}#sk-container-id-3 input.sk-toggleable__control:checked~label.sk-toggleable__label-arrow:before {content: \"▾\";}#sk-container-id-3 div.sk-estimator input.sk-toggleable__control:checked~label.sk-toggleable__label {background-color: #d4ebff;}#sk-container-id-3 div.sk-label input.sk-toggleable__control:checked~label.sk-toggleable__label {background-color: #d4ebff;}#sk-container-id-3 input.sk-hidden--visually {border: 0;clip: rect(1px 1px 1px 1px);clip: rect(1px, 1px, 1px, 1px);height: 1px;margin: -1px;overflow: hidden;padding: 0;position: absolute;width: 1px;}#sk-container-id-3 div.sk-estimator {font-family: monospace;background-color: #f0f8ff;border: 1px dotted black;border-radius: 0.25em;box-sizing: border-box;margin-bottom: 0.5em;}#sk-container-id-3 div.sk-estimator:hover {background-color: #d4ebff;}#sk-container-id-3 div.sk-parallel-item::after {content: \"\";width: 100%;border-bottom: 1px solid gray;flex-grow: 1;}#sk-container-id-3 div.sk-label:hover label.sk-toggleable__label {background-color: #d4ebff;}#sk-container-id-3 div.sk-serial::before {content: \"\";position: absolute;border-left: 1px solid gray;box-sizing: border-box;top: 0;bottom: 0;left: 50%;z-index: 0;}#sk-container-id-3 div.sk-serial {display: flex;flex-direction: column;align-items: center;background-color: white;padding-right: 0.2em;padding-left: 0.2em;position: relative;}#sk-container-id-3 div.sk-item {position: relative;z-index: 1;}#sk-container-id-3 div.sk-parallel {display: flex;align-items: stretch;justify-content: center;background-color: white;position: relative;}#sk-container-id-3 div.sk-item::before, #sk-container-id-3 div.sk-parallel-item::before {content: \"\";position: absolute;border-left: 1px solid gray;box-sizing: border-box;top: 0;bottom: 0;left: 50%;z-index: -1;}#sk-container-id-3 div.sk-parallel-item {display: flex;flex-direction: column;z-index: 1;position: relative;background-color: white;}#sk-container-id-3 div.sk-parallel-item:first-child::after {align-self: flex-end;width: 50%;}#sk-container-id-3 div.sk-parallel-item:last-child::after {align-self: flex-start;width: 50%;}#sk-container-id-3 div.sk-parallel-item:only-child::after {width: 0;}#sk-container-id-3 div.sk-dashed-wrapped {border: 1px dashed gray;margin: 0 0.4em 0.5em 0.4em;box-sizing: border-box;padding-bottom: 0.4em;background-color: white;}#sk-container-id-3 div.sk-label label {font-family: monospace;font-weight: bold;display: inline-block;line-height: 1.2em;}#sk-container-id-3 div.sk-label-container {text-align: center;}#sk-container-id-3 div.sk-container {/* jupyter's `normalize.less` sets `[hidden] { display: none; }` but bootstrap.min.css set `[hidden] { display: none !important; }` so we also need the `!important` here to be able to override the default hidden behavior on the sphinx rendered scikit-learn.org. See: https://github.com/scikit-learn/scikit-learn/issues/21755 */display: inline-block !important;position: relative;}#sk-container-id-3 div.sk-text-repr-fallback {display: none;}</style><div id=\"sk-container-id-3\" class=\"sk-top-container\"><div class=\"sk-text-repr-fallback\"><pre>GaussianNB()</pre><b>In a Jupyter environment, please rerun this cell to show the HTML representation or trust the notebook. <br />On GitHub, the HTML representation is unable to render, please try loading this page with nbviewer.org.</b></div><div class=\"sk-container\" hidden><div class=\"sk-item\"><div class=\"sk-estimator sk-toggleable\"><input class=\"sk-toggleable__control sk-hidden--visually\" id=\"sk-estimator-id-3\" type=\"checkbox\" checked><label for=\"sk-estimator-id-3\" class=\"sk-toggleable__label sk-toggleable__label-arrow\">GaussianNB</label><div class=\"sk-toggleable__content\"><pre>GaussianNB()</pre></div></div></div></div></div>"
      ],
      "text/plain": [
       "GaussianNB()"
      ]
     },
     "execution_count": 48,
     "metadata": {},
     "output_type": "execute_result"
    }
   ],
   "source": [
    "NB.fit(X_train,y_train)"
   ]
  },
  {
   "cell_type": "code",
   "execution_count": 49,
   "id": "588f0175",
   "metadata": {},
   "outputs": [],
   "source": [
    "y_pred_test=NB.predict(X_test)\n",
    "y_pred_train=NB.predict(X_train)"
   ]
  },
  {
   "cell_type": "code",
   "execution_count": 50,
   "id": "0bbbdbc3",
   "metadata": {
    "colab": {
     "base_uri": "https://localhost:8080/"
    },
    "id": "22f3764d",
    "outputId": "011f7c46-e9f1-4895-8dee-3d18ba56dd09"
   },
   "outputs": [
    {
     "name": "stdout",
     "output_type": "stream",
     "text": [
      "              precision    recall  f1-score   support\n",
      "\n",
      "           0       0.96      0.93      0.95     21925\n",
      "           1       0.46      0.65      0.54      2112\n",
      "\n",
      "    accuracy                           0.90     24037\n",
      "   macro avg       0.71      0.79      0.74     24037\n",
      "weighted avg       0.92      0.90      0.91     24037\n",
      "\n"
     ]
    }
   ],
   "source": [
    "print(classification_report(y_test,y_pred_test))"
   ]
  },
  {
   "cell_type": "code",
   "execution_count": 51,
   "id": "2ce27d5f",
   "metadata": {
    "colab": {
     "base_uri": "https://localhost:8080/"
    },
    "id": "079c81a3",
    "outputId": "84d2cf9b-1fef-449a-ea7d-2b6c0f155080"
   },
   "outputs": [
    {
     "name": "stdout",
     "output_type": "stream",
     "text": [
      "Training Accuracy : 0.9009554979267498\n",
      "Testing Accuracy : 0.903315721595873\n",
      "F1 Score : 0.53980198019802\n",
      "Recall : 0.6453598484848485\n",
      "Precision : 0.4639210347174949\n"
     ]
    }
   ],
   "source": [
    "train_acc=accuracy_score(y_train,y_pred_train)\n",
    "test_acc=accuracy_score(y_test,y_pred_test)\n",
    "recal=recall_score(y_test,y_pred_test)\n",
    "prec=precision_score(y_test,y_pred_test)\n",
    "f1=f1_score(y_test,y_pred_test)\n",
    "print(\"Training Accuracy :\", train_acc)\n",
    "print(\"Testing Accuracy :\", test_acc)\n",
    "print(\"F1 Score :\", f1)\n",
    "print(\"Recall :\", recal)\n",
    "print(\"Precision :\", prec)"
   ]
  },
  {
   "cell_type": "code",
   "execution_count": 52,
   "id": "1ffc56bf",
   "metadata": {
    "id": "2a63f6b0"
   },
   "outputs": [],
   "source": [
    "metric[\"Gaussian Navies Bayes\"]={\"Training_Accuracy\":train_acc, \"Testing Accuracy\":test_acc, \"f1 score\":f1, \"Recall\":recal, \"Precision\":prec}"
   ]
  },
  {
   "cell_type": "code",
   "execution_count": 53,
   "id": "43dea238",
   "metadata": {
    "id": "ftqY1RwGarYC"
   },
   "outputs": [
    {
     "data": {
      "image/png": "[encoded data removed]",
      "text/plain": [
       "<Figure size 500x300 with 2 Axes>"
      ]
     },
     "metadata": {},
     "output_type": "display_data"
    }
   ],
   "source": [
    "conf_matrix = pd.DataFrame(data = confusion_matrix(y_test,y_pred_test),\n",
    "                           columns = ['Predicted:0', 'Predicted:1'],\n",
    "                           index =['Actual:0', 'Actual:1'])\n",
    "plt.figure(figsize = (5, 3))\n",
    "sns.heatmap(conf_matrix, annot = True, fmt = 'd')\n",
    "plt.show()"
   ]
  },
  {
   "cell_type": "markdown",
   "id": "86c4a9db",
   "metadata": {
    "id": "86c4a9db"
   },
   "source": [
    "* ## KNN"
   ]
  },
  {
   "cell_type": "code",
   "execution_count": 54,
   "id": "6a29eb16",
   "metadata": {},
   "outputs": [],
   "source": [
    "from sklearn.neighbors import KNeighborsClassifier"
   ]
  },
  {
   "cell_type": "code",
   "execution_count": 55,
   "id": "e8b192b2",
   "metadata": {},
   "outputs": [],
   "source": [
    "KNN=KNeighborsClassifier(n_neighbors=7)"
   ]
  },
  {
   "cell_type": "code",
   "execution_count": 56,
   "id": "3d06ec5a",
   "metadata": {},
   "outputs": [
    {
     "data": {
      "text/html": [
       "<style>#sk-container-id-4 {color: black;background-color: white;}#sk-container-id-4 pre{padding: 0;}#sk-container-id-4 div.sk-toggleable {background-color: white;}#sk-container-id-4 label.sk-toggleable__label {cursor: pointer;display: block;width: 100%;margin-bottom: 0;padding: 0.3em;box-sizing: border-box;text-align: center;}#sk-container-id-4 label.sk-toggleable__label-arrow:before {content: \"▸\";float: left;margin-right: 0.25em;color: #696969;}#sk-container-id-4 label.sk-toggleable__label-arrow:hover:before {color: black;}#sk-container-id-4 div.sk-estimator:hover label.sk-toggleable__label-arrow:before {color: black;}#sk-container-id-4 div.sk-toggleable__content {max-height: 0;max-width: 0;overflow: hidden;text-align: left;background-color: #f0f8ff;}#sk-container-id-4 div.sk-toggleable__content pre {margin: 0.2em;color: black;border-radius: 0.25em;background-color: #f0f8ff;}#sk-container-id-4 input.sk-toggleable__control:checked~div.sk-toggleable__content {max-height: 200px;max-width: 100%;overflow: auto;}#sk-container-id-4 input.sk-toggleable__control:checked~label.sk-toggleable__label-arrow:before {content: \"▾\";}#sk-container-id-4 div.sk-estimator input.sk-toggleable__control:checked~label.sk-toggleable__label {background-color: #d4ebff;}#sk-container-id-4 div.sk-label input.sk-toggleable__control:checked~label.sk-toggleable__label {background-color: #d4ebff;}#sk-container-id-4 input.sk-hidden--visually {border: 0;clip: rect(1px 1px 1px 1px);clip: rect(1px, 1px, 1px, 1px);height: 1px;margin: -1px;overflow: hidden;padding: 0;position: absolute;width: 1px;}#sk-container-id-4 div.sk-estimator {font-family: monospace;background-color: #f0f8ff;border: 1px dotted black;border-radius: 0.25em;box-sizing: border-box;margin-bottom: 0.5em;}#sk-container-id-4 div.sk-estimator:hover {background-color: #d4ebff;}#sk-container-id-4 div.sk-parallel-item::after {content: \"\";width: 100%;border-bottom: 1px solid gray;flex-grow: 1;}#sk-container-id-4 div.sk-label:hover label.sk-toggleable__label {background-color: #d4ebff;}#sk-container-id-4 div.sk-serial::before {content: \"\";position: absolute;border-left: 1px solid gray;box-sizing: border-box;top: 0;bottom: 0;left: 50%;z-index: 0;}#sk-container-id-4 div.sk-serial {display: flex;flex-direction: column;align-items: center;background-color: white;padding-right: 0.2em;padding-left: 0.2em;position: relative;}#sk-container-id-4 div.sk-item {position: relative;z-index: 1;}#sk-container-id-4 div.sk-parallel {display: flex;align-items: stretch;justify-content: center;background-color: white;position: relative;}#sk-container-id-4 div.sk-item::before, #sk-container-id-4 div.sk-parallel-item::before {content: \"\";position: absolute;border-left: 1px solid gray;box-sizing: border-box;top: 0;bottom: 0;left: 50%;z-index: -1;}#sk-container-id-4 div.sk-parallel-item {display: flex;flex-direction: column;z-index: 1;position: relative;background-color: white;}#sk-container-id-4 div.sk-parallel-item:first-child::after {align-self: flex-end;width: 50%;}#sk-container-id-4 div.sk-parallel-item:last-child::after {align-self: flex-start;width: 50%;}#sk-container-id-4 div.sk-parallel-item:only-child::after {width: 0;}#sk-container-id-4 div.sk-dashed-wrapped {border: 1px dashed gray;margin: 0 0.4em 0.5em 0.4em;box-sizing: border-box;padding-bottom: 0.4em;background-color: white;}#sk-container-id-4 div.sk-label label {font-family: monospace;font-weight: bold;display: inline-block;line-height: 1.2em;}#sk-container-id-4 div.sk-label-container {text-align: center;}#sk-container-id-4 div.sk-container {/* jupyter's `normalize.less` sets `[hidden] { display: none; }` but bootstrap.min.css set `[hidden] { display: none !important; }` so we also need the `!important` here to be able to override the default hidden behavior on the sphinx rendered scikit-learn.org. See: https://github.com/scikit-learn/scikit-learn/issues/21755 */display: inline-block !important;position: relative;}#sk-container-id-4 div.sk-text-repr-fallback {display: none;}</style><div id=\"sk-container-id-4\" class=\"sk-top-container\"><div class=\"sk-text-repr-fallback\"><pre>KNeighborsClassifier(n_neighbors=7)</pre><b>In a Jupyter environment, please rerun this cell to show the HTML representation or trust the notebook. <br />On GitHub, the HTML representation is unable to render, please try loading this page with nbviewer.org.</b></div><div class=\"sk-container\" hidden><div class=\"sk-item\"><div class=\"sk-estimator sk-toggleable\"><input class=\"sk-toggleable__control sk-hidden--visually\" id=\"sk-estimator-id-4\" type=\"checkbox\" checked><label for=\"sk-estimator-id-4\" class=\"sk-toggleable__label sk-toggleable__label-arrow\">KNeighborsClassifier</label><div class=\"sk-toggleable__content\"><pre>KNeighborsClassifier(n_neighbors=7)</pre></div></div></div></div></div>"
      ],
      "text/plain": [
       "KNeighborsClassifier(n_neighbors=7)"
      ]
     },
     "execution_count": 56,
     "metadata": {},
     "output_type": "execute_result"
    }
   ],
   "source": [
    "KNN.fit(X_train,y_train)"
   ]
  },
  {
   "cell_type": "code",
   "execution_count": 57,
   "id": "005ce4fe",
   "metadata": {},
   "outputs": [],
   "source": [
    "y_pred_test=KNN.predict(X_test)\n",
    "y_pred_train=KNN.predict(X_train)"
   ]
  },
  {
   "cell_type": "code",
   "execution_count": 58,
   "id": "33ee8d55",
   "metadata": {
    "colab": {
     "base_uri": "https://localhost:8080/"
    },
    "id": "22f3764d",
    "outputId": "011f7c46-e9f1-4895-8dee-3d18ba56dd09"
   },
   "outputs": [
    {
     "name": "stdout",
     "output_type": "stream",
     "text": [
      "              precision    recall  f1-score   support\n",
      "\n",
      "           0       0.95      1.00      0.97     21925\n",
      "           1       0.92      0.51      0.66      2112\n",
      "\n",
      "    accuracy                           0.95     24037\n",
      "   macro avg       0.94      0.75      0.82     24037\n",
      "weighted avg       0.95      0.95      0.95     24037\n",
      "\n"
     ]
    }
   ],
   "source": [
    "print(classification_report(y_test,y_pred_test))"
   ]
  },
  {
   "cell_type": "code",
   "execution_count": 59,
   "id": "55bce8cd",
   "metadata": {
    "colab": {
     "base_uri": "https://localhost:8080/"
    },
    "id": "079c81a3",
    "outputId": "84d2cf9b-1fef-449a-ea7d-2b6c0f155080"
   },
   "outputs": [
    {
     "name": "stdout",
     "output_type": "stream",
     "text": [
      "Training Accuracy : 0.959755370342121\n",
      "Testing Accuracy : 0.9530723467986854\n",
      "F1 Score : 0.6575591985428051\n",
      "Recall : 0.5127840909090909\n",
      "Precision : 0.916243654822335\n"
     ]
    }
   ],
   "source": [
    "train_acc=accuracy_score(y_train,y_pred_train)\n",
    "test_acc=accuracy_score(y_test,y_pred_test)\n",
    "recal=recall_score(y_test,y_pred_test)\n",
    "prec=precision_score(y_test,y_pred_test)\n",
    "f1=f1_score(y_test,y_pred_test)\n",
    "print(\"Training Accuracy :\", train_acc)\n",
    "print(\"Testing Accuracy :\", test_acc)\n",
    "print(\"F1 Score :\", f1)\n",
    "print(\"Recall :\", recal)\n",
    "print(\"Precision :\", prec)"
   ]
  },
  {
   "cell_type": "code",
   "execution_count": 60,
   "id": "86834d06",
   "metadata": {
    "id": "2a63f6b0"
   },
   "outputs": [],
   "source": [
    "metric[\"KNN\"]={\"Training_Accuracy\":train_acc, \"Testing Accuracy\":test_acc, \"f1 score\":f1, \"Recall\":recal, \"Precision\":prec}"
   ]
  },
  {
   "cell_type": "code",
   "execution_count": 61,
   "id": "14ffa8ae",
   "metadata": {
    "id": "ftqY1RwGarYC"
   },
   "outputs": [
    {
     "data": {
      "image/png": "[encoded data removed]",
      "text/plain": [
       "<Figure size 500x300 with 2 Axes>"
      ]
     },
     "metadata": {},
     "output_type": "display_data"
    }
   ],
   "source": [
    "conf_matrix = pd.DataFrame(data = confusion_matrix(y_test,y_pred_test),\n",
    "                           columns = ['Predicted:0', 'Predicted:1'],\n",
    "                           index =['Actual:0', 'Actual:1'])\n",
    "plt.figure(figsize = (5, 3))\n",
    "sns.heatmap(conf_matrix, annot = True, fmt = 'd')\n",
    "plt.show()"
   ]
  },
  {
   "cell_type": "markdown",
   "id": "7ef0cee2",
   "metadata": {
    "id": "7ef0cee2"
   },
   "source": [
    "* ## Decision Tree"
   ]
  },
  {
   "cell_type": "code",
   "execution_count": 62,
   "id": "2dcc1ecd",
   "metadata": {},
   "outputs": [],
   "source": [
    "from sklearn.tree import DecisionTreeClassifier"
   ]
  },
  {
   "cell_type": "code",
   "execution_count": 63,
   "id": "b1ff742b",
   "metadata": {},
   "outputs": [],
   "source": [
    "DT=DecisionTreeClassifier(criterion='entropy', max_features='log2')"
   ]
  },
  {
   "cell_type": "code",
   "execution_count": 64,
   "id": "8149759e",
   "metadata": {},
   "outputs": [
    {
     "data": {
      "text/html": [
       "<style>#sk-container-id-5 {color: black;background-color: white;}#sk-container-id-5 pre{padding: 0;}#sk-container-id-5 div.sk-toggleable {background-color: white;}#sk-container-id-5 label.sk-toggleable__label {cursor: pointer;display: block;width: 100%;margin-bottom: 0;padding: 0.3em;box-sizing: border-box;text-align: center;}#sk-container-id-5 label.sk-toggleable__label-arrow:before {content: \"▸\";float: left;margin-right: 0.25em;color: #696969;}#sk-container-id-5 label.sk-toggleable__label-arrow:hover:before {color: black;}#sk-container-id-5 div.sk-estimator:hover label.sk-toggleable__label-arrow:before {color: black;}#sk-container-id-5 div.sk-toggleable__content {max-height: 0;max-width: 0;overflow: hidden;text-align: left;background-color: #f0f8ff;}#sk-container-id-5 div.sk-toggleable__content pre {margin: 0.2em;color: black;border-radius: 0.25em;background-color: #f0f8ff;}#sk-container-id-5 input.sk-toggleable__control:checked~div.sk-toggleable__content {max-height: 200px;max-width: 100%;overflow: auto;}#sk-container-id-5 input.sk-toggleable__control:checked~label.sk-toggleable__label-arrow:before {content: \"▾\";}#sk-container-id-5 div.sk-estimator input.sk-toggleable__control:checked~label.sk-toggleable__label {background-color: #d4ebff;}#sk-container-id-5 div.sk-label input.sk-toggleable__control:checked~label.sk-toggleable__label {background-color: #d4ebff;}#sk-container-id-5 input.sk-hidden--visually {border: 0;clip: rect(1px 1px 1px 1px);clip: rect(1px, 1px, 1px, 1px);height: 1px;margin: -1px;overflow: hidden;padding: 0;position: absolute;width: 1px;}#sk-container-id-5 div.sk-estimator {font-family: monospace;background-color: #f0f8ff;border: 1px dotted black;border-radius: 0.25em;box-sizing: border-box;margin-bottom: 0.5em;}#sk-container-id-5 div.sk-estimator:hover {background-color: #d4ebff;}#sk-container-id-5 div.sk-parallel-item::after {content: \"\";width: 100%;border-bottom: 1px solid gray;flex-grow: 1;}#sk-container-id-5 div.sk-label:hover label.sk-toggleable__label {background-color: #d4ebff;}#sk-container-id-5 div.sk-serial::before {content: \"\";position: absolute;border-left: 1px solid gray;box-sizing: border-box;top: 0;bottom: 0;left: 50%;z-index: 0;}#sk-container-id-5 div.sk-serial {display: flex;flex-direction: column;align-items: center;background-color: white;padding-right: 0.2em;padding-left: 0.2em;position: relative;}#sk-container-id-5 div.sk-item {position: relative;z-index: 1;}#sk-container-id-5 div.sk-parallel {display: flex;align-items: stretch;justify-content: center;background-color: white;position: relative;}#sk-container-id-5 div.sk-item::before, #sk-container-id-5 div.sk-parallel-item::before {content: \"\";position: absolute;border-left: 1px solid gray;box-sizing: border-box;top: 0;bottom: 0;left: 50%;z-index: -1;}#sk-container-id-5 div.sk-parallel-item {display: flex;flex-direction: column;z-index: 1;position: relative;background-color: white;}#sk-container-id-5 div.sk-parallel-item:first-child::after {align-self: flex-end;width: 50%;}#sk-container-id-5 div.sk-parallel-item:last-child::after {align-self: flex-start;width: 50%;}#sk-container-id-5 div.sk-parallel-item:only-child::after {width: 0;}#sk-container-id-5 div.sk-dashed-wrapped {border: 1px dashed gray;margin: 0 0.4em 0.5em 0.4em;box-sizing: border-box;padding-bottom: 0.4em;background-color: white;}#sk-container-id-5 div.sk-label label {font-family: monospace;font-weight: bold;display: inline-block;line-height: 1.2em;}#sk-container-id-5 div.sk-label-container {text-align: center;}#sk-container-id-5 div.sk-container {/* jupyter's `normalize.less` sets `[hidden] { display: none; }` but bootstrap.min.css set `[hidden] { display: none !important; }` so we also need the `!important` here to be able to override the default hidden behavior on the sphinx rendered scikit-learn.org. See: https://github.com/scikit-learn/scikit-learn/issues/21755 */display: inline-block !important;position: relative;}#sk-container-id-5 div.sk-text-repr-fallback {display: none;}</style><div id=\"sk-container-id-5\" class=\"sk-top-container\"><div class=\"sk-text-repr-fallback\"><pre>DecisionTreeClassifier(criterion=&#x27;entropy&#x27;, max_features=&#x27;log2&#x27;)</pre><b>In a Jupyter environment, please rerun this cell to show the HTML representation or trust the notebook. <br />On GitHub, the HTML representation is unable to render, please try loading this page with nbviewer.org.</b></div><div class=\"sk-container\" hidden><div class=\"sk-item\"><div class=\"sk-estimator sk-toggleable\"><input class=\"sk-toggleable__control sk-hidden--visually\" id=\"sk-estimator-id-5\" type=\"checkbox\" checked><label for=\"sk-estimator-id-5\" class=\"sk-toggleable__label sk-toggleable__label-arrow\">DecisionTreeClassifier</label><div class=\"sk-toggleable__content\"><pre>DecisionTreeClassifier(criterion=&#x27;entropy&#x27;, max_features=&#x27;log2&#x27;)</pre></div></div></div></div></div>"
      ],
      "text/plain": [
       "DecisionTreeClassifier(criterion='entropy', max_features='log2')"
      ]
     },
     "execution_count": 64,
     "metadata": {},
     "output_type": "execute_result"
    }
   ],
   "source": [
    "DT.fit(X_train,y_train)"
   ]
  },
  {
   "cell_type": "code",
   "execution_count": 65,
   "id": "9a33a37d",
   "metadata": {},
   "outputs": [],
   "source": [
    "y_pred_test=DT.predict(X_test)\n",
    "y_pred_train=DT.predict(X_train)"
   ]
  },
  {
   "cell_type": "code",
   "execution_count": 66,
   "id": "504fbca0",
   "metadata": {
    "colab": {
     "base_uri": "https://localhost:8080/"
    },
    "id": "22f3764d",
    "outputId": "011f7c46-e9f1-4895-8dee-3d18ba56dd09"
   },
   "outputs": [
    {
     "name": "stdout",
     "output_type": "stream",
     "text": [
      "              precision    recall  f1-score   support\n",
      "\n",
      "           0       0.97      0.97      0.97     21925\n",
      "           1       0.72      0.72      0.72      2112\n",
      "\n",
      "    accuracy                           0.95     24037\n",
      "   macro avg       0.85      0.85      0.85     24037\n",
      "weighted avg       0.95      0.95      0.95     24037\n",
      "\n"
     ]
    }
   ],
   "source": [
    "print(classification_report(y_test,y_pred_test))"
   ]
  },
  {
   "cell_type": "code",
   "execution_count": 67,
   "id": "9d4a8821",
   "metadata": {
    "colab": {
     "base_uri": "https://localhost:8080/"
    },
    "id": "079c81a3",
    "outputId": "84d2cf9b-1fef-449a-ea7d-2b6c0f155080"
   },
   "outputs": [
    {
     "name": "stdout",
     "output_type": "stream",
     "text": [
      "Training Accuracy : 0.9993066052781207\n",
      "Testing Accuracy : 0.950576195032658\n",
      "F1 Score : 0.71875\n",
      "Recall : 0.71875\n",
      "Precision : 0.71875\n"
     ]
    }
   ],
   "source": [
    "train_acc=accuracy_score(y_train,y_pred_train)\n",
    "test_acc=accuracy_score(y_test,y_pred_test)\n",
    "recal=recall_score(y_test,y_pred_test)\n",
    "prec=precision_score(y_test,y_pred_test)\n",
    "f1=f1_score(y_test,y_pred_test)\n",
    "print(\"Training Accuracy :\", train_acc)\n",
    "print(\"Testing Accuracy :\", test_acc)\n",
    "print(\"F1 Score :\", f1)\n",
    "print(\"Recall :\", recal)\n",
    "print(\"Precision :\", prec)"
   ]
  },
  {
   "cell_type": "code",
   "execution_count": 68,
   "id": "521a1ffb",
   "metadata": {
    "id": "2a63f6b0"
   },
   "outputs": [],
   "source": [
    "metric[\"Decision Tree\"]={\"Training_Accuracy\":train_acc, \"Testing Accuracy\":test_acc, \"f1 score\":f1, \"Recall\":recal, \"Precision\":prec}"
   ]
  },
  {
   "cell_type": "code",
   "execution_count": 69,
   "id": "3e14d59f",
   "metadata": {
    "id": "ftqY1RwGarYC"
   },
   "outputs": [
    {
     "data": {
      "image/png": "[encoded data removed]",
      "text/plain": [
       "<Figure size 500x300 with 2 Axes>"
      ]
     },
     "metadata": {},
     "output_type": "display_data"
    }
   ],
   "source": [
    "conf_matrix = pd.DataFrame(data = confusion_matrix(y_test,y_pred_test),\n",
    "                           columns = ['Predicted:0', 'Predicted:1'],\n",
    "                           index =['Actual:0', 'Actual:1'])\n",
    "plt.figure(figsize = (5, 3))\n",
    "sns.heatmap(conf_matrix, annot = True, fmt = 'd')\n",
    "plt.show()"
   ]
  },
  {
   "cell_type": "markdown",
   "id": "1f00ca11",
   "metadata": {
    "id": "1f00ca11"
   },
   "source": [
    "* ## Random Forest"
   ]
  },
  {
   "cell_type": "code",
   "execution_count": 70,
   "id": "64489c02",
   "metadata": {},
   "outputs": [],
   "source": [
    "from sklearn.ensemble import RandomForestClassifier"
   ]
  },
  {
   "cell_type": "code",
   "execution_count": 71,
   "id": "d922483b",
   "metadata": {},
   "outputs": [],
   "source": [
    "RF=RandomForestClassifier(criterion='entropy', max_features='log2', max_depth=6, max_leaf_nodes=9)"
   ]
  },
  {
   "cell_type": "code",
   "execution_count": 72,
   "id": "d69eb629",
   "metadata": {},
   "outputs": [
    {
     "data": {
      "text/html": [
       "<style>#sk-container-id-6 {color: black;background-color: white;}#sk-container-id-6 pre{padding: 0;}#sk-container-id-6 div.sk-toggleable {background-color: white;}#sk-container-id-6 label.sk-toggleable__label {cursor: pointer;display: block;width: 100%;margin-bottom: 0;padding: 0.3em;box-sizing: border-box;text-align: center;}#sk-container-id-6 label.sk-toggleable__label-arrow:before {content: \"▸\";float: left;margin-right: 0.25em;color: #696969;}#sk-container-id-6 label.sk-toggleable__label-arrow:hover:before {color: black;}#sk-container-id-6 div.sk-estimator:hover label.sk-toggleable__label-arrow:before {color: black;}#sk-container-id-6 div.sk-toggleable__content {max-height: 0;max-width: 0;overflow: hidden;text-align: left;background-color: #f0f8ff;}#sk-container-id-6 div.sk-toggleable__content pre {margin: 0.2em;color: black;border-radius: 0.25em;background-color: #f0f8ff;}#sk-container-id-6 input.sk-toggleable__control:checked~div.sk-toggleable__content {max-height: 200px;max-width: 100%;overflow: auto;}#sk-container-id-6 input.sk-toggleable__control:checked~label.sk-toggleable__label-arrow:before {content: \"▾\";}#sk-container-id-6 div.sk-estimator input.sk-toggleable__control:checked~label.sk-toggleable__label {background-color: #d4ebff;}#sk-container-id-6 div.sk-label input.sk-toggleable__control:checked~label.sk-toggleable__label {background-color: #d4ebff;}#sk-container-id-6 input.sk-hidden--visually {border: 0;clip: rect(1px 1px 1px 1px);clip: rect(1px, 1px, 1px, 1px);height: 1px;margin: -1px;overflow: hidden;padding: 0;position: absolute;width: 1px;}#sk-container-id-6 div.sk-estimator {font-family: monospace;background-color: #f0f8ff;border: 1px dotted black;border-radius: 0.25em;box-sizing: border-box;margin-bottom: 0.5em;}#sk-container-id-6 div.sk-estimator:hover {background-color: #d4ebff;}#sk-container-id-6 div.sk-parallel-item::after {content: \"\";width: 100%;border-bottom: 1px solid gray;flex-grow: 1;}#sk-container-id-6 div.sk-label:hover label.sk-toggleable__label {background-color: #d4ebff;}#sk-container-id-6 div.sk-serial::before {content: \"\";position: absolute;border-left: 1px solid gray;box-sizing: border-box;top: 0;bottom: 0;left: 50%;z-index: 0;}#sk-container-id-6 div.sk-serial {display: flex;flex-direction: column;align-items: center;background-color: white;padding-right: 0.2em;padding-left: 0.2em;position: relative;}#sk-container-id-6 div.sk-item {position: relative;z-index: 1;}#sk-container-id-6 div.sk-parallel {display: flex;align-items: stretch;justify-content: center;background-color: white;position: relative;}#sk-container-id-6 div.sk-item::before, #sk-container-id-6 div.sk-parallel-item::before {content: \"\";position: absolute;border-left: 1px solid gray;box-sizing: border-box;top: 0;bottom: 0;left: 50%;z-index: -1;}#sk-container-id-6 div.sk-parallel-item {display: flex;flex-direction: column;z-index: 1;position: relative;background-color: white;}#sk-container-id-6 div.sk-parallel-item:first-child::after {align-self: flex-end;width: 50%;}#sk-container-id-6 div.sk-parallel-item:last-child::after {align-self: flex-start;width: 50%;}#sk-container-id-6 div.sk-parallel-item:only-child::after {width: 0;}#sk-container-id-6 div.sk-dashed-wrapped {border: 1px dashed gray;margin: 0 0.4em 0.5em 0.4em;box-sizing: border-box;padding-bottom: 0.4em;background-color: white;}#sk-container-id-6 div.sk-label label {font-family: monospace;font-weight: bold;display: inline-block;line-height: 1.2em;}#sk-container-id-6 div.sk-label-container {text-align: center;}#sk-container-id-6 div.sk-container {/* jupyter's `normalize.less` sets `[hidden] { display: none; }` but bootstrap.min.css set `[hidden] { display: none !important; }` so we also need the `!important` here to be able to override the default hidden behavior on the sphinx rendered scikit-learn.org. See: https://github.com/scikit-learn/scikit-learn/issues/21755 */display: inline-block !important;position: relative;}#sk-container-id-6 div.sk-text-repr-fallback {display: none;}</style><div id=\"sk-container-id-6\" class=\"sk-top-container\"><div class=\"sk-text-repr-fallback\"><pre>RandomForestClassifier(criterion=&#x27;entropy&#x27;, max_depth=6, max_features=&#x27;log2&#x27;,\n",
       "                       max_leaf_nodes=9)</pre><b>In a Jupyter environment, please rerun this cell to show the HTML representation or trust the notebook. <br />On GitHub, the HTML representation is unable to render, please try loading this page with nbviewer.org.</b></div><div class=\"sk-container\" hidden><div class=\"sk-item\"><div class=\"sk-estimator sk-toggleable\"><input class=\"sk-toggleable__control sk-hidden--visually\" id=\"sk-estimator-id-6\" type=\"checkbox\" checked><label for=\"sk-estimator-id-6\" class=\"sk-toggleable__label sk-toggleable__label-arrow\">RandomForestClassifier</label><div class=\"sk-toggleable__content\"><pre>RandomForestClassifier(criterion=&#x27;entropy&#x27;, max_depth=6, max_features=&#x27;log2&#x27;,\n",
       "                       max_leaf_nodes=9)</pre></div></div></div></div></div>"
      ],
      "text/plain": [
       "RandomForestClassifier(criterion='entropy', max_depth=6, max_features='log2',\n",
       "                       max_leaf_nodes=9)"
      ]
     },
     "execution_count": 72,
     "metadata": {},
     "output_type": "execute_result"
    }
   ],
   "source": [
    "RF.fit(X_train,y_train)"
   ]
  },
  {
   "cell_type": "code",
   "execution_count": 73,
   "id": "50a8053a",
   "metadata": {
    "colab": {
     "base_uri": "https://localhost:8080/"
    },
    "id": "22f3764d",
    "outputId": "011f7c46-e9f1-4895-8dee-3d18ba56dd09"
   },
   "outputs": [
    {
     "name": "stdout",
     "output_type": "stream",
     "text": [
      "              precision    recall  f1-score   support\n",
      "\n",
      "           0       0.97      0.97      0.97     21925\n",
      "           1       0.72      0.72      0.72      2112\n",
      "\n",
      "    accuracy                           0.95     24037\n",
      "   macro avg       0.85      0.85      0.85     24037\n",
      "weighted avg       0.95      0.95      0.95     24037\n",
      "\n"
     ]
    }
   ],
   "source": [
    "print(classification_report(y_test,y_pred_test))"
   ]
  },
  {
   "cell_type": "code",
   "execution_count": 74,
   "id": "0aadce1e",
   "metadata": {},
   "outputs": [],
   "source": [
    "y_pred_test=RF.predict(X_test)\n",
    "y_pred_train=RF.predict(X_train)"
   ]
  },
  {
   "cell_type": "code",
   "execution_count": 75,
   "id": "eb768236",
   "metadata": {
    "colab": {
     "base_uri": "https://localhost:8080/"
    },
    "id": "079c81a3",
    "outputId": "84d2cf9b-1fef-449a-ea7d-2b6c0f155080"
   },
   "outputs": [
    {
     "name": "stdout",
     "output_type": "stream",
     "text": [
      "Training Accuracy : 0.9711409116753803\n",
      "Testing Accuracy : 0.9696301535133336\n",
      "F1 Score : 0.7910704064109902\n",
      "Recall : 0.6543560606060606\n",
      "Precision : 1.0\n"
     ]
    }
   ],
   "source": [
    "train_acc=accuracy_score(y_train,y_pred_train)\n",
    "test_acc=accuracy_score(y_test,y_pred_test)\n",
    "recal=recall_score(y_test,y_pred_test)\n",
    "prec=precision_score(y_test,y_pred_test)\n",
    "f1=f1_score(y_test,y_pred_test)\n",
    "print(\"Training Accuracy :\", train_acc)\n",
    "print(\"Testing Accuracy :\", test_acc)\n",
    "print(\"F1 Score :\", f1)\n",
    "print(\"Recall :\", recal)\n",
    "print(\"Precision :\", prec)"
   ]
  },
  {
   "cell_type": "code",
   "execution_count": 76,
   "id": "19993841",
   "metadata": {
    "id": "2a63f6b0"
   },
   "outputs": [],
   "source": [
    "metric[\"Random Forest\"]={\"Training_Accuracy\":train_acc, \"Testing Accuracy\":test_acc, \"f1 score\":f1, \"Recall\":recal, \"Precision\":prec}"
   ]
  },
  {
   "cell_type": "code",
   "execution_count": 77,
   "id": "2ff8a9ea",
   "metadata": {
    "id": "ftqY1RwGarYC"
   },
   "outputs": [
    {
     "data": {
      "image/png": "[encoded data removed]",
      "text/plain": [
       "<Figure size 500x300 with 2 Axes>"
      ]
     },
     "metadata": {},
     "output_type": "display_data"
    }
   ],
   "source": [
    "conf_matrix = pd.DataFrame(data = confusion_matrix(y_test,y_pred_test),\n",
    "                           columns = ['Predicted:0', 'Predicted:1'],\n",
    "                           index =['Actual:0', 'Actual:1'])\n",
    "plt.figure(figsize = (5, 3))\n",
    "sns.heatmap(conf_matrix, annot = True, fmt = 'd')\n",
    "plt.show()"
   ]
  },
  {
   "cell_type": "markdown",
   "id": "377dd349",
   "metadata": {
    "id": "377dd349"
   },
   "source": [
    "* ## Gradient Boosting Classifier"
   ]
  },
  {
   "cell_type": "code",
   "execution_count": 78,
   "id": "bf953779",
   "metadata": {},
   "outputs": [],
   "source": [
    "from sklearn.ensemble import GradientBoostingClassifier"
   ]
  },
  {
   "cell_type": "code",
   "execution_count": 79,
   "id": "2b9c5f70",
   "metadata": {},
   "outputs": [],
   "source": [
    "GB=GradientBoostingClassifier()"
   ]
  },
  {
   "cell_type": "code",
   "execution_count": 80,
   "id": "02553fd5",
   "metadata": {},
   "outputs": [
    {
     "data": {
      "text/html": [
       "<style>#sk-container-id-7 {color: black;background-color: white;}#sk-container-id-7 pre{padding: 0;}#sk-container-id-7 div.sk-toggleable {background-color: white;}#sk-container-id-7 label.sk-toggleable__label {cursor: pointer;display: block;width: 100%;margin-bottom: 0;padding: 0.3em;box-sizing: border-box;text-align: center;}#sk-container-id-7 label.sk-toggleable__label-arrow:before {content: \"▸\";float: left;margin-right: 0.25em;color: #696969;}#sk-container-id-7 label.sk-toggleable__label-arrow:hover:before {color: black;}#sk-container-id-7 div.sk-estimator:hover label.sk-toggleable__label-arrow:before {color: black;}#sk-container-id-7 div.sk-toggleable__content {max-height: 0;max-width: 0;overflow: hidden;text-align: left;background-color: #f0f8ff;}#sk-container-id-7 div.sk-toggleable__content pre {margin: 0.2em;color: black;border-radius: 0.25em;background-color: #f0f8ff;}#sk-container-id-7 input.sk-toggleable__control:checked~div.sk-toggleable__content {max-height: 200px;max-width: 100%;overflow: auto;}#sk-container-id-7 input.sk-toggleable__control:checked~label.sk-toggleable__label-arrow:before {content: \"▾\";}#sk-container-id-7 div.sk-estimator input.sk-toggleable__control:checked~label.sk-toggleable__label {background-color: #d4ebff;}#sk-container-id-7 div.sk-label input.sk-toggleable__control:checked~label.sk-toggleable__label {background-color: #d4ebff;}#sk-container-id-7 input.sk-hidden--visually {border: 0;clip: rect(1px 1px 1px 1px);clip: rect(1px, 1px, 1px, 1px);height: 1px;margin: -1px;overflow: hidden;padding: 0;position: absolute;width: 1px;}#sk-container-id-7 div.sk-estimator {font-family: monospace;background-color: #f0f8ff;border: 1px dotted black;border-radius: 0.25em;box-sizing: border-box;margin-bottom: 0.5em;}#sk-container-id-7 div.sk-estimator:hover {background-color: #d4ebff;}#sk-container-id-7 div.sk-parallel-item::after {content: \"\";width: 100%;border-bottom: 1px solid gray;flex-grow: 1;}#sk-container-id-7 div.sk-label:hover label.sk-toggleable__label {background-color: #d4ebff;}#sk-container-id-7 div.sk-serial::before {content: \"\";position: absolute;border-left: 1px solid gray;box-sizing: border-box;top: 0;bottom: 0;left: 50%;z-index: 0;}#sk-container-id-7 div.sk-serial {display: flex;flex-direction: column;align-items: center;background-color: white;padding-right: 0.2em;padding-left: 0.2em;position: relative;}#sk-container-id-7 div.sk-item {position: relative;z-index: 1;}#sk-container-id-7 div.sk-parallel {display: flex;align-items: stretch;justify-content: center;background-color: white;position: relative;}#sk-container-id-7 div.sk-item::before, #sk-container-id-7 div.sk-parallel-item::before {content: \"\";position: absolute;border-left: 1px solid gray;box-sizing: border-box;top: 0;bottom: 0;left: 50%;z-index: -1;}#sk-container-id-7 div.sk-parallel-item {display: flex;flex-direction: column;z-index: 1;position: relative;background-color: white;}#sk-container-id-7 div.sk-parallel-item:first-child::after {align-self: flex-end;width: 50%;}#sk-container-id-7 div.sk-parallel-item:last-child::after {align-self: flex-start;width: 50%;}#sk-container-id-7 div.sk-parallel-item:only-child::after {width: 0;}#sk-container-id-7 div.sk-dashed-wrapped {border: 1px dashed gray;margin: 0 0.4em 0.5em 0.4em;box-sizing: border-box;padding-bottom: 0.4em;background-color: white;}#sk-container-id-7 div.sk-label label {font-family: monospace;font-weight: bold;display: inline-block;line-height: 1.2em;}#sk-container-id-7 div.sk-label-container {text-align: center;}#sk-container-id-7 div.sk-container {/* jupyter's `normalize.less` sets `[hidden] { display: none; }` but bootstrap.min.css set `[hidden] { display: none !important; }` so we also need the `!important` here to be able to override the default hidden behavior on the sphinx rendered scikit-learn.org. See: https://github.com/scikit-learn/scikit-learn/issues/21755 */display: inline-block !important;position: relative;}#sk-container-id-7 div.sk-text-repr-fallback {display: none;}</style><div id=\"sk-container-id-7\" class=\"sk-top-container\"><div class=\"sk-text-repr-fallback\"><pre>GradientBoostingClassifier()</pre><b>In a Jupyter environment, please rerun this cell to show the HTML representation or trust the notebook. <br />On GitHub, the HTML representation is unable to render, please try loading this page with nbviewer.org.</b></div><div class=\"sk-container\" hidden><div class=\"sk-item\"><div class=\"sk-estimator sk-toggleable\"><input class=\"sk-toggleable__control sk-hidden--visually\" id=\"sk-estimator-id-7\" type=\"checkbox\" checked><label for=\"sk-estimator-id-7\" class=\"sk-toggleable__label sk-toggleable__label-arrow\">GradientBoostingClassifier</label><div class=\"sk-toggleable__content\"><pre>GradientBoostingClassifier()</pre></div></div></div></div></div>"
      ],
      "text/plain": [
       "GradientBoostingClassifier()"
      ]
     },
     "execution_count": 80,
     "metadata": {},
     "output_type": "execute_result"
    }
   ],
   "source": [
    "GB.fit(X_train,y_train)"
   ]
  },
  {
   "cell_type": "code",
   "execution_count": 81,
   "id": "8a368ef4",
   "metadata": {
    "colab": {
     "base_uri": "https://localhost:8080/"
    },
    "id": "22f3764d",
    "outputId": "011f7c46-e9f1-4895-8dee-3d18ba56dd09"
   },
   "outputs": [
    {
     "name": "stdout",
     "output_type": "stream",
     "text": [
      "              precision    recall  f1-score   support\n",
      "\n",
      "           0       0.97      1.00      0.98     21925\n",
      "           1       1.00      0.65      0.79      2112\n",
      "\n",
      "    accuracy                           0.97     24037\n",
      "   macro avg       0.98      0.83      0.89     24037\n",
      "weighted avg       0.97      0.97      0.97     24037\n",
      "\n"
     ]
    }
   ],
   "source": [
    "print(classification_report(y_test,y_pred_test))"
   ]
  },
  {
   "cell_type": "code",
   "execution_count": 82,
   "id": "5258f4e7",
   "metadata": {},
   "outputs": [],
   "source": [
    "y_pred_test=GB.predict(X_test)\n",
    "y_pred_train=GB.predict(X_train)"
   ]
  },
  {
   "cell_type": "code",
   "execution_count": 83,
   "id": "e033da85",
   "metadata": {
    "colab": {
     "base_uri": "https://localhost:8080/"
    },
    "id": "079c81a3",
    "outputId": "84d2cf9b-1fef-449a-ea7d-2b6c0f155080"
   },
   "outputs": [
    {
     "name": "stdout",
     "output_type": "stream",
     "text": [
      "Training Accuracy : 0.9716956274528838\n",
      "Testing Accuracy : 0.9692973332778633\n",
      "F1 Score : 0.7914075749010739\n",
      "Recall : 0.6628787878787878\n",
      "Precision : 0.9817671809256662\n"
     ]
    }
   ],
   "source": [
    "train_acc=accuracy_score(y_train,y_pred_train)\n",
    "test_acc=accuracy_score(y_test,y_pred_test)\n",
    "recal=recall_score(y_test,y_pred_test)\n",
    "prec=precision_score(y_test,y_pred_test)\n",
    "f1=f1_score(y_test,y_pred_test)\n",
    "print(\"Training Accuracy :\", train_acc)\n",
    "print(\"Testing Accuracy :\", test_acc)\n",
    "print(\"F1 Score :\", f1)\n",
    "print(\"Recall :\", recal)\n",
    "print(\"Precision :\", prec)"
   ]
  },
  {
   "cell_type": "code",
   "execution_count": 84,
   "id": "2905f330",
   "metadata": {
    "id": "2a63f6b0"
   },
   "outputs": [],
   "source": [
    "metric[\"Gradient Boosting Classifier\"]={\"Training_Accuracy\":train_acc, \"Testing Accuracy\":test_acc, \"f1 score\":f1, \"Recall\":recal, \"Precision\":prec}"
   ]
  },
  {
   "cell_type": "code",
   "execution_count": 85,
   "id": "20332ab1",
   "metadata": {
    "id": "ftqY1RwGarYC"
   },
   "outputs": [
    {
     "data": {
      "image/png": "[encoded data removed]",
      "text/plain": [
       "<Figure size 500x300 with 2 Axes>"
      ]
     },
     "metadata": {},
     "output_type": "display_data"
    }
   ],
   "source": [
    "conf_matrix = pd.DataFrame(data = confusion_matrix(y_test,y_pred_test),\n",
    "                           columns = ['Predicted:0', 'Predicted:1'],\n",
    "                           index =['Actual:0', 'Actual:1'])\n",
    "plt.figure(figsize = (5, 3))\n",
    "sns.heatmap(conf_matrix, annot = True, fmt = 'd')\n",
    "plt.show()"
   ]
  },
  {
   "cell_type": "markdown",
   "id": "8c86ad5d",
   "metadata": {
    "id": "8c86ad5d"
   },
   "source": [
    "* ## Stochastic Gradient Descent Classifier"
   ]
  },
  {
   "cell_type": "code",
   "execution_count": 86,
   "id": "935486d2",
   "metadata": {},
   "outputs": [],
   "source": [
    "from sklearn.linear_model import SGDClassifier"
   ]
  },
  {
   "cell_type": "code",
   "execution_count": 87,
   "id": "fb95d1b1",
   "metadata": {},
   "outputs": [],
   "source": [
    "SGD=SGDClassifier()"
   ]
  },
  {
   "cell_type": "code",
   "execution_count": 88,
   "id": "9a272aad",
   "metadata": {},
   "outputs": [
    {
     "data": {
      "text/html": [
       "<style>#sk-container-id-8 {color: black;background-color: white;}#sk-container-id-8 pre{padding: 0;}#sk-container-id-8 div.sk-toggleable {background-color: white;}#sk-container-id-8 label.sk-toggleable__label {cursor: pointer;display: block;width: 100%;margin-bottom: 0;padding: 0.3em;box-sizing: border-box;text-align: center;}#sk-container-id-8 label.sk-toggleable__label-arrow:before {content: \"▸\";float: left;margin-right: 0.25em;color: #696969;}#sk-container-id-8 label.sk-toggleable__label-arrow:hover:before {color: black;}#sk-container-id-8 div.sk-estimator:hover label.sk-toggleable__label-arrow:before {color: black;}#sk-container-id-8 div.sk-toggleable__content {max-height: 0;max-width: 0;overflow: hidden;text-align: left;background-color: #f0f8ff;}#sk-container-id-8 div.sk-toggleable__content pre {margin: 0.2em;color: black;border-radius: 0.25em;background-color: #f0f8ff;}#sk-container-id-8 input.sk-toggleable__control:checked~div.sk-toggleable__content {max-height: 200px;max-width: 100%;overflow: auto;}#sk-container-id-8 input.sk-toggleable__control:checked~label.sk-toggleable__label-arrow:before {content: \"▾\";}#sk-container-id-8 div.sk-estimator input.sk-toggleable__control:checked~label.sk-toggleable__label {background-color: #d4ebff;}#sk-container-id-8 div.sk-label input.sk-toggleable__control:checked~label.sk-toggleable__label {background-color: #d4ebff;}#sk-container-id-8 input.sk-hidden--visually {border: 0;clip: rect(1px 1px 1px 1px);clip: rect(1px, 1px, 1px, 1px);height: 1px;margin: -1px;overflow: hidden;padding: 0;position: absolute;width: 1px;}#sk-container-id-8 div.sk-estimator {font-family: monospace;background-color: #f0f8ff;border: 1px dotted black;border-radius: 0.25em;box-sizing: border-box;margin-bottom: 0.5em;}#sk-container-id-8 div.sk-estimator:hover {background-color: #d4ebff;}#sk-container-id-8 div.sk-parallel-item::after {content: \"\";width: 100%;border-bottom: 1px solid gray;flex-grow: 1;}#sk-container-id-8 div.sk-label:hover label.sk-toggleable__label {background-color: #d4ebff;}#sk-container-id-8 div.sk-serial::before {content: \"\";position: absolute;border-left: 1px solid gray;box-sizing: border-box;top: 0;bottom: 0;left: 50%;z-index: 0;}#sk-container-id-8 div.sk-serial {display: flex;flex-direction: column;align-items: center;background-color: white;padding-right: 0.2em;padding-left: 0.2em;position: relative;}#sk-container-id-8 div.sk-item {position: relative;z-index: 1;}#sk-container-id-8 div.sk-parallel {display: flex;align-items: stretch;justify-content: center;background-color: white;position: relative;}#sk-container-id-8 div.sk-item::before, #sk-container-id-8 div.sk-parallel-item::before {content: \"\";position: absolute;border-left: 1px solid gray;box-sizing: border-box;top: 0;bottom: 0;left: 50%;z-index: -1;}#sk-container-id-8 div.sk-parallel-item {display: flex;flex-direction: column;z-index: 1;position: relative;background-color: white;}#sk-container-id-8 div.sk-parallel-item:first-child::after {align-self: flex-end;width: 50%;}#sk-container-id-8 div.sk-parallel-item:last-child::after {align-self: flex-start;width: 50%;}#sk-container-id-8 div.sk-parallel-item:only-child::after {width: 0;}#sk-container-id-8 div.sk-dashed-wrapped {border: 1px dashed gray;margin: 0 0.4em 0.5em 0.4em;box-sizing: border-box;padding-bottom: 0.4em;background-color: white;}#sk-container-id-8 div.sk-label label {font-family: monospace;font-weight: bold;display: inline-block;line-height: 1.2em;}#sk-container-id-8 div.sk-label-container {text-align: center;}#sk-container-id-8 div.sk-container {/* jupyter's `normalize.less` sets `[hidden] { display: none; }` but bootstrap.min.css set `[hidden] { display: none !important; }` so we also need the `!important` here to be able to override the default hidden behavior on the sphinx rendered scikit-learn.org. See: https://github.com/scikit-learn/scikit-learn/issues/21755 */display: inline-block !important;position: relative;}#sk-container-id-8 div.sk-text-repr-fallback {display: none;}</style><div id=\"sk-container-id-8\" class=\"sk-top-container\"><div class=\"sk-text-repr-fallback\"><pre>SGDClassifier()</pre><b>In a Jupyter environment, please rerun this cell to show the HTML representation or trust the notebook. <br />On GitHub, the HTML representation is unable to render, please try loading this page with nbviewer.org.</b></div><div class=\"sk-container\" hidden><div class=\"sk-item\"><div class=\"sk-estimator sk-toggleable\"><input class=\"sk-toggleable__control sk-hidden--visually\" id=\"sk-estimator-id-8\" type=\"checkbox\" checked><label for=\"sk-estimator-id-8\" class=\"sk-toggleable__label sk-toggleable__label-arrow\">SGDClassifier</label><div class=\"sk-toggleable__content\"><pre>SGDClassifier()</pre></div></div></div></div></div>"
      ],
      "text/plain": [
       "SGDClassifier()"
      ]
     },
     "execution_count": 88,
     "metadata": {},
     "output_type": "execute_result"
    }
   ],
   "source": [
    "SGD.fit(X_train,y_train)"
   ]
  },
  {
   "cell_type": "code",
   "execution_count": 89,
   "id": "3cc2a9f1",
   "metadata": {
    "colab": {
     "base_uri": "https://localhost:8080/"
    },
    "id": "22f3764d",
    "outputId": "011f7c46-e9f1-4895-8dee-3d18ba56dd09"
   },
   "outputs": [
    {
     "name": "stdout",
     "output_type": "stream",
     "text": [
      "              precision    recall  f1-score   support\n",
      "\n",
      "           0       0.97      1.00      0.98     21925\n",
      "           1       0.98      0.66      0.79      2112\n",
      "\n",
      "    accuracy                           0.97     24037\n",
      "   macro avg       0.98      0.83      0.89     24037\n",
      "weighted avg       0.97      0.97      0.97     24037\n",
      "\n"
     ]
    }
   ],
   "source": [
    "print(classification_report(y_test,y_pred_test))"
   ]
  },
  {
   "cell_type": "code",
   "execution_count": 90,
   "id": "8bffaf94",
   "metadata": {},
   "outputs": [],
   "source": [
    "y_pred_test=SGD.predict(X_test)\n",
    "y_pred_train=SGD.predict(X_train)"
   ]
  },
  {
   "cell_type": "code",
   "execution_count": 91,
   "id": "24e4e6d7",
   "metadata": {
    "colab": {
     "base_uri": "https://localhost:8080/"
    },
    "id": "079c81a3",
    "outputId": "84d2cf9b-1fef-449a-ea7d-2b6c0f155080"
   },
   "outputs": [
    {
     "name": "stdout",
     "output_type": "stream",
     "text": [
      "Training Accuracy : 0.9572868851322304\n",
      "Testing Accuracy : 0.9558597162707493\n",
      "F1 Score : 0.6867434307646885\n",
      "Recall : 0.5506628787878788\n",
      "Precision : 0.912156862745098\n"
     ]
    }
   ],
   "source": [
    "train_acc=accuracy_score(y_train,y_pred_train)\n",
    "test_acc=accuracy_score(y_test,y_pred_test)\n",
    "recal=recall_score(y_test,y_pred_test)\n",
    "prec=precision_score(y_test,y_pred_test)\n",
    "f1=f1_score(y_test,y_pred_test)\n",
    "print(\"Training Accuracy :\", train_acc)\n",
    "print(\"Testing Accuracy :\", test_acc)\n",
    "print(\"F1 Score :\", f1)\n",
    "print(\"Recall :\", recal)\n",
    "print(\"Precision :\", prec)"
   ]
  },
  {
   "cell_type": "code",
   "execution_count": 92,
   "id": "602d9ad2",
   "metadata": {
    "id": "2a63f6b0"
   },
   "outputs": [],
   "source": [
    "metric[\"Stochastic Gradient Descent Classifier\"]={\"Training_Accuracy\":train_acc, \"Testing Accuracy\":test_acc, \"f1 score\":f1, \"Recall\":recal, \"Precision\":prec}"
   ]
  },
  {
   "cell_type": "code",
   "execution_count": 93,
   "id": "c1c85247",
   "metadata": {
    "id": "ftqY1RwGarYC"
   },
   "outputs": [
    {
     "data": {
      "image/png": "[encoded data removed]",
      "text/plain": [
       "<Figure size 500x300 with 2 Axes>"
      ]
     },
     "metadata": {},
     "output_type": "display_data"
    }
   ],
   "source": [
    "conf_matrix = pd.DataFrame(data = confusion_matrix(y_test,y_pred_test),\n",
    "                           columns = ['Predicted:0', 'Predicted:1'],\n",
    "                           index =['Actual:0', 'Actual:1'])\n",
    "plt.figure(figsize = (5, 3))\n",
    "sns.heatmap(conf_matrix, annot = True, fmt = 'd')\n",
    "plt.show()"
   ]
  },
  {
   "cell_type": "markdown",
   "id": "29e114ee",
   "metadata": {
    "id": "29e114ee"
   },
   "source": [
    "* ## LGBM Classifier"
   ]
  },
  {
   "cell_type": "code",
   "execution_count": 94,
   "id": "58e048cc",
   "metadata": {},
   "outputs": [],
   "source": [
    "from lightgbm import LGBMClassifier"
   ]
  },
  {
   "cell_type": "code",
   "execution_count": 95,
   "id": "c16c1c11",
   "metadata": {},
   "outputs": [],
   "source": [
    "LGBM=LGBMClassifier(boosting_type='dart')"
   ]
  },
  {
   "cell_type": "code",
   "execution_count": 96,
   "id": "32b1e402",
   "metadata": {},
   "outputs": [
    {
     "name": "stdout",
     "output_type": "stream",
     "text": [
      "[LightGBM] [Warning] Found whitespace in feature_names, replace with underlines\n",
      "[LightGBM] [Info] Number of positive: 6370, number of negative: 65739\n",
      "[LightGBM] [Warning] Auto-choosing row-wise multi-threading, the overhead of testing was 0.002446 seconds.\n",
      "You can set `force_row_wise=true` to remove the overhead.\n",
      "And if memory is not enough, you can set `force_col_wise=true`.\n",
      "[LightGBM] [Info] Total Bins 414\n",
      "[LightGBM] [Info] Number of data points in the train set: 72109, number of used features: 13\n",
      "[LightGBM] [Info] [binary:BoostFromScore]: pavg=0.088338 -> initscore=-2.334093\n",
      "[LightGBM] [Info] Start training from score -2.334093\n"
     ]
    },
    {
     "data": {
      "text/html": [
       "<style>#sk-container-id-9 {color: black;background-color: white;}#sk-container-id-9 pre{padding: 0;}#sk-container-id-9 div.sk-toggleable {background-color: white;}#sk-container-id-9 label.sk-toggleable__label {cursor: pointer;display: block;width: 100%;margin-bottom: 0;padding: 0.3em;box-sizing: border-box;text-align: center;}#sk-container-id-9 label.sk-toggleable__label-arrow:before {content: \"▸\";float: left;margin-right: 0.25em;color: #696969;}#sk-container-id-9 label.sk-toggleable__label-arrow:hover:before {color: black;}#sk-container-id-9 div.sk-estimator:hover label.sk-toggleable__label-arrow:before {color: black;}#sk-container-id-9 div.sk-toggleable__content {max-height: 0;max-width: 0;overflow: hidden;text-align: left;background-color: #f0f8ff;}#sk-container-id-9 div.sk-toggleable__content pre {margin: 0.2em;color: black;border-radius: 0.25em;background-color: #f0f8ff;}#sk-container-id-9 input.sk-toggleable__control:checked~div.sk-toggleable__content {max-height: 200px;max-width: 100%;overflow: auto;}#sk-container-id-9 input.sk-toggleable__control:checked~label.sk-toggleable__label-arrow:before {content: \"▾\";}#sk-container-id-9 div.sk-estimator input.sk-toggleable__control:checked~label.sk-toggleable__label {background-color: #d4ebff;}#sk-container-id-9 div.sk-label input.sk-toggleable__control:checked~label.sk-toggleable__label {background-color: #d4ebff;}#sk-container-id-9 input.sk-hidden--visually {border: 0;clip: rect(1px 1px 1px 1px);clip: rect(1px, 1px, 1px, 1px);height: 1px;margin: -1px;overflow: hidden;padding: 0;position: absolute;width: 1px;}#sk-container-id-9 div.sk-estimator {font-family: monospace;background-color: #f0f8ff;border: 1px dotted black;border-radius: 0.25em;box-sizing: border-box;margin-bottom: 0.5em;}#sk-container-id-9 div.sk-estimator:hover {background-color: #d4ebff;}#sk-container-id-9 div.sk-parallel-item::after {content: \"\";width: 100%;border-bottom: 1px solid gray;flex-grow: 1;}#sk-container-id-9 div.sk-label:hover label.sk-toggleable__label {background-color: #d4ebff;}#sk-container-id-9 div.sk-serial::before {content: \"\";position: absolute;border-left: 1px solid gray;box-sizing: border-box;top: 0;bottom: 0;left: 50%;z-index: 0;}#sk-container-id-9 div.sk-serial {display: flex;flex-direction: column;align-items: center;background-color: white;padding-right: 0.2em;padding-left: 0.2em;position: relative;}#sk-container-id-9 div.sk-item {position: relative;z-index: 1;}#sk-container-id-9 div.sk-parallel {display: flex;align-items: stretch;justify-content: center;background-color: white;position: relative;}#sk-container-id-9 div.sk-item::before, #sk-container-id-9 div.sk-parallel-item::before {content: \"\";position: absolute;border-left: 1px solid gray;box-sizing: border-box;top: 0;bottom: 0;left: 50%;z-index: -1;}#sk-container-id-9 div.sk-parallel-item {display: flex;flex-direction: column;z-index: 1;position: relative;background-color: white;}#sk-container-id-9 div.sk-parallel-item:first-child::after {align-self: flex-end;width: 50%;}#sk-container-id-9 div.sk-parallel-item:last-child::after {align-self: flex-start;width: 50%;}#sk-container-id-9 div.sk-parallel-item:only-child::after {width: 0;}#sk-container-id-9 div.sk-dashed-wrapped {border: 1px dashed gray;margin: 0 0.4em 0.5em 0.4em;box-sizing: border-box;padding-bottom: 0.4em;background-color: white;}#sk-container-id-9 div.sk-label label {font-family: monospace;font-weight: bold;display: inline-block;line-height: 1.2em;}#sk-container-id-9 div.sk-label-container {text-align: center;}#sk-container-id-9 div.sk-container {/* jupyter's `normalize.less` sets `[hidden] { display: none; }` but bootstrap.min.css set `[hidden] { display: none !important; }` so we also need the `!important` here to be able to override the default hidden behavior on the sphinx rendered scikit-learn.org. See: https://github.com/scikit-learn/scikit-learn/issues/21755 */display: inline-block !important;position: relative;}#sk-container-id-9 div.sk-text-repr-fallback {display: none;}</style><div id=\"sk-container-id-9\" class=\"sk-top-container\"><div class=\"sk-text-repr-fallback\"><pre>LGBMClassifier(boosting_type=&#x27;dart&#x27;)</pre><b>In a Jupyter environment, please rerun this cell to show the HTML representation or trust the notebook. <br />On GitHub, the HTML representation is unable to render, please try loading this page with nbviewer.org.</b></div><div class=\"sk-container\" hidden><div class=\"sk-item\"><div class=\"sk-estimator sk-toggleable\"><input class=\"sk-toggleable__control sk-hidden--visually\" id=\"sk-estimator-id-9\" type=\"checkbox\" checked><label for=\"sk-estimator-id-9\" class=\"sk-toggleable__label sk-toggleable__label-arrow\">LGBMClassifier</label><div class=\"sk-toggleable__content\"><pre>LGBMClassifier(boosting_type=&#x27;dart&#x27;)</pre></div></div></div></div></div>"
      ],
      "text/plain": [
       "LGBMClassifier(boosting_type='dart')"
      ]
     },
     "execution_count": 96,
     "metadata": {},
     "output_type": "execute_result"
    }
   ],
   "source": [
    "LGBM.fit(X_train,y_train)"
   ]
  },
  {
   "cell_type": "code",
   "execution_count": 97,
   "id": "0df6d3b3",
   "metadata": {
    "colab": {
     "base_uri": "https://localhost:8080/"
    },
    "id": "22f3764d",
    "outputId": "011f7c46-e9f1-4895-8dee-3d18ba56dd09"
   },
   "outputs": [
    {
     "name": "stdout",
     "output_type": "stream",
     "text": [
      "              precision    recall  f1-score   support\n",
      "\n",
      "           0       0.96      0.99      0.98     21925\n",
      "           1       0.91      0.55      0.69      2112\n",
      "\n",
      "    accuracy                           0.96     24037\n",
      "   macro avg       0.94      0.77      0.83     24037\n",
      "weighted avg       0.95      0.96      0.95     24037\n",
      "\n"
     ]
    }
   ],
   "source": [
    "print(classification_report(y_test,y_pred_test))"
   ]
  },
  {
   "cell_type": "code",
   "execution_count": 98,
   "id": "89978ee0",
   "metadata": {},
   "outputs": [],
   "source": [
    "y_pred_test=LGBM.predict(X_test)\n",
    "y_pred_train=LGBM.predict(X_train)"
   ]
  },
  {
   "cell_type": "code",
   "execution_count": 99,
   "id": "57386f82",
   "metadata": {
    "colab": {
     "base_uri": "https://localhost:8080/"
    },
    "id": "079c81a3",
    "outputId": "84d2cf9b-1fef-449a-ea7d-2b6c0f155080"
   },
   "outputs": [
    {
     "name": "stdout",
     "output_type": "stream",
     "text": [
      "Training Accuracy : 0.9724306258580759\n",
      "Testing Accuracy : 0.9695053459250322\n",
      "F1 Score : 0.7932299012693936\n",
      "Recall : 0.665719696969697\n",
      "Precision : 0.9811584089323099\n"
     ]
    }
   ],
   "source": [
    "train_acc=accuracy_score(y_train,y_pred_train)\n",
    "test_acc=accuracy_score(y_test,y_pred_test)\n",
    "recal=recall_score(y_test,y_pred_test)\n",
    "prec=precision_score(y_test,y_pred_test)\n",
    "f1=f1_score(y_test,y_pred_test)\n",
    "print(\"Training Accuracy :\", train_acc)\n",
    "print(\"Testing Accuracy :\", test_acc)\n",
    "print(\"F1 Score :\", f1)\n",
    "print(\"Recall :\", recal)\n",
    "print(\"Precision :\", prec)"
   ]
  },
  {
   "cell_type": "code",
   "execution_count": 100,
   "id": "211768d8",
   "metadata": {
    "id": "2a63f6b0"
   },
   "outputs": [],
   "source": [
    "metric[\"LGBM Classifier\"]={\"Training_Accuracy\":train_acc, \"Testing Accuracy\":test_acc, \"f1 score\":f1, \"Recall\":recal, \"Precision\":prec}"
   ]
  },
  {
   "cell_type": "code",
   "execution_count": 101,
   "id": "6b7f64a2",
   "metadata": {
    "id": "ftqY1RwGarYC"
   },
   "outputs": [
    {
     "data": {
      "image/png": "[encoded data removed]",
      "text/plain": [
       "<Figure size 500x300 with 2 Axes>"
      ]
     },
     "metadata": {},
     "output_type": "display_data"
    }
   ],
   "source": [
    "conf_matrix = pd.DataFrame(data = confusion_matrix(y_test,y_pred_test),\n",
    "                           columns = ['Predicted:0', 'Predicted:1'],\n",
    "                           index =['Actual:0', 'Actual:1'])\n",
    "plt.figure(figsize = (5, 3))\n",
    "sns.heatmap(conf_matrix, annot = True, fmt = 'd')\n",
    "plt.show()"
   ]
  },
  {
   "cell_type": "markdown",
   "id": "f92dfbb5",
   "metadata": {
    "id": "f92dfbb5"
   },
   "source": [
    "* ## XGBoost Classifier"
   ]
  },
  {
   "cell_type": "code",
   "execution_count": 102,
   "id": "9856ab9d",
   "metadata": {},
   "outputs": [],
   "source": [
    "from xgboost.sklearn import XGBClassifier"
   ]
  },
  {
   "cell_type": "code",
   "execution_count": 103,
   "id": "df913083",
   "metadata": {},
   "outputs": [],
   "source": [
    "XG=XGBClassifier()"
   ]
  },
  {
   "cell_type": "code",
   "execution_count": 104,
   "id": "c93d93e3",
   "metadata": {},
   "outputs": [
    {
     "data": {
      "text/html": [
       "<style>#sk-container-id-10 {color: black;background-color: white;}#sk-container-id-10 pre{padding: 0;}#sk-container-id-10 div.sk-toggleable {background-color: white;}#sk-container-id-10 label.sk-toggleable__label {cursor: pointer;display: block;width: 100%;margin-bottom: 0;padding: 0.3em;box-sizing: border-box;text-align: center;}#sk-container-id-10 label.sk-toggleable__label-arrow:before {content: \"▸\";float: left;margin-right: 0.25em;color: #696969;}#sk-container-id-10 label.sk-toggleable__label-arrow:hover:before {color: black;}#sk-container-id-10 div.sk-estimator:hover label.sk-toggleable__label-arrow:before {color: black;}#sk-container-id-10 div.sk-toggleable__content {max-height: 0;max-width: 0;overflow: hidden;text-align: left;background-color: #f0f8ff;}#sk-container-id-10 div.sk-toggleable__content pre {margin: 0.2em;color: black;border-radius: 0.25em;background-color: #f0f8ff;}#sk-container-id-10 input.sk-toggleable__control:checked~div.sk-toggleable__content {max-height: 200px;max-width: 100%;overflow: auto;}#sk-container-id-10 input.sk-toggleable__control:checked~label.sk-toggleable__label-arrow:before {content: \"▾\";}#sk-container-id-10 div.sk-estimator input.sk-toggleable__control:checked~label.sk-toggleable__label {background-color: #d4ebff;}#sk-container-id-10 div.sk-label input.sk-toggleable__control:checked~label.sk-toggleable__label {background-color: #d4ebff;}#sk-container-id-10 input.sk-hidden--visually {border: 0;clip: rect(1px 1px 1px 1px);clip: rect(1px, 1px, 1px, 1px);height: 1px;margin: -1px;overflow: hidden;padding: 0;position: absolute;width: 1px;}#sk-container-id-10 div.sk-estimator {font-family: monospace;background-color: #f0f8ff;border: 1px dotted black;border-radius: 0.25em;box-sizing: border-box;margin-bottom: 0.5em;}#sk-container-id-10 div.sk-estimator:hover {background-color: #d4ebff;}#sk-container-id-10 div.sk-parallel-item::after {content: \"\";width: 100%;border-bottom: 1px solid gray;flex-grow: 1;}#sk-container-id-10 div.sk-label:hover label.sk-toggleable__label {background-color: #d4ebff;}#sk-container-id-10 div.sk-serial::before {content: \"\";position: absolute;border-left: 1px solid gray;box-sizing: border-box;top: 0;bottom: 0;left: 50%;z-index: 0;}#sk-container-id-10 div.sk-serial {display: flex;flex-direction: column;align-items: center;background-color: white;padding-right: 0.2em;padding-left: 0.2em;position: relative;}#sk-container-id-10 div.sk-item {position: relative;z-index: 1;}#sk-container-id-10 div.sk-parallel {display: flex;align-items: stretch;justify-content: center;background-color: white;position: relative;}#sk-container-id-10 div.sk-item::before, #sk-container-id-10 div.sk-parallel-item::before {content: \"\";position: absolute;border-left: 1px solid gray;box-sizing: border-box;top: 0;bottom: 0;left: 50%;z-index: -1;}#sk-container-id-10 div.sk-parallel-item {display: flex;flex-direction: column;z-index: 1;position: relative;background-color: white;}#sk-container-id-10 div.sk-parallel-item:first-child::after {align-self: flex-end;width: 50%;}#sk-container-id-10 div.sk-parallel-item:last-child::after {align-self: flex-start;width: 50%;}#sk-container-id-10 div.sk-parallel-item:only-child::after {width: 0;}#sk-container-id-10 div.sk-dashed-wrapped {border: 1px dashed gray;margin: 0 0.4em 0.5em 0.4em;box-sizing: border-box;padding-bottom: 0.4em;background-color: white;}#sk-container-id-10 div.sk-label label {font-family: monospace;font-weight: bold;display: inline-block;line-height: 1.2em;}#sk-container-id-10 div.sk-label-container {text-align: center;}#sk-container-id-10 div.sk-container {/* jupyter's `normalize.less` sets `[hidden] { display: none; }` but bootstrap.min.css set `[hidden] { display: none !important; }` so we also need the `!important` here to be able to override the default hidden behavior on the sphinx rendered scikit-learn.org. See: https://github.com/scikit-learn/scikit-learn/issues/21755 */display: inline-block !important;position: relative;}#sk-container-id-10 div.sk-text-repr-fallback {display: none;}</style><div id=\"sk-container-id-10\" class=\"sk-top-container\"><div class=\"sk-text-repr-fallback\"><pre>XGBClassifier(base_score=None, booster=None, callbacks=None,\n",
       "              colsample_bylevel=None, colsample_bynode=None,\n",
       "              colsample_bytree=None, early_stopping_rounds=None,\n",
       "              enable_categorical=False, eval_metric=None, feature_types=None,\n",
       "              gamma=None, gpu_id=None, grow_policy=None, importance_type=None,\n",
       "              interaction_constraints=None, learning_rate=None, max_bin=None,\n",
       "              max_cat_threshold=None, max_cat_to_onehot=None,\n",
       "              max_delta_step=None, max_depth=None, max_leaves=None,\n",
       "              min_child_weight=None, missing=nan, monotone_constraints=None,\n",
       "              n_estimators=100, n_jobs=None, num_parallel_tree=None,\n",
       "              predictor=None, random_state=None, ...)</pre><b>In a Jupyter environment, please rerun this cell to show the HTML representation or trust the notebook. <br />On GitHub, the HTML representation is unable to render, please try loading this page with nbviewer.org.</b></div><div class=\"sk-container\" hidden><div class=\"sk-item\"><div class=\"sk-estimator sk-toggleable\"><input class=\"sk-toggleable__control sk-hidden--visually\" id=\"sk-estimator-id-10\" type=\"checkbox\" checked><label for=\"sk-estimator-id-10\" class=\"sk-toggleable__label sk-toggleable__label-arrow\">XGBClassifier</label><div class=\"sk-toggleable__content\"><pre>XGBClassifier(base_score=None, booster=None, callbacks=None,\n",
       "              colsample_bylevel=None, colsample_bynode=None,\n",
       "              colsample_bytree=None, early_stopping_rounds=None,\n",
       "              enable_categorical=False, eval_metric=None, feature_types=None,\n",
       "              gamma=None, gpu_id=None, grow_policy=None, importance_type=None,\n",
       "              interaction_constraints=None, learning_rate=None, max_bin=None,\n",
       "              max_cat_threshold=None, max_cat_to_onehot=None,\n",
       "              max_delta_step=None, max_depth=None, max_leaves=None,\n",
       "              min_child_weight=None, missing=nan, monotone_constraints=None,\n",
       "              n_estimators=100, n_jobs=None, num_parallel_tree=None,\n",
       "              predictor=None, random_state=None, ...)</pre></div></div></div></div></div>"
      ],
      "text/plain": [
       "XGBClassifier(base_score=None, booster=None, callbacks=None,\n",
       "              colsample_bylevel=None, colsample_bynode=None,\n",
       "              colsample_bytree=None, early_stopping_rounds=None,\n",
       "              enable_categorical=False, eval_metric=None, feature_types=None,\n",
       "              gamma=None, gpu_id=None, grow_policy=None, importance_type=None,\n",
       "              interaction_constraints=None, learning_rate=None, max_bin=None,\n",
       "              max_cat_threshold=None, max_cat_to_onehot=None,\n",
       "              max_delta_step=None, max_depth=None, max_leaves=None,\n",
       "              min_child_weight=None, missing=nan, monotone_constraints=None,\n",
       "              n_estimators=100, n_jobs=None, num_parallel_tree=None,\n",
       "              predictor=None, random_state=None, ...)"
      ]
     },
     "execution_count": 104,
     "metadata": {},
     "output_type": "execute_result"
    }
   ],
   "source": [
    "XG.fit(X_train,y_train)"
   ]
  },
  {
   "cell_type": "code",
   "execution_count": 105,
   "id": "b84893a8",
   "metadata": {
    "colab": {
     "base_uri": "https://localhost:8080/"
    },
    "id": "22f3764d",
    "outputId": "011f7c46-e9f1-4895-8dee-3d18ba56dd09"
   },
   "outputs": [
    {
     "name": "stdout",
     "output_type": "stream",
     "text": [
      "              precision    recall  f1-score   support\n",
      "\n",
      "           0       0.97      1.00      0.98     21925\n",
      "           1       0.98      0.67      0.79      2112\n",
      "\n",
      "    accuracy                           0.97     24037\n",
      "   macro avg       0.97      0.83      0.89     24037\n",
      "weighted avg       0.97      0.97      0.97     24037\n",
      "\n"
     ]
    }
   ],
   "source": [
    "print(classification_report(y_test,y_pred_test))"
   ]
  },
  {
   "cell_type": "code",
   "execution_count": 106,
   "id": "9bb9c091",
   "metadata": {},
   "outputs": [],
   "source": [
    "y_pred_test=XG.predict(X_test)\n",
    "y_pred_train=XG.predict(X_train)"
   ]
  },
  {
   "cell_type": "code",
   "execution_count": 107,
   "id": "613fdbad",
   "metadata": {
    "colab": {
     "base_uri": "https://localhost:8080/"
    },
    "id": "079c81a3",
    "outputId": "84d2cf9b-1fef-449a-ea7d-2b6c0f155080"
   },
   "outputs": [
    {
     "name": "stdout",
     "output_type": "stream",
     "text": [
      "Training Accuracy : 0.9757311847342218\n",
      "Testing Accuracy : 0.969546948454466\n",
      "F1 Score : 0.7979017117614577\n",
      "Recall : 0.6841856060606061\n",
      "Precision : 0.956953642384106\n"
     ]
    }
   ],
   "source": [
    "train_acc=accuracy_score(y_train,y_pred_train)\n",
    "test_acc=accuracy_score(y_test,y_pred_test)\n",
    "recal=recall_score(y_test,y_pred_test)\n",
    "prec=precision_score(y_test,y_pred_test)\n",
    "f1=f1_score(y_test,y_pred_test)\n",
    "print(\"Training Accuracy :\", train_acc)\n",
    "print(\"Testing Accuracy :\", test_acc)\n",
    "print(\"F1 Score :\", f1)\n",
    "print(\"Recall :\", recal)\n",
    "print(\"Precision :\", prec)"
   ]
  },
  {
   "cell_type": "code",
   "execution_count": 108,
   "id": "a2b4461c",
   "metadata": {
    "id": "2a63f6b0"
   },
   "outputs": [],
   "source": [
    "metric[\"XGBoost\"]={\"Training_Accuracy\":train_acc, \"Testing Accuracy\":test_acc, \"f1 score\":f1, \"Recall\":recal, \"Precision\":prec}"
   ]
  },
  {
   "cell_type": "code",
   "execution_count": 109,
   "id": "2c7e0ef3",
   "metadata": {
    "id": "ftqY1RwGarYC"
   },
   "outputs": [
    {
     "data": {
      "image/png": "[encoded data removed]",
      "text/plain": [
       "<Figure size 500x300 with 2 Axes>"
      ]
     },
     "metadata": {},
     "output_type": "display_data"
    }
   ],
   "source": [
    "conf_matrix = pd.DataFrame(data = confusion_matrix(y_test,y_pred_test),\n",
    "                           columns = ['Predicted:0', 'Predicted:1'],\n",
    "                           index =['Actual:0', 'Actual:1'])\n",
    "plt.figure(figsize = (5, 3))\n",
    "sns.heatmap(conf_matrix, annot = True, fmt = 'd')\n",
    "plt.show()"
   ]
  },
  {
   "cell_type": "markdown",
   "id": "8ceac938",
   "metadata": {
    "id": "8ceac938"
   },
   "source": [
    "* ## CatBoost"
   ]
  },
  {
   "cell_type": "code",
   "execution_count": 110,
   "id": "197710e3",
   "metadata": {},
   "outputs": [],
   "source": [
    "from catboost import CatBoostClassifier"
   ]
  },
  {
   "cell_type": "code",
   "execution_count": 111,
   "id": "97f20230",
   "metadata": {},
   "outputs": [],
   "source": [
    "CB=CatBoostClassifier()"
   ]
  },
  {
   "cell_type": "code",
   "execution_count": 112,
   "id": "b110f955",
   "metadata": {},
   "outputs": [
    {
     "name": "stdout",
     "output_type": "stream",
     "text": [
      "Learning rate set to 0.064017\n",
      "0:\tlearn: 0.5425145\ttotal: 163ms\tremaining: 2m 42s\n",
      "1:\tlearn: 0.4570471\ttotal: 179ms\tremaining: 1m 29s\n",
      "2:\tlearn: 0.3832519\ttotal: 195ms\tremaining: 1m 4s\n",
      "3:\tlearn: 0.3133882\ttotal: 211ms\tremaining: 52.4s\n",
      "4:\tlearn: 0.2638991\ttotal: 230ms\tremaining: 45.7s\n",
      "5:\tlearn: 0.2272761\ttotal: 252ms\tremaining: 41.7s\n",
      "6:\tlearn: 0.1994655\ttotal: 268ms\tremaining: 38s\n",
      "7:\tlearn: 0.1768080\ttotal: 284ms\tremaining: 35.3s\n",
      "8:\tlearn: 0.1607484\ttotal: 301ms\tremaining: 33.2s\n",
      "9:\tlearn: 0.1456046\ttotal: 317ms\tremaining: 31.4s\n",
      "10:\tlearn: 0.1372004\ttotal: 335ms\tremaining: 30.1s\n",
      "11:\tlearn: 0.1306603\ttotal: 351ms\tremaining: 28.9s\n",
      "12:\tlearn: 0.1244295\ttotal: 367ms\tremaining: 27.9s\n",
      "13:\tlearn: 0.1182517\ttotal: 384ms\tremaining: 27s\n",
      "14:\tlearn: 0.1142669\ttotal: 401ms\tremaining: 26.4s\n",
      "15:\tlearn: 0.1089364\ttotal: 419ms\tremaining: 25.8s\n",
      "16:\tlearn: 0.1063977\ttotal: 441ms\tremaining: 25.5s\n",
      "17:\tlearn: 0.1041273\ttotal: 458ms\tremaining: 25s\n",
      "18:\tlearn: 0.1015915\ttotal: 474ms\tremaining: 24.5s\n",
      "19:\tlearn: 0.0992341\ttotal: 489ms\tremaining: 24s\n",
      "20:\tlearn: 0.0974030\ttotal: 505ms\tremaining: 23.5s\n",
      "21:\tlearn: 0.0965254\ttotal: 521ms\tremaining: 23.2s\n",
      "22:\tlearn: 0.0948160\ttotal: 539ms\tremaining: 22.9s\n",
      "23:\tlearn: 0.0932551\ttotal: 554ms\tremaining: 22.5s\n",
      "24:\tlearn: 0.0923712\ttotal: 570ms\tremaining: 22.2s\n",
      "25:\tlearn: 0.0910821\ttotal: 586ms\tremaining: 22s\n",
      "26:\tlearn: 0.0902379\ttotal: 603ms\tremaining: 21.7s\n",
      "27:\tlearn: 0.0893894\ttotal: 618ms\tremaining: 21.5s\n",
      "28:\tlearn: 0.0888859\ttotal: 635ms\tremaining: 21.3s\n",
      "29:\tlearn: 0.0885736\ttotal: 654ms\tremaining: 21.1s\n",
      "30:\tlearn: 0.0872190\ttotal: 669ms\tremaining: 20.9s\n",
      "31:\tlearn: 0.0867537\ttotal: 687ms\tremaining: 20.8s\n",
      "32:\tlearn: 0.0865507\ttotal: 702ms\tremaining: 20.6s\n",
      "33:\tlearn: 0.0861560\ttotal: 724ms\tremaining: 20.6s\n",
      "34:\tlearn: 0.0859479\ttotal: 739ms\tremaining: 20.4s\n",
      "35:\tlearn: 0.0852126\ttotal: 754ms\tremaining: 20.2s\n",
      "36:\tlearn: 0.0850562\ttotal: 773ms\tremaining: 20.1s\n",
      "37:\tlearn: 0.0847726\ttotal: 789ms\tremaining: 20s\n",
      "38:\tlearn: 0.0845358\ttotal: 804ms\tremaining: 19.8s\n",
      "39:\tlearn: 0.0842813\ttotal: 822ms\tremaining: 19.7s\n",
      "40:\tlearn: 0.0840901\ttotal: 839ms\tremaining: 19.6s\n",
      "41:\tlearn: 0.0836316\ttotal: 858ms\tremaining: 19.6s\n",
      "42:\tlearn: 0.0834318\ttotal: 881ms\tremaining: 19.6s\n",
      "43:\tlearn: 0.0833250\ttotal: 901ms\tremaining: 19.6s\n",
      "44:\tlearn: 0.0831826\ttotal: 926ms\tremaining: 19.7s\n",
      "45:\tlearn: 0.0828140\ttotal: 946ms\tremaining: 19.6s\n",
      "46:\tlearn: 0.0826794\ttotal: 967ms\tremaining: 19.6s\n",
      "47:\tlearn: 0.0825438\ttotal: 998ms\tremaining: 19.8s\n",
      "48:\tlearn: 0.0824574\ttotal: 1.02s\tremaining: 19.8s\n",
      "49:\tlearn: 0.0823619\ttotal: 1.04s\tremaining: 19.8s\n",
      "50:\tlearn: 0.0822549\ttotal: 1.06s\tremaining: 19.7s\n",
      "51:\tlearn: 0.0821587\ttotal: 1.08s\tremaining: 19.7s\n",
      "52:\tlearn: 0.0821073\ttotal: 1.1s\tremaining: 19.6s\n",
      "53:\tlearn: 0.0819955\ttotal: 1.11s\tremaining: 19.5s\n",
      "54:\tlearn: 0.0819380\ttotal: 1.13s\tremaining: 19.4s\n",
      "55:\tlearn: 0.0818845\ttotal: 1.14s\tremaining: 19.3s\n",
      "56:\tlearn: 0.0817944\ttotal: 1.16s\tremaining: 19.2s\n",
      "57:\tlearn: 0.0816984\ttotal: 1.18s\tremaining: 19.1s\n",
      "58:\tlearn: 0.0815746\ttotal: 1.2s\tremaining: 19.1s\n",
      "59:\tlearn: 0.0813147\ttotal: 1.21s\tremaining: 19s\n",
      "60:\tlearn: 0.0812484\ttotal: 1.23s\tremaining: 19s\n",
      "61:\tlearn: 0.0811766\ttotal: 1.25s\tremaining: 18.9s\n",
      "62:\tlearn: 0.0811082\ttotal: 1.26s\tremaining: 18.8s\n",
      "63:\tlearn: 0.0810391\ttotal: 1.28s\tremaining: 18.7s\n",
      "64:\tlearn: 0.0809420\ttotal: 1.3s\tremaining: 18.7s\n",
      "65:\tlearn: 0.0809052\ttotal: 1.31s\tremaining: 18.6s\n",
      "66:\tlearn: 0.0808319\ttotal: 1.33s\tremaining: 18.5s\n",
      "67:\tlearn: 0.0807750\ttotal: 1.35s\tremaining: 18.4s\n",
      "68:\tlearn: 0.0807226\ttotal: 1.36s\tremaining: 18.4s\n",
      "69:\tlearn: 0.0806663\ttotal: 1.38s\tremaining: 18.3s\n",
      "70:\tlearn: 0.0806043\ttotal: 1.4s\tremaining: 18.3s\n",
      "71:\tlearn: 0.0805347\ttotal: 1.42s\tremaining: 18.3s\n",
      "72:\tlearn: 0.0804952\ttotal: 1.43s\tremaining: 18.2s\n",
      "73:\tlearn: 0.0804467\ttotal: 1.45s\tremaining: 18.1s\n",
      "74:\tlearn: 0.0804025\ttotal: 1.46s\tremaining: 18s\n",
      "75:\tlearn: 0.0803471\ttotal: 1.48s\tremaining: 18s\n",
      "76:\tlearn: 0.0802781\ttotal: 1.5s\tremaining: 18s\n",
      "77:\tlearn: 0.0802264\ttotal: 1.52s\tremaining: 18s\n",
      "78:\tlearn: 0.0801734\ttotal: 1.54s\tremaining: 17.9s\n",
      "79:\tlearn: 0.0801225\ttotal: 1.55s\tremaining: 17.9s\n",
      "80:\tlearn: 0.0800808\ttotal: 1.57s\tremaining: 17.8s\n",
      "81:\tlearn: 0.0800474\ttotal: 1.59s\tremaining: 17.8s\n",
      "82:\tlearn: 0.0800061\ttotal: 1.61s\tremaining: 17.8s\n",
      "83:\tlearn: 0.0799473\ttotal: 1.62s\tremaining: 17.7s\n",
      "84:\tlearn: 0.0799080\ttotal: 1.64s\tremaining: 17.6s\n",
      "85:\tlearn: 0.0798548\ttotal: 1.65s\tremaining: 17.6s\n",
      "86:\tlearn: 0.0798180\ttotal: 1.67s\tremaining: 17.5s\n",
      "87:\tlearn: 0.0797894\ttotal: 1.69s\tremaining: 17.5s\n",
      "88:\tlearn: 0.0795989\ttotal: 1.71s\tremaining: 17.5s\n",
      "89:\tlearn: 0.0795559\ttotal: 1.73s\tremaining: 17.5s\n",
      "90:\tlearn: 0.0795003\ttotal: 1.74s\tremaining: 17.4s\n",
      "91:\tlearn: 0.0794666\ttotal: 1.76s\tremaining: 17.4s\n",
      "92:\tlearn: 0.0794234\ttotal: 1.78s\tremaining: 17.4s\n",
      "93:\tlearn: 0.0793704\ttotal: 1.8s\tremaining: 17.4s\n",
      "94:\tlearn: 0.0793231\ttotal: 1.82s\tremaining: 17.3s\n",
      "95:\tlearn: 0.0792642\ttotal: 1.84s\tremaining: 17.3s\n",
      "96:\tlearn: 0.0792285\ttotal: 1.85s\tremaining: 17.2s\n",
      "97:\tlearn: 0.0792005\ttotal: 1.87s\tremaining: 17.2s\n",
      "98:\tlearn: 0.0791782\ttotal: 1.88s\tremaining: 17.2s\n",
      "99:\tlearn: 0.0790205\ttotal: 1.9s\tremaining: 17.1s\n",
      "100:\tlearn: 0.0789938\ttotal: 1.92s\tremaining: 17.1s\n",
      "101:\tlearn: 0.0789434\ttotal: 1.94s\tremaining: 17.1s\n",
      "102:\tlearn: 0.0789067\ttotal: 1.96s\tremaining: 17.1s\n",
      "103:\tlearn: 0.0788700\ttotal: 1.98s\tremaining: 17s\n",
      "104:\tlearn: 0.0788175\ttotal: 1.99s\tremaining: 17s\n",
      "105:\tlearn: 0.0787988\ttotal: 2.01s\tremaining: 16.9s\n",
      "106:\tlearn: 0.0787527\ttotal: 2.03s\tremaining: 16.9s\n",
      "107:\tlearn: 0.0787064\ttotal: 2.04s\tremaining: 16.9s\n",
      "108:\tlearn: 0.0786823\ttotal: 2.06s\tremaining: 16.9s\n",
      "109:\tlearn: 0.0786401\ttotal: 2.08s\tremaining: 16.8s\n",
      "110:\tlearn: 0.0786195\ttotal: 2.1s\tremaining: 16.8s\n",
      "111:\tlearn: 0.0785732\ttotal: 2.12s\tremaining: 16.8s\n",
      "112:\tlearn: 0.0785413\ttotal: 2.13s\tremaining: 16.8s\n",
      "113:\tlearn: 0.0785072\ttotal: 2.15s\tremaining: 16.8s\n",
      "114:\tlearn: 0.0784722\ttotal: 2.17s\tremaining: 16.7s\n",
      "115:\tlearn: 0.0784252\ttotal: 2.19s\tremaining: 16.7s\n",
      "116:\tlearn: 0.0783803\ttotal: 2.2s\tremaining: 16.6s\n",
      "117:\tlearn: 0.0783475\ttotal: 2.22s\tremaining: 16.6s\n",
      "118:\tlearn: 0.0783010\ttotal: 2.24s\tremaining: 16.6s\n",
      "119:\tlearn: 0.0782055\ttotal: 2.25s\tremaining: 16.5s\n",
      "120:\tlearn: 0.0781569\ttotal: 2.27s\tremaining: 16.5s\n",
      "121:\tlearn: 0.0781283\ttotal: 2.29s\tremaining: 16.4s\n",
      "122:\tlearn: 0.0780810\ttotal: 2.3s\tremaining: 16.4s\n",
      "123:\tlearn: 0.0780559\ttotal: 2.32s\tremaining: 16.4s\n",
      "124:\tlearn: 0.0780267\ttotal: 2.34s\tremaining: 16.4s\n",
      "125:\tlearn: 0.0779927\ttotal: 2.35s\tremaining: 16.3s\n",
      "126:\tlearn: 0.0779658\ttotal: 2.38s\tremaining: 16.4s\n",
      "127:\tlearn: 0.0779168\ttotal: 2.4s\tremaining: 16.3s\n",
      "128:\tlearn: 0.0778873\ttotal: 2.41s\tremaining: 16.3s\n",
      "129:\tlearn: 0.0778477\ttotal: 2.43s\tremaining: 16.3s\n",
      "130:\tlearn: 0.0778028\ttotal: 2.45s\tremaining: 16.2s\n",
      "131:\tlearn: 0.0777640\ttotal: 2.46s\tremaining: 16.2s\n",
      "132:\tlearn: 0.0777336\ttotal: 2.48s\tremaining: 16.2s\n",
      "133:\tlearn: 0.0776978\ttotal: 2.5s\tremaining: 16.1s\n",
      "134:\tlearn: 0.0776702\ttotal: 2.51s\tremaining: 16.1s\n",
      "135:\tlearn: 0.0775943\ttotal: 2.53s\tremaining: 16.1s\n",
      "136:\tlearn: 0.0775601\ttotal: 2.54s\tremaining: 16s\n",
      "137:\tlearn: 0.0775330\ttotal: 2.56s\tremaining: 16s\n",
      "138:\tlearn: 0.0775122\ttotal: 2.58s\tremaining: 16s\n",
      "139:\tlearn: 0.0774758\ttotal: 2.6s\tremaining: 16s\n",
      "140:\tlearn: 0.0774431\ttotal: 2.61s\tremaining: 15.9s\n",
      "141:\tlearn: 0.0774084\ttotal: 2.63s\tremaining: 15.9s\n",
      "142:\tlearn: 0.0773764\ttotal: 2.64s\tremaining: 15.8s\n",
      "143:\tlearn: 0.0773442\ttotal: 2.66s\tremaining: 15.8s\n",
      "144:\tlearn: 0.0773014\ttotal: 2.68s\tremaining: 15.8s\n",
      "145:\tlearn: 0.0772739\ttotal: 2.7s\tremaining: 15.8s\n",
      "146:\tlearn: 0.0772473\ttotal: 2.71s\tremaining: 15.8s\n",
      "147:\tlearn: 0.0772343\ttotal: 2.73s\tremaining: 15.7s\n",
      "148:\tlearn: 0.0771996\ttotal: 2.75s\tremaining: 15.7s\n",
      "149:\tlearn: 0.0771916\ttotal: 2.77s\tremaining: 15.7s\n",
      "150:\tlearn: 0.0771584\ttotal: 2.78s\tremaining: 15.6s\n",
      "151:\tlearn: 0.0771387\ttotal: 2.8s\tremaining: 15.6s\n",
      "152:\tlearn: 0.0771199\ttotal: 2.82s\tremaining: 15.6s\n",
      "153:\tlearn: 0.0770605\ttotal: 2.83s\tremaining: 15.6s\n",
      "154:\tlearn: 0.0770338\ttotal: 2.85s\tremaining: 15.6s\n",
      "155:\tlearn: 0.0770173\ttotal: 2.87s\tremaining: 15.5s\n",
      "156:\tlearn: 0.0769714\ttotal: 2.89s\tremaining: 15.5s\n",
      "157:\tlearn: 0.0769498\ttotal: 2.9s\tremaining: 15.5s\n",
      "158:\tlearn: 0.0769295\ttotal: 2.92s\tremaining: 15.5s\n",
      "159:\tlearn: 0.0768813\ttotal: 2.94s\tremaining: 15.4s\n",
      "160:\tlearn: 0.0768514\ttotal: 2.95s\tremaining: 15.4s\n",
      "161:\tlearn: 0.0768370\ttotal: 2.97s\tremaining: 15.4s\n",
      "162:\tlearn: 0.0768204\ttotal: 2.99s\tremaining: 15.4s\n",
      "163:\tlearn: 0.0768087\ttotal: 3.02s\tremaining: 15.4s\n",
      "164:\tlearn: 0.0767948\ttotal: 3.03s\tremaining: 15.3s\n",
      "165:\tlearn: 0.0767725\ttotal: 3.05s\tremaining: 15.3s\n",
      "166:\tlearn: 0.0767330\ttotal: 3.06s\tremaining: 15.3s\n",
      "167:\tlearn: 0.0767054\ttotal: 3.08s\tremaining: 15.3s\n",
      "168:\tlearn: 0.0766661\ttotal: 3.1s\tremaining: 15.2s\n",
      "169:\tlearn: 0.0766311\ttotal: 3.11s\tremaining: 15.2s\n",
      "170:\tlearn: 0.0765986\ttotal: 3.13s\tremaining: 15.2s\n",
      "171:\tlearn: 0.0765670\ttotal: 3.15s\tremaining: 15.2s\n",
      "172:\tlearn: 0.0765493\ttotal: 3.17s\tremaining: 15.1s\n",
      "173:\tlearn: 0.0765102\ttotal: 3.18s\tremaining: 15.1s\n",
      "174:\tlearn: 0.0764927\ttotal: 3.2s\tremaining: 15.1s\n",
      "175:\tlearn: 0.0764670\ttotal: 3.22s\tremaining: 15.1s\n",
      "176:\tlearn: 0.0763988\ttotal: 3.23s\tremaining: 15s\n",
      "177:\tlearn: 0.0763762\ttotal: 3.25s\tremaining: 15s\n",
      "178:\tlearn: 0.0763381\ttotal: 3.27s\tremaining: 15s\n",
      "179:\tlearn: 0.0763094\ttotal: 3.29s\tremaining: 15s\n",
      "180:\tlearn: 0.0762985\ttotal: 3.3s\tremaining: 15s\n",
      "181:\tlearn: 0.0762690\ttotal: 3.32s\tremaining: 14.9s\n",
      "182:\tlearn: 0.0762426\ttotal: 3.33s\tremaining: 14.9s\n",
      "183:\tlearn: 0.0762105\ttotal: 3.35s\tremaining: 14.9s\n",
      "184:\tlearn: 0.0761850\ttotal: 3.42s\tremaining: 15s\n",
      "185:\tlearn: 0.0761632\ttotal: 3.47s\tremaining: 15.2s\n",
      "186:\tlearn: 0.0761280\ttotal: 3.49s\tremaining: 15.2s\n",
      "187:\tlearn: 0.0760518\ttotal: 3.51s\tremaining: 15.2s\n",
      "188:\tlearn: 0.0760189\ttotal: 3.53s\tremaining: 15.2s\n",
      "189:\tlearn: 0.0759992\ttotal: 3.55s\tremaining: 15.1s\n",
      "190:\tlearn: 0.0759766\ttotal: 3.57s\tremaining: 15.1s\n",
      "191:\tlearn: 0.0759457\ttotal: 3.59s\tremaining: 15.1s\n",
      "192:\tlearn: 0.0759314\ttotal: 3.6s\tremaining: 15.1s\n",
      "193:\tlearn: 0.0759026\ttotal: 3.62s\tremaining: 15s\n",
      "194:\tlearn: 0.0758570\ttotal: 3.64s\tremaining: 15s\n",
      "195:\tlearn: 0.0758336\ttotal: 3.65s\tremaining: 15s\n",
      "196:\tlearn: 0.0758111\ttotal: 3.67s\tremaining: 14.9s\n",
      "197:\tlearn: 0.0757801\ttotal: 3.69s\tremaining: 14.9s\n",
      "198:\tlearn: 0.0757665\ttotal: 3.7s\tremaining: 14.9s\n",
      "199:\tlearn: 0.0757313\ttotal: 3.72s\tremaining: 14.9s\n",
      "200:\tlearn: 0.0757085\ttotal: 3.74s\tremaining: 14.9s\n",
      "201:\tlearn: 0.0756734\ttotal: 3.75s\tremaining: 14.8s\n",
      "202:\tlearn: 0.0756498\ttotal: 3.77s\tremaining: 14.8s\n",
      "203:\tlearn: 0.0756069\ttotal: 3.79s\tremaining: 14.8s\n",
      "204:\tlearn: 0.0755824\ttotal: 3.81s\tremaining: 14.8s\n",
      "205:\tlearn: 0.0755640\ttotal: 3.82s\tremaining: 14.7s\n",
      "206:\tlearn: 0.0755226\ttotal: 3.84s\tremaining: 14.7s\n",
      "207:\tlearn: 0.0754890\ttotal: 3.86s\tremaining: 14.7s\n",
      "208:\tlearn: 0.0754585\ttotal: 3.88s\tremaining: 14.7s\n",
      "209:\tlearn: 0.0754417\ttotal: 3.89s\tremaining: 14.6s\n",
      "210:\tlearn: 0.0754123\ttotal: 3.91s\tremaining: 14.6s\n",
      "211:\tlearn: 0.0753911\ttotal: 3.93s\tremaining: 14.6s\n",
      "212:\tlearn: 0.0753696\ttotal: 3.94s\tremaining: 14.6s\n",
      "213:\tlearn: 0.0753346\ttotal: 3.96s\tremaining: 14.5s\n",
      "214:\tlearn: 0.0753179\ttotal: 3.98s\tremaining: 14.5s\n",
      "215:\tlearn: 0.0752816\ttotal: 3.99s\tremaining: 14.5s\n",
      "216:\tlearn: 0.0752563\ttotal: 4.01s\tremaining: 14.5s\n",
      "217:\tlearn: 0.0752352\ttotal: 4.02s\tremaining: 14.4s\n",
      "218:\tlearn: 0.0752106\ttotal: 4.04s\tremaining: 14.4s\n",
      "219:\tlearn: 0.0751930\ttotal: 4.06s\tremaining: 14.4s\n",
      "220:\tlearn: 0.0751489\ttotal: 4.08s\tremaining: 14.4s\n",
      "221:\tlearn: 0.0751182\ttotal: 4.1s\tremaining: 14.4s\n",
      "222:\tlearn: 0.0750856\ttotal: 4.12s\tremaining: 14.4s\n",
      "223:\tlearn: 0.0750697\ttotal: 4.14s\tremaining: 14.3s\n",
      "224:\tlearn: 0.0750620\ttotal: 4.16s\tremaining: 14.3s\n",
      "225:\tlearn: 0.0750505\ttotal: 4.17s\tremaining: 14.3s\n",
      "226:\tlearn: 0.0750245\ttotal: 4.2s\tremaining: 14.3s\n",
      "227:\tlearn: 0.0750062\ttotal: 4.21s\tremaining: 14.3s\n",
      "228:\tlearn: 0.0750024\ttotal: 4.22s\tremaining: 14.2s\n",
      "229:\tlearn: 0.0749664\ttotal: 4.24s\tremaining: 14.2s\n",
      "230:\tlearn: 0.0749362\ttotal: 4.26s\tremaining: 14.2s\n",
      "231:\tlearn: 0.0749199\ttotal: 4.28s\tremaining: 14.2s\n",
      "232:\tlearn: 0.0749069\ttotal: 4.29s\tremaining: 14.1s\n",
      "233:\tlearn: 0.0748777\ttotal: 4.31s\tremaining: 14.1s\n",
      "234:\tlearn: 0.0748616\ttotal: 4.32s\tremaining: 14.1s\n",
      "235:\tlearn: 0.0748307\ttotal: 4.34s\tremaining: 14.1s\n",
      "236:\tlearn: 0.0747996\ttotal: 4.36s\tremaining: 14s\n",
      "237:\tlearn: 0.0747838\ttotal: 4.38s\tremaining: 14s\n",
      "238:\tlearn: 0.0747529\ttotal: 4.4s\tremaining: 14s\n",
      "239:\tlearn: 0.0747293\ttotal: 4.41s\tremaining: 14s\n",
      "240:\tlearn: 0.0747156\ttotal: 4.43s\tremaining: 14s\n",
      "241:\tlearn: 0.0747076\ttotal: 4.45s\tremaining: 13.9s\n",
      "242:\tlearn: 0.0746633\ttotal: 4.47s\tremaining: 13.9s\n",
      "243:\tlearn: 0.0746178\ttotal: 4.48s\tremaining: 13.9s\n",
      "244:\tlearn: 0.0745905\ttotal: 4.5s\tremaining: 13.9s\n",
      "245:\tlearn: 0.0745869\ttotal: 4.52s\tremaining: 13.8s\n",
      "246:\tlearn: 0.0745745\ttotal: 4.54s\tremaining: 13.8s\n",
      "247:\tlearn: 0.0745511\ttotal: 4.56s\tremaining: 13.8s\n",
      "248:\tlearn: 0.0745277\ttotal: 4.58s\tremaining: 13.8s\n",
      "249:\tlearn: 0.0745050\ttotal: 4.61s\tremaining: 13.8s\n",
      "250:\tlearn: 0.0744931\ttotal: 4.63s\tremaining: 13.8s\n",
      "251:\tlearn: 0.0744706\ttotal: 4.65s\tremaining: 13.8s\n",
      "252:\tlearn: 0.0744564\ttotal: 4.67s\tremaining: 13.8s\n",
      "253:\tlearn: 0.0744445\ttotal: 4.7s\tremaining: 13.8s\n",
      "254:\tlearn: 0.0744223\ttotal: 4.72s\tremaining: 13.8s\n",
      "255:\tlearn: 0.0743889\ttotal: 4.75s\tremaining: 13.8s\n",
      "256:\tlearn: 0.0743813\ttotal: 4.77s\tremaining: 13.8s\n",
      "257:\tlearn: 0.0743478\ttotal: 4.79s\tremaining: 13.8s\n",
      "258:\tlearn: 0.0743327\ttotal: 4.81s\tremaining: 13.8s\n",
      "259:\tlearn: 0.0743123\ttotal: 4.83s\tremaining: 13.8s\n",
      "260:\tlearn: 0.0742943\ttotal: 4.86s\tremaining: 13.7s\n",
      "261:\tlearn: 0.0742733\ttotal: 4.88s\tremaining: 13.7s\n",
      "262:\tlearn: 0.0742419\ttotal: 4.89s\tremaining: 13.7s\n",
      "263:\tlearn: 0.0742134\ttotal: 4.91s\tremaining: 13.7s\n",
      "264:\tlearn: 0.0742012\ttotal: 4.93s\tremaining: 13.7s\n",
      "265:\tlearn: 0.0741803\ttotal: 4.95s\tremaining: 13.6s\n",
      "266:\tlearn: 0.0741645\ttotal: 4.96s\tremaining: 13.6s\n",
      "267:\tlearn: 0.0741388\ttotal: 4.98s\tremaining: 13.6s\n",
      "268:\tlearn: 0.0741295\ttotal: 4.99s\tremaining: 13.6s\n",
      "269:\tlearn: 0.0741121\ttotal: 5.01s\tremaining: 13.6s\n",
      "270:\tlearn: 0.0740834\ttotal: 5.03s\tremaining: 13.5s\n",
      "271:\tlearn: 0.0740696\ttotal: 5.05s\tremaining: 13.5s\n",
      "272:\tlearn: 0.0740438\ttotal: 5.06s\tremaining: 13.5s\n",
      "273:\tlearn: 0.0740280\ttotal: 5.08s\tremaining: 13.5s\n",
      "274:\tlearn: 0.0740110\ttotal: 5.09s\tremaining: 13.4s\n",
      "275:\tlearn: 0.0739995\ttotal: 5.12s\tremaining: 13.4s\n",
      "276:\tlearn: 0.0739778\ttotal: 5.13s\tremaining: 13.4s\n",
      "277:\tlearn: 0.0739532\ttotal: 5.15s\tremaining: 13.4s\n",
      "278:\tlearn: 0.0739245\ttotal: 5.16s\tremaining: 13.3s\n",
      "279:\tlearn: 0.0739016\ttotal: 5.18s\tremaining: 13.3s\n",
      "280:\tlearn: 0.0738744\ttotal: 5.2s\tremaining: 13.3s\n",
      "281:\tlearn: 0.0738638\ttotal: 5.21s\tremaining: 13.3s\n",
      "282:\tlearn: 0.0738368\ttotal: 5.24s\tremaining: 13.3s\n",
      "283:\tlearn: 0.0738061\ttotal: 5.26s\tremaining: 13.3s\n",
      "284:\tlearn: 0.0737814\ttotal: 5.27s\tremaining: 13.2s\n",
      "285:\tlearn: 0.0737729\ttotal: 5.29s\tremaining: 13.2s\n",
      "286:\tlearn: 0.0737631\ttotal: 5.3s\tremaining: 13.2s\n",
      "287:\tlearn: 0.0737218\ttotal: 5.32s\tremaining: 13.2s\n",
      "288:\tlearn: 0.0736967\ttotal: 5.34s\tremaining: 13.1s\n",
      "289:\tlearn: 0.0736664\ttotal: 5.36s\tremaining: 13.1s\n",
      "290:\tlearn: 0.0736425\ttotal: 5.38s\tremaining: 13.1s\n",
      "291:\tlearn: 0.0736271\ttotal: 5.39s\tremaining: 13.1s\n",
      "292:\tlearn: 0.0736085\ttotal: 5.41s\tremaining: 13.1s\n",
      "293:\tlearn: 0.0735963\ttotal: 5.42s\tremaining: 13s\n",
      "294:\tlearn: 0.0735584\ttotal: 5.45s\tremaining: 13s\n",
      "295:\tlearn: 0.0735356\ttotal: 5.46s\tremaining: 13s\n",
      "296:\tlearn: 0.0735044\ttotal: 5.48s\tremaining: 13s\n",
      "297:\tlearn: 0.0734739\ttotal: 5.49s\tremaining: 12.9s\n",
      "298:\tlearn: 0.0734425\ttotal: 5.51s\tremaining: 12.9s\n",
      "299:\tlearn: 0.0734231\ttotal: 5.53s\tremaining: 12.9s\n",
      "300:\tlearn: 0.0734089\ttotal: 5.55s\tremaining: 12.9s\n",
      "301:\tlearn: 0.0733849\ttotal: 5.57s\tremaining: 12.9s\n",
      "302:\tlearn: 0.0733584\ttotal: 5.58s\tremaining: 12.8s\n",
      "303:\tlearn: 0.0733308\ttotal: 5.6s\tremaining: 12.8s\n",
      "304:\tlearn: 0.0733224\ttotal: 5.62s\tremaining: 12.8s\n",
      "305:\tlearn: 0.0733043\ttotal: 5.63s\tremaining: 12.8s\n",
      "306:\tlearn: 0.0732776\ttotal: 5.65s\tremaining: 12.8s\n",
      "307:\tlearn: 0.0732570\ttotal: 5.67s\tremaining: 12.7s\n",
      "308:\tlearn: 0.0732382\ttotal: 5.68s\tremaining: 12.7s\n",
      "309:\tlearn: 0.0732251\ttotal: 5.7s\tremaining: 12.7s\n",
      "310:\tlearn: 0.0731934\ttotal: 5.72s\tremaining: 12.7s\n",
      "311:\tlearn: 0.0731651\ttotal: 5.73s\tremaining: 12.6s\n",
      "312:\tlearn: 0.0731486\ttotal: 5.75s\tremaining: 12.6s\n",
      "313:\tlearn: 0.0731269\ttotal: 5.77s\tremaining: 12.6s\n",
      "314:\tlearn: 0.0730972\ttotal: 5.79s\tremaining: 12.6s\n",
      "315:\tlearn: 0.0730848\ttotal: 5.8s\tremaining: 12.6s\n",
      "316:\tlearn: 0.0730657\ttotal: 5.82s\tremaining: 12.5s\n",
      "317:\tlearn: 0.0730377\ttotal: 5.84s\tremaining: 12.5s\n",
      "318:\tlearn: 0.0730255\ttotal: 5.85s\tremaining: 12.5s\n",
      "319:\tlearn: 0.0729942\ttotal: 5.87s\tremaining: 12.5s\n",
      "320:\tlearn: 0.0729726\ttotal: 5.89s\tremaining: 12.5s\n",
      "321:\tlearn: 0.0729596\ttotal: 5.91s\tremaining: 12.4s\n",
      "322:\tlearn: 0.0729370\ttotal: 5.93s\tremaining: 12.4s\n",
      "323:\tlearn: 0.0729027\ttotal: 5.94s\tremaining: 12.4s\n",
      "324:\tlearn: 0.0728957\ttotal: 5.96s\tremaining: 12.4s\n",
      "325:\tlearn: 0.0728812\ttotal: 5.98s\tremaining: 12.4s\n",
      "326:\tlearn: 0.0728697\ttotal: 5.99s\tremaining: 12.3s\n",
      "327:\tlearn: 0.0728294\ttotal: 6.01s\tremaining: 12.3s\n",
      "328:\tlearn: 0.0727987\ttotal: 6.03s\tremaining: 12.3s\n",
      "329:\tlearn: 0.0727694\ttotal: 6.04s\tremaining: 12.3s\n",
      "330:\tlearn: 0.0727402\ttotal: 6.06s\tremaining: 12.2s\n",
      "331:\tlearn: 0.0727030\ttotal: 6.08s\tremaining: 12.2s\n",
      "332:\tlearn: 0.0726831\ttotal: 6.1s\tremaining: 12.2s\n",
      "333:\tlearn: 0.0726568\ttotal: 6.12s\tremaining: 12.2s\n",
      "334:\tlearn: 0.0726358\ttotal: 6.13s\tremaining: 12.2s\n",
      "335:\tlearn: 0.0726159\ttotal: 6.15s\tremaining: 12.1s\n",
      "336:\tlearn: 0.0725898\ttotal: 6.16s\tremaining: 12.1s\n",
      "337:\tlearn: 0.0725833\ttotal: 6.18s\tremaining: 12.1s\n",
      "338:\tlearn: 0.0725553\ttotal: 6.2s\tremaining: 12.1s\n",
      "339:\tlearn: 0.0725340\ttotal: 6.21s\tremaining: 12.1s\n",
      "340:\tlearn: 0.0725081\ttotal: 6.23s\tremaining: 12s\n",
      "341:\tlearn: 0.0724949\ttotal: 6.25s\tremaining: 12s\n",
      "342:\tlearn: 0.0724746\ttotal: 6.26s\tremaining: 12s\n",
      "343:\tlearn: 0.0724585\ttotal: 6.28s\tremaining: 12s\n",
      "344:\tlearn: 0.0724308\ttotal: 6.29s\tremaining: 11.9s\n",
      "345:\tlearn: 0.0724084\ttotal: 6.31s\tremaining: 11.9s\n",
      "346:\tlearn: 0.0723803\ttotal: 6.33s\tremaining: 11.9s\n",
      "347:\tlearn: 0.0723612\ttotal: 6.34s\tremaining: 11.9s\n",
      "348:\tlearn: 0.0723410\ttotal: 6.36s\tremaining: 11.9s\n",
      "349:\tlearn: 0.0723304\ttotal: 6.38s\tremaining: 11.8s\n",
      "350:\tlearn: 0.0723049\ttotal: 6.39s\tremaining: 11.8s\n",
      "351:\tlearn: 0.0722736\ttotal: 6.42s\tremaining: 11.8s\n",
      "352:\tlearn: 0.0722533\ttotal: 6.43s\tremaining: 11.8s\n",
      "353:\tlearn: 0.0722392\ttotal: 6.45s\tremaining: 11.8s\n",
      "354:\tlearn: 0.0722126\ttotal: 6.46s\tremaining: 11.7s\n",
      "355:\tlearn: 0.0721861\ttotal: 6.48s\tremaining: 11.7s\n",
      "356:\tlearn: 0.0721587\ttotal: 6.5s\tremaining: 11.7s\n",
      "357:\tlearn: 0.0721367\ttotal: 6.52s\tremaining: 11.7s\n",
      "358:\tlearn: 0.0721085\ttotal: 6.54s\tremaining: 11.7s\n",
      "359:\tlearn: 0.0720688\ttotal: 6.55s\tremaining: 11.7s\n",
      "360:\tlearn: 0.0720607\ttotal: 6.57s\tremaining: 11.6s\n",
      "361:\tlearn: 0.0720422\ttotal: 6.58s\tremaining: 11.6s\n",
      "362:\tlearn: 0.0720197\ttotal: 6.6s\tremaining: 11.6s\n",
      "363:\tlearn: 0.0720009\ttotal: 6.62s\tremaining: 11.6s\n",
      "364:\tlearn: 0.0719787\ttotal: 6.64s\tremaining: 11.6s\n",
      "365:\tlearn: 0.0719552\ttotal: 6.66s\tremaining: 11.5s\n",
      "366:\tlearn: 0.0719434\ttotal: 6.67s\tremaining: 11.5s\n",
      "367:\tlearn: 0.0719274\ttotal: 6.69s\tremaining: 11.5s\n",
      "368:\tlearn: 0.0719031\ttotal: 6.71s\tremaining: 11.5s\n",
      "369:\tlearn: 0.0718686\ttotal: 6.72s\tremaining: 11.4s\n",
      "370:\tlearn: 0.0718480\ttotal: 6.75s\tremaining: 11.4s\n",
      "371:\tlearn: 0.0718209\ttotal: 6.77s\tremaining: 11.4s\n",
      "372:\tlearn: 0.0718050\ttotal: 6.78s\tremaining: 11.4s\n",
      "373:\tlearn: 0.0717898\ttotal: 6.8s\tremaining: 11.4s\n",
      "374:\tlearn: 0.0717715\ttotal: 6.81s\tremaining: 11.4s\n",
      "375:\tlearn: 0.0717393\ttotal: 6.83s\tremaining: 11.3s\n",
      "376:\tlearn: 0.0717374\ttotal: 6.85s\tremaining: 11.3s\n",
      "377:\tlearn: 0.0717114\ttotal: 6.86s\tremaining: 11.3s\n",
      "378:\tlearn: 0.0716924\ttotal: 6.88s\tremaining: 11.3s\n",
      "379:\tlearn: 0.0716689\ttotal: 6.9s\tremaining: 11.3s\n",
      "380:\tlearn: 0.0716408\ttotal: 6.91s\tremaining: 11.2s\n",
      "381:\tlearn: 0.0716164\ttotal: 6.93s\tremaining: 11.2s\n",
      "382:\tlearn: 0.0715933\ttotal: 6.95s\tremaining: 11.2s\n",
      "383:\tlearn: 0.0715598\ttotal: 6.97s\tremaining: 11.2s\n",
      "384:\tlearn: 0.0715457\ttotal: 6.99s\tremaining: 11.2s\n",
      "385:\tlearn: 0.0715247\ttotal: 7s\tremaining: 11.1s\n",
      "386:\tlearn: 0.0715024\ttotal: 7.02s\tremaining: 11.1s\n",
      "387:\tlearn: 0.0714810\ttotal: 7.04s\tremaining: 11.1s\n",
      "388:\tlearn: 0.0714470\ttotal: 7.05s\tremaining: 11.1s\n",
      "389:\tlearn: 0.0714213\ttotal: 7.07s\tremaining: 11.1s\n",
      "390:\tlearn: 0.0714114\ttotal: 7.08s\tremaining: 11s\n",
      "391:\tlearn: 0.0713852\ttotal: 7.1s\tremaining: 11s\n",
      "392:\tlearn: 0.0713691\ttotal: 7.12s\tremaining: 11s\n",
      "393:\tlearn: 0.0712989\ttotal: 7.13s\tremaining: 11s\n",
      "394:\tlearn: 0.0712743\ttotal: 7.15s\tremaining: 11s\n",
      "395:\tlearn: 0.0712539\ttotal: 7.17s\tremaining: 10.9s\n",
      "396:\tlearn: 0.0712357\ttotal: 7.18s\tremaining: 10.9s\n",
      "397:\tlearn: 0.0712123\ttotal: 7.21s\tremaining: 10.9s\n",
      "398:\tlearn: 0.0711873\ttotal: 7.23s\tremaining: 10.9s\n",
      "399:\tlearn: 0.0711643\ttotal: 7.24s\tremaining: 10.9s\n",
      "400:\tlearn: 0.0711407\ttotal: 7.26s\tremaining: 10.8s\n",
      "401:\tlearn: 0.0711219\ttotal: 7.28s\tremaining: 10.8s\n",
      "402:\tlearn: 0.0710901\ttotal: 7.29s\tremaining: 10.8s\n",
      "403:\tlearn: 0.0710710\ttotal: 7.31s\tremaining: 10.8s\n",
      "404:\tlearn: 0.0710408\ttotal: 7.33s\tremaining: 10.8s\n",
      "405:\tlearn: 0.0710264\ttotal: 7.34s\tremaining: 10.7s\n",
      "406:\tlearn: 0.0709947\ttotal: 7.36s\tremaining: 10.7s\n",
      "407:\tlearn: 0.0709781\ttotal: 7.38s\tremaining: 10.7s\n",
      "408:\tlearn: 0.0709640\ttotal: 7.39s\tremaining: 10.7s\n",
      "409:\tlearn: 0.0709546\ttotal: 7.41s\tremaining: 10.7s\n",
      "410:\tlearn: 0.0709424\ttotal: 7.43s\tremaining: 10.6s\n",
      "411:\tlearn: 0.0709147\ttotal: 7.45s\tremaining: 10.6s\n",
      "412:\tlearn: 0.0708921\ttotal: 7.46s\tremaining: 10.6s\n",
      "413:\tlearn: 0.0708695\ttotal: 7.48s\tremaining: 10.6s\n",
      "414:\tlearn: 0.0708483\ttotal: 7.49s\tremaining: 10.6s\n",
      "415:\tlearn: 0.0708311\ttotal: 7.52s\tremaining: 10.6s\n",
      "416:\tlearn: 0.0708114\ttotal: 7.54s\tremaining: 10.5s\n",
      "417:\tlearn: 0.0707962\ttotal: 7.55s\tremaining: 10.5s\n",
      "418:\tlearn: 0.0707666\ttotal: 7.57s\tremaining: 10.5s\n",
      "419:\tlearn: 0.0707297\ttotal: 7.58s\tremaining: 10.5s\n",
      "420:\tlearn: 0.0707128\ttotal: 7.6s\tremaining: 10.5s\n",
      "421:\tlearn: 0.0706812\ttotal: 7.63s\tremaining: 10.4s\n",
      "422:\tlearn: 0.0706572\ttotal: 7.64s\tremaining: 10.4s\n",
      "423:\tlearn: 0.0706353\ttotal: 7.66s\tremaining: 10.4s\n",
      "424:\tlearn: 0.0706082\ttotal: 7.67s\tremaining: 10.4s\n",
      "425:\tlearn: 0.0705845\ttotal: 7.69s\tremaining: 10.4s\n",
      "426:\tlearn: 0.0705572\ttotal: 7.71s\tremaining: 10.3s\n",
      "427:\tlearn: 0.0705279\ttotal: 7.73s\tremaining: 10.3s\n",
      "428:\tlearn: 0.0705115\ttotal: 7.74s\tremaining: 10.3s\n",
      "429:\tlearn: 0.0704942\ttotal: 7.76s\tremaining: 10.3s\n",
      "430:\tlearn: 0.0704861\ttotal: 7.78s\tremaining: 10.3s\n",
      "431:\tlearn: 0.0704567\ttotal: 7.8s\tremaining: 10.3s\n",
      "432:\tlearn: 0.0704278\ttotal: 7.83s\tremaining: 10.2s\n",
      "433:\tlearn: 0.0704021\ttotal: 7.84s\tremaining: 10.2s\n",
      "434:\tlearn: 0.0703668\ttotal: 7.86s\tremaining: 10.2s\n",
      "435:\tlearn: 0.0703514\ttotal: 7.88s\tremaining: 10.2s\n",
      "436:\tlearn: 0.0703312\ttotal: 7.89s\tremaining: 10.2s\n",
      "437:\tlearn: 0.0703098\ttotal: 7.91s\tremaining: 10.1s\n",
      "438:\tlearn: 0.0702947\ttotal: 7.93s\tremaining: 10.1s\n",
      "439:\tlearn: 0.0702649\ttotal: 7.95s\tremaining: 10.1s\n",
      "440:\tlearn: 0.0702538\ttotal: 7.96s\tremaining: 10.1s\n",
      "441:\tlearn: 0.0702321\ttotal: 7.98s\tremaining: 10.1s\n",
      "442:\tlearn: 0.0702107\ttotal: 8s\tremaining: 10.1s\n",
      "443:\tlearn: 0.0701877\ttotal: 8.01s\tremaining: 10s\n",
      "444:\tlearn: 0.0701742\ttotal: 8.03s\tremaining: 10s\n",
      "445:\tlearn: 0.0701457\ttotal: 8.05s\tremaining: 10s\n",
      "446:\tlearn: 0.0701257\ttotal: 8.07s\tremaining: 9.98s\n",
      "447:\tlearn: 0.0700916\ttotal: 8.08s\tremaining: 9.96s\n",
      "448:\tlearn: 0.0700702\ttotal: 8.1s\tremaining: 9.94s\n",
      "449:\tlearn: 0.0700452\ttotal: 8.12s\tremaining: 9.92s\n",
      "450:\tlearn: 0.0700270\ttotal: 8.13s\tremaining: 9.9s\n",
      "451:\tlearn: 0.0700190\ttotal: 8.15s\tremaining: 9.89s\n",
      "452:\tlearn: 0.0699899\ttotal: 8.17s\tremaining: 9.86s\n",
      "453:\tlearn: 0.0699661\ttotal: 8.19s\tremaining: 9.84s\n",
      "454:\tlearn: 0.0699397\ttotal: 8.2s\tremaining: 9.82s\n",
      "455:\tlearn: 0.0699272\ttotal: 8.21s\tremaining: 9.8s\n",
      "456:\tlearn: 0.0699066\ttotal: 8.23s\tremaining: 9.78s\n",
      "457:\tlearn: 0.0698885\ttotal: 8.25s\tremaining: 9.76s\n",
      "458:\tlearn: 0.0698614\ttotal: 8.27s\tremaining: 9.75s\n",
      "459:\tlearn: 0.0698454\ttotal: 8.29s\tremaining: 9.73s\n",
      "460:\tlearn: 0.0698330\ttotal: 8.3s\tremaining: 9.71s\n",
      "461:\tlearn: 0.0698196\ttotal: 8.32s\tremaining: 9.69s\n",
      "462:\tlearn: 0.0698091\ttotal: 8.33s\tremaining: 9.67s\n",
      "463:\tlearn: 0.0697833\ttotal: 8.35s\tremaining: 9.65s\n",
      "464:\tlearn: 0.0697637\ttotal: 8.37s\tremaining: 9.63s\n",
      "465:\tlearn: 0.0697366\ttotal: 8.39s\tremaining: 9.61s\n",
      "466:\tlearn: 0.0697217\ttotal: 8.4s\tremaining: 9.59s\n",
      "467:\tlearn: 0.0697025\ttotal: 8.42s\tremaining: 9.57s\n",
      "468:\tlearn: 0.0696772\ttotal: 8.44s\tremaining: 9.55s\n",
      "469:\tlearn: 0.0696573\ttotal: 8.46s\tremaining: 9.54s\n",
      "470:\tlearn: 0.0696442\ttotal: 8.48s\tremaining: 9.52s\n",
      "471:\tlearn: 0.0696224\ttotal: 8.5s\tremaining: 9.51s\n",
      "472:\tlearn: 0.0696138\ttotal: 8.51s\tremaining: 9.48s\n",
      "473:\tlearn: 0.0695929\ttotal: 8.53s\tremaining: 9.46s\n",
      "474:\tlearn: 0.0695802\ttotal: 8.54s\tremaining: 9.44s\n",
      "475:\tlearn: 0.0695611\ttotal: 8.56s\tremaining: 9.42s\n",
      "476:\tlearn: 0.0695157\ttotal: 8.58s\tremaining: 9.41s\n",
      "477:\tlearn: 0.0694960\ttotal: 8.6s\tremaining: 9.39s\n",
      "478:\tlearn: 0.0694818\ttotal: 8.61s\tremaining: 9.37s\n",
      "479:\tlearn: 0.0694701\ttotal: 8.63s\tremaining: 9.35s\n",
      "480:\tlearn: 0.0694454\ttotal: 8.64s\tremaining: 9.33s\n",
      "481:\tlearn: 0.0694273\ttotal: 8.66s\tremaining: 9.31s\n",
      "482:\tlearn: 0.0694049\ttotal: 8.68s\tremaining: 9.29s\n",
      "483:\tlearn: 0.0693878\ttotal: 8.7s\tremaining: 9.27s\n",
      "484:\tlearn: 0.0693624\ttotal: 8.72s\tremaining: 9.26s\n",
      "485:\tlearn: 0.0693394\ttotal: 8.73s\tremaining: 9.24s\n",
      "486:\tlearn: 0.0693134\ttotal: 8.75s\tremaining: 9.22s\n",
      "487:\tlearn: 0.0692987\ttotal: 8.77s\tremaining: 9.2s\n",
      "488:\tlearn: 0.0692771\ttotal: 8.79s\tremaining: 9.19s\n",
      "489:\tlearn: 0.0692436\ttotal: 8.81s\tremaining: 9.16s\n",
      "490:\tlearn: 0.0692356\ttotal: 8.82s\tremaining: 9.15s\n",
      "491:\tlearn: 0.0692111\ttotal: 8.84s\tremaining: 9.13s\n",
      "492:\tlearn: 0.0691805\ttotal: 8.86s\tremaining: 9.11s\n",
      "493:\tlearn: 0.0691575\ttotal: 8.87s\tremaining: 9.09s\n",
      "494:\tlearn: 0.0691348\ttotal: 8.89s\tremaining: 9.07s\n",
      "495:\tlearn: 0.0691024\ttotal: 8.91s\tremaining: 9.05s\n",
      "496:\tlearn: 0.0690857\ttotal: 8.92s\tremaining: 9.03s\n",
      "497:\tlearn: 0.0690666\ttotal: 8.94s\tremaining: 9.01s\n",
      "498:\tlearn: 0.0690437\ttotal: 8.95s\tremaining: 8.99s\n",
      "499:\tlearn: 0.0690247\ttotal: 8.97s\tremaining: 8.97s\n",
      "500:\tlearn: 0.0690047\ttotal: 8.99s\tremaining: 8.95s\n",
      "501:\tlearn: 0.0689875\ttotal: 9.01s\tremaining: 8.94s\n",
      "502:\tlearn: 0.0689636\ttotal: 9.02s\tremaining: 8.91s\n",
      "503:\tlearn: 0.0689405\ttotal: 9.04s\tremaining: 8.89s\n",
      "504:\tlearn: 0.0689214\ttotal: 9.06s\tremaining: 8.88s\n",
      "505:\tlearn: 0.0688977\ttotal: 9.08s\tremaining: 8.87s\n",
      "506:\tlearn: 0.0688717\ttotal: 9.1s\tremaining: 8.85s\n",
      "507:\tlearn: 0.0688550\ttotal: 9.12s\tremaining: 8.83s\n",
      "508:\tlearn: 0.0688381\ttotal: 9.13s\tremaining: 8.81s\n",
      "509:\tlearn: 0.0688062\ttotal: 9.15s\tremaining: 8.79s\n",
      "510:\tlearn: 0.0687884\ttotal: 9.16s\tremaining: 8.77s\n",
      "511:\tlearn: 0.0687663\ttotal: 9.18s\tremaining: 8.75s\n",
      "512:\tlearn: 0.0687344\ttotal: 9.2s\tremaining: 8.73s\n",
      "513:\tlearn: 0.0687048\ttotal: 9.22s\tremaining: 8.72s\n",
      "514:\tlearn: 0.0686868\ttotal: 9.23s\tremaining: 8.7s\n",
      "515:\tlearn: 0.0686745\ttotal: 9.25s\tremaining: 8.67s\n",
      "516:\tlearn: 0.0686555\ttotal: 9.26s\tremaining: 8.65s\n",
      "517:\tlearn: 0.0686474\ttotal: 9.28s\tremaining: 8.64s\n",
      "518:\tlearn: 0.0686292\ttotal: 9.3s\tremaining: 8.62s\n",
      "519:\tlearn: 0.0686147\ttotal: 9.31s\tremaining: 8.6s\n",
      "520:\tlearn: 0.0685881\ttotal: 9.34s\tremaining: 8.58s\n",
      "521:\tlearn: 0.0685716\ttotal: 9.36s\tremaining: 8.57s\n",
      "522:\tlearn: 0.0685577\ttotal: 9.37s\tremaining: 8.55s\n",
      "523:\tlearn: 0.0685432\ttotal: 9.39s\tremaining: 8.53s\n",
      "524:\tlearn: 0.0685333\ttotal: 9.41s\tremaining: 8.51s\n",
      "525:\tlearn: 0.0685145\ttotal: 9.42s\tremaining: 8.49s\n",
      "526:\tlearn: 0.0684943\ttotal: 9.44s\tremaining: 8.47s\n",
      "527:\tlearn: 0.0684764\ttotal: 9.46s\tremaining: 8.46s\n",
      "528:\tlearn: 0.0684538\ttotal: 9.47s\tremaining: 8.44s\n",
      "529:\tlearn: 0.0684345\ttotal: 9.49s\tremaining: 8.42s\n",
      "530:\tlearn: 0.0684120\ttotal: 9.56s\tremaining: 8.44s\n",
      "531:\tlearn: 0.0683989\ttotal: 9.63s\tremaining: 8.47s\n",
      "532:\tlearn: 0.0683816\ttotal: 9.64s\tremaining: 8.45s\n",
      "533:\tlearn: 0.0683808\ttotal: 9.66s\tremaining: 8.43s\n",
      "534:\tlearn: 0.0683582\ttotal: 9.68s\tremaining: 8.41s\n",
      "535:\tlearn: 0.0683413\ttotal: 9.7s\tremaining: 8.39s\n",
      "536:\tlearn: 0.0683188\ttotal: 9.71s\tremaining: 8.38s\n",
      "537:\tlearn: 0.0682985\ttotal: 9.73s\tremaining: 8.36s\n",
      "538:\tlearn: 0.0682769\ttotal: 9.74s\tremaining: 8.33s\n",
      "539:\tlearn: 0.0682421\ttotal: 9.76s\tremaining: 8.32s\n",
      "540:\tlearn: 0.0682201\ttotal: 9.78s\tremaining: 8.3s\n",
      "541:\tlearn: 0.0681978\ttotal: 9.8s\tremaining: 8.28s\n",
      "542:\tlearn: 0.0681842\ttotal: 9.82s\tremaining: 8.26s\n",
      "543:\tlearn: 0.0681661\ttotal: 9.84s\tremaining: 8.24s\n",
      "544:\tlearn: 0.0681596\ttotal: 9.85s\tremaining: 8.23s\n",
      "545:\tlearn: 0.0681406\ttotal: 9.87s\tremaining: 8.21s\n",
      "546:\tlearn: 0.0681206\ttotal: 9.89s\tremaining: 8.19s\n",
      "547:\tlearn: 0.0680973\ttotal: 9.9s\tremaining: 8.17s\n",
      "548:\tlearn: 0.0680685\ttotal: 9.92s\tremaining: 8.15s\n",
      "549:\tlearn: 0.0680503\ttotal: 9.94s\tremaining: 8.13s\n",
      "550:\tlearn: 0.0680278\ttotal: 9.95s\tremaining: 8.11s\n",
      "551:\tlearn: 0.0679979\ttotal: 9.97s\tremaining: 8.09s\n",
      "552:\tlearn: 0.0679774\ttotal: 9.99s\tremaining: 8.08s\n",
      "553:\tlearn: 0.0679606\ttotal: 10s\tremaining: 8.06s\n",
      "554:\tlearn: 0.0679477\ttotal: 10s\tremaining: 8.04s\n",
      "555:\tlearn: 0.0679304\ttotal: 10.1s\tremaining: 8.03s\n",
      "556:\tlearn: 0.0679253\ttotal: 10.1s\tremaining: 8.01s\n",
      "557:\tlearn: 0.0679158\ttotal: 10.1s\tremaining: 8.01s\n",
      "558:\tlearn: 0.0678947\ttotal: 10.1s\tremaining: 7.99s\n",
      "559:\tlearn: 0.0678677\ttotal: 10.2s\tremaining: 7.98s\n",
      "560:\tlearn: 0.0678556\ttotal: 10.2s\tremaining: 7.96s\n",
      "561:\tlearn: 0.0678322\ttotal: 10.2s\tremaining: 7.95s\n",
      "562:\tlearn: 0.0678201\ttotal: 10.2s\tremaining: 7.93s\n",
      "563:\tlearn: 0.0677942\ttotal: 10.2s\tremaining: 7.92s\n",
      "564:\tlearn: 0.0677781\ttotal: 10.3s\tremaining: 7.91s\n",
      "565:\tlearn: 0.0677614\ttotal: 10.3s\tremaining: 7.89s\n",
      "566:\tlearn: 0.0677495\ttotal: 10.3s\tremaining: 7.88s\n",
      "567:\tlearn: 0.0677327\ttotal: 10.3s\tremaining: 7.86s\n",
      "568:\tlearn: 0.0677116\ttotal: 10.3s\tremaining: 7.84s\n",
      "569:\tlearn: 0.0676738\ttotal: 10.4s\tremaining: 7.82s\n",
      "570:\tlearn: 0.0676504\ttotal: 10.4s\tremaining: 7.8s\n",
      "571:\tlearn: 0.0676187\ttotal: 10.4s\tremaining: 7.78s\n",
      "572:\tlearn: 0.0675921\ttotal: 10.4s\tremaining: 7.76s\n",
      "573:\tlearn: 0.0675709\ttotal: 10.4s\tremaining: 7.75s\n",
      "574:\tlearn: 0.0675467\ttotal: 10.5s\tremaining: 7.73s\n",
      "575:\tlearn: 0.0675344\ttotal: 10.5s\tremaining: 7.71s\n",
      "576:\tlearn: 0.0675003\ttotal: 10.5s\tremaining: 7.69s\n",
      "577:\tlearn: 0.0674953\ttotal: 10.5s\tremaining: 7.67s\n",
      "578:\tlearn: 0.0674767\ttotal: 10.5s\tremaining: 7.66s\n",
      "579:\tlearn: 0.0674585\ttotal: 10.5s\tremaining: 7.64s\n",
      "580:\tlearn: 0.0674414\ttotal: 10.6s\tremaining: 7.62s\n",
      "581:\tlearn: 0.0674259\ttotal: 10.6s\tremaining: 7.6s\n",
      "582:\tlearn: 0.0674031\ttotal: 10.6s\tremaining: 7.58s\n",
      "583:\tlearn: 0.0673864\ttotal: 10.6s\tremaining: 7.56s\n",
      "584:\tlearn: 0.0673669\ttotal: 10.6s\tremaining: 7.54s\n",
      "585:\tlearn: 0.0673557\ttotal: 10.6s\tremaining: 7.52s\n",
      "586:\tlearn: 0.0673458\ttotal: 10.7s\tremaining: 7.5s\n",
      "587:\tlearn: 0.0673288\ttotal: 10.7s\tremaining: 7.48s\n",
      "588:\tlearn: 0.0672970\ttotal: 10.7s\tremaining: 7.46s\n",
      "589:\tlearn: 0.0672879\ttotal: 10.7s\tremaining: 7.45s\n",
      "590:\tlearn: 0.0672764\ttotal: 10.7s\tremaining: 7.42s\n",
      "591:\tlearn: 0.0672569\ttotal: 10.8s\tremaining: 7.41s\n",
      "592:\tlearn: 0.0672409\ttotal: 10.8s\tremaining: 7.39s\n",
      "593:\tlearn: 0.0672280\ttotal: 10.8s\tremaining: 7.38s\n",
      "594:\tlearn: 0.0672224\ttotal: 10.8s\tremaining: 7.36s\n",
      "595:\tlearn: 0.0672051\ttotal: 10.8s\tremaining: 7.33s\n",
      "596:\tlearn: 0.0671878\ttotal: 10.8s\tremaining: 7.32s\n",
      "597:\tlearn: 0.0671708\ttotal: 10.9s\tremaining: 7.3s\n",
      "598:\tlearn: 0.0671555\ttotal: 10.9s\tremaining: 7.28s\n",
      "599:\tlearn: 0.0671371\ttotal: 10.9s\tremaining: 7.26s\n",
      "600:\tlearn: 0.0671244\ttotal: 10.9s\tremaining: 7.24s\n",
      "601:\tlearn: 0.0671008\ttotal: 10.9s\tremaining: 7.22s\n",
      "602:\tlearn: 0.0670855\ttotal: 10.9s\tremaining: 7.2s\n",
      "603:\tlearn: 0.0670670\ttotal: 11s\tremaining: 7.19s\n",
      "604:\tlearn: 0.0670378\ttotal: 11s\tremaining: 7.17s\n",
      "605:\tlearn: 0.0670372\ttotal: 11s\tremaining: 7.15s\n",
      "606:\tlearn: 0.0670201\ttotal: 11s\tremaining: 7.13s\n",
      "607:\tlearn: 0.0670039\ttotal: 11s\tremaining: 7.11s\n",
      "608:\tlearn: 0.0669894\ttotal: 11s\tremaining: 7.09s\n",
      "609:\tlearn: 0.0669628\ttotal: 11.1s\tremaining: 7.07s\n",
      "610:\tlearn: 0.0669316\ttotal: 11.1s\tremaining: 7.05s\n",
      "611:\tlearn: 0.0669183\ttotal: 11.1s\tremaining: 7.04s\n",
      "612:\tlearn: 0.0669021\ttotal: 11.1s\tremaining: 7.02s\n",
      "613:\tlearn: 0.0668849\ttotal: 11.1s\tremaining: 7s\n",
      "614:\tlearn: 0.0668659\ttotal: 11.1s\tremaining: 6.97s\n",
      "615:\tlearn: 0.0668494\ttotal: 11.2s\tremaining: 6.96s\n",
      "616:\tlearn: 0.0668356\ttotal: 11.2s\tremaining: 6.94s\n",
      "617:\tlearn: 0.0668172\ttotal: 11.2s\tremaining: 6.92s\n",
      "618:\tlearn: 0.0667958\ttotal: 11.2s\tremaining: 6.9s\n",
      "619:\tlearn: 0.0667728\ttotal: 11.2s\tremaining: 6.88s\n",
      "620:\tlearn: 0.0667488\ttotal: 11.2s\tremaining: 6.86s\n",
      "621:\tlearn: 0.0667312\ttotal: 11.3s\tremaining: 6.84s\n",
      "622:\tlearn: 0.0667212\ttotal: 11.3s\tremaining: 6.83s\n",
      "623:\tlearn: 0.0667062\ttotal: 11.3s\tremaining: 6.81s\n",
      "624:\tlearn: 0.0666888\ttotal: 11.3s\tremaining: 6.79s\n",
      "625:\tlearn: 0.0666742\ttotal: 11.3s\tremaining: 6.77s\n",
      "626:\tlearn: 0.0666612\ttotal: 11.3s\tremaining: 6.75s\n",
      "627:\tlearn: 0.0666496\ttotal: 11.4s\tremaining: 6.73s\n",
      "628:\tlearn: 0.0666385\ttotal: 11.4s\tremaining: 6.72s\n",
      "629:\tlearn: 0.0666319\ttotal: 11.4s\tremaining: 6.7s\n",
      "630:\tlearn: 0.0666219\ttotal: 11.4s\tremaining: 6.68s\n",
      "631:\tlearn: 0.0666056\ttotal: 11.4s\tremaining: 6.66s\n",
      "632:\tlearn: 0.0665833\ttotal: 11.5s\tremaining: 6.64s\n",
      "633:\tlearn: 0.0665742\ttotal: 11.5s\tremaining: 6.62s\n",
      "634:\tlearn: 0.0665658\ttotal: 11.5s\tremaining: 6.6s\n",
      "635:\tlearn: 0.0665449\ttotal: 11.5s\tremaining: 6.58s\n",
      "636:\tlearn: 0.0665325\ttotal: 11.5s\tremaining: 6.57s\n",
      "637:\tlearn: 0.0665255\ttotal: 11.5s\tremaining: 6.55s\n",
      "638:\tlearn: 0.0665116\ttotal: 11.6s\tremaining: 6.53s\n",
      "639:\tlearn: 0.0664860\ttotal: 11.6s\tremaining: 6.51s\n",
      "640:\tlearn: 0.0664670\ttotal: 11.6s\tremaining: 6.49s\n",
      "641:\tlearn: 0.0664493\ttotal: 11.6s\tremaining: 6.48s\n",
      "642:\tlearn: 0.0664246\ttotal: 11.6s\tremaining: 6.46s\n",
      "643:\tlearn: 0.0664053\ttotal: 11.6s\tremaining: 6.44s\n",
      "644:\tlearn: 0.0663823\ttotal: 11.7s\tremaining: 6.42s\n",
      "645:\tlearn: 0.0663509\ttotal: 11.7s\tremaining: 6.4s\n",
      "646:\tlearn: 0.0663291\ttotal: 11.7s\tremaining: 6.38s\n",
      "647:\tlearn: 0.0663112\ttotal: 11.7s\tremaining: 6.36s\n",
      "648:\tlearn: 0.0662863\ttotal: 11.7s\tremaining: 6.34s\n",
      "649:\tlearn: 0.0662713\ttotal: 11.8s\tremaining: 6.33s\n",
      "650:\tlearn: 0.0662603\ttotal: 11.8s\tremaining: 6.31s\n",
      "651:\tlearn: 0.0662418\ttotal: 11.8s\tremaining: 6.29s\n",
      "652:\tlearn: 0.0662328\ttotal: 11.8s\tremaining: 6.27s\n",
      "653:\tlearn: 0.0661996\ttotal: 11.8s\tremaining: 6.25s\n",
      "654:\tlearn: 0.0661804\ttotal: 11.8s\tremaining: 6.23s\n",
      "655:\tlearn: 0.0661676\ttotal: 11.8s\tremaining: 6.21s\n",
      "656:\tlearn: 0.0661545\ttotal: 11.9s\tremaining: 6.19s\n",
      "657:\tlearn: 0.0661449\ttotal: 11.9s\tremaining: 6.18s\n",
      "658:\tlearn: 0.0661328\ttotal: 11.9s\tremaining: 6.16s\n",
      "659:\tlearn: 0.0661164\ttotal: 11.9s\tremaining: 6.14s\n",
      "660:\tlearn: 0.0661001\ttotal: 11.9s\tremaining: 6.12s\n",
      "661:\tlearn: 0.0660722\ttotal: 12s\tremaining: 6.1s\n",
      "662:\tlearn: 0.0660463\ttotal: 12s\tremaining: 6.08s\n",
      "663:\tlearn: 0.0660300\ttotal: 12s\tremaining: 6.07s\n",
      "664:\tlearn: 0.0660200\ttotal: 12s\tremaining: 6.05s\n",
      "665:\tlearn: 0.0660068\ttotal: 12s\tremaining: 6.03s\n",
      "666:\tlearn: 0.0659890\ttotal: 12s\tremaining: 6.01s\n",
      "667:\tlearn: 0.0659755\ttotal: 12.1s\tremaining: 5.99s\n",
      "668:\tlearn: 0.0659713\ttotal: 12.1s\tremaining: 5.97s\n",
      "669:\tlearn: 0.0659562\ttotal: 12.1s\tremaining: 5.96s\n",
      "670:\tlearn: 0.0659410\ttotal: 12.1s\tremaining: 5.94s\n",
      "671:\tlearn: 0.0659168\ttotal: 12.1s\tremaining: 5.92s\n",
      "672:\tlearn: 0.0658977\ttotal: 12.1s\tremaining: 5.9s\n",
      "673:\tlearn: 0.0658852\ttotal: 12.2s\tremaining: 5.88s\n",
      "674:\tlearn: 0.0658699\ttotal: 12.2s\tremaining: 5.86s\n",
      "675:\tlearn: 0.0658546\ttotal: 12.2s\tremaining: 5.84s\n",
      "676:\tlearn: 0.0658392\ttotal: 12.2s\tremaining: 5.83s\n",
      "677:\tlearn: 0.0658203\ttotal: 12.2s\tremaining: 5.81s\n",
      "678:\tlearn: 0.0658007\ttotal: 12.3s\tremaining: 5.79s\n",
      "679:\tlearn: 0.0657805\ttotal: 12.3s\tremaining: 5.77s\n",
      "680:\tlearn: 0.0657564\ttotal: 12.3s\tremaining: 5.75s\n",
      "681:\tlearn: 0.0657531\ttotal: 12.3s\tremaining: 5.74s\n",
      "682:\tlearn: 0.0657371\ttotal: 12.3s\tremaining: 5.72s\n",
      "683:\tlearn: 0.0657144\ttotal: 12.3s\tremaining: 5.7s\n",
      "684:\tlearn: 0.0656732\ttotal: 12.4s\tremaining: 5.68s\n",
      "685:\tlearn: 0.0656625\ttotal: 12.4s\tremaining: 5.66s\n",
      "686:\tlearn: 0.0656475\ttotal: 12.4s\tremaining: 5.64s\n",
      "687:\tlearn: 0.0656366\ttotal: 12.4s\tremaining: 5.63s\n",
      "688:\tlearn: 0.0656030\ttotal: 12.4s\tremaining: 5.61s\n",
      "689:\tlearn: 0.0655901\ttotal: 12.4s\tremaining: 5.59s\n",
      "690:\tlearn: 0.0655877\ttotal: 12.5s\tremaining: 5.57s\n",
      "691:\tlearn: 0.0655756\ttotal: 12.5s\tremaining: 5.55s\n",
      "692:\tlearn: 0.0655627\ttotal: 12.5s\tremaining: 5.53s\n",
      "693:\tlearn: 0.0655376\ttotal: 12.5s\tremaining: 5.51s\n",
      "694:\tlearn: 0.0655176\ttotal: 12.5s\tremaining: 5.5s\n",
      "695:\tlearn: 0.0655155\ttotal: 12.5s\tremaining: 5.48s\n",
      "696:\tlearn: 0.0654914\ttotal: 12.6s\tremaining: 5.46s\n",
      "697:\tlearn: 0.0654741\ttotal: 12.6s\tremaining: 5.44s\n",
      "698:\tlearn: 0.0654593\ttotal: 12.6s\tremaining: 5.42s\n",
      "699:\tlearn: 0.0654380\ttotal: 12.6s\tremaining: 5.41s\n",
      "700:\tlearn: 0.0654198\ttotal: 12.6s\tremaining: 5.39s\n",
      "701:\tlearn: 0.0654083\ttotal: 12.6s\tremaining: 5.37s\n",
      "702:\tlearn: 0.0653990\ttotal: 12.7s\tremaining: 5.35s\n",
      "703:\tlearn: 0.0653833\ttotal: 12.7s\tremaining: 5.33s\n",
      "704:\tlearn: 0.0653769\ttotal: 12.7s\tremaining: 5.32s\n",
      "705:\tlearn: 0.0653563\ttotal: 12.7s\tremaining: 5.3s\n",
      "706:\tlearn: 0.0653437\ttotal: 12.7s\tremaining: 5.28s\n",
      "707:\tlearn: 0.0653264\ttotal: 12.8s\tremaining: 5.26s\n",
      "708:\tlearn: 0.0653103\ttotal: 12.8s\tremaining: 5.24s\n",
      "709:\tlearn: 0.0652976\ttotal: 12.8s\tremaining: 5.22s\n",
      "710:\tlearn: 0.0652832\ttotal: 12.8s\tremaining: 5.21s\n",
      "711:\tlearn: 0.0652699\ttotal: 12.8s\tremaining: 5.19s\n",
      "712:\tlearn: 0.0652595\ttotal: 12.8s\tremaining: 5.17s\n",
      "713:\tlearn: 0.0652436\ttotal: 12.9s\tremaining: 5.15s\n",
      "714:\tlearn: 0.0652220\ttotal: 12.9s\tremaining: 5.13s\n",
      "715:\tlearn: 0.0651946\ttotal: 12.9s\tremaining: 5.12s\n",
      "716:\tlearn: 0.0651889\ttotal: 12.9s\tremaining: 5.1s\n",
      "717:\tlearn: 0.0651698\ttotal: 12.9s\tremaining: 5.08s\n",
      "718:\tlearn: 0.0651523\ttotal: 12.9s\tremaining: 5.06s\n",
      "719:\tlearn: 0.0651364\ttotal: 13s\tremaining: 5.04s\n",
      "720:\tlearn: 0.0651229\ttotal: 13s\tremaining: 5.02s\n",
      "721:\tlearn: 0.0651195\ttotal: 13s\tremaining: 5s\n",
      "722:\tlearn: 0.0651080\ttotal: 13s\tremaining: 4.99s\n",
      "723:\tlearn: 0.0650886\ttotal: 13s\tremaining: 4.97s\n",
      "724:\tlearn: 0.0650639\ttotal: 13s\tremaining: 4.95s\n",
      "725:\tlearn: 0.0650456\ttotal: 13.1s\tremaining: 4.93s\n",
      "726:\tlearn: 0.0650317\ttotal: 13.1s\tremaining: 4.91s\n",
      "727:\tlearn: 0.0650065\ttotal: 13.1s\tremaining: 4.89s\n",
      "728:\tlearn: 0.0649909\ttotal: 13.1s\tremaining: 4.88s\n",
      "729:\tlearn: 0.0649760\ttotal: 13.1s\tremaining: 4.86s\n",
      "730:\tlearn: 0.0649575\ttotal: 13.1s\tremaining: 4.84s\n",
      "731:\tlearn: 0.0649479\ttotal: 13.2s\tremaining: 4.82s\n",
      "732:\tlearn: 0.0649325\ttotal: 13.2s\tremaining: 4.8s\n",
      "733:\tlearn: 0.0649082\ttotal: 13.2s\tremaining: 4.78s\n",
      "734:\tlearn: 0.0648884\ttotal: 13.2s\tremaining: 4.76s\n",
      "735:\tlearn: 0.0648724\ttotal: 13.2s\tremaining: 4.75s\n",
      "736:\tlearn: 0.0648547\ttotal: 13.2s\tremaining: 4.73s\n",
      "737:\tlearn: 0.0648341\ttotal: 13.3s\tremaining: 4.71s\n",
      "738:\tlearn: 0.0648181\ttotal: 13.3s\tremaining: 4.69s\n",
      "739:\tlearn: 0.0648112\ttotal: 13.3s\tremaining: 4.67s\n",
      "740:\tlearn: 0.0647948\ttotal: 13.3s\tremaining: 4.65s\n",
      "741:\tlearn: 0.0647765\ttotal: 13.3s\tremaining: 4.64s\n",
      "742:\tlearn: 0.0647560\ttotal: 13.3s\tremaining: 4.62s\n",
      "743:\tlearn: 0.0647336\ttotal: 13.4s\tremaining: 4.6s\n",
      "744:\tlearn: 0.0647278\ttotal: 13.4s\tremaining: 4.58s\n",
      "745:\tlearn: 0.0647193\ttotal: 13.4s\tremaining: 4.56s\n",
      "746:\tlearn: 0.0646994\ttotal: 13.4s\tremaining: 4.54s\n",
      "747:\tlearn: 0.0646820\ttotal: 13.4s\tremaining: 4.53s\n",
      "748:\tlearn: 0.0646609\ttotal: 13.5s\tremaining: 4.51s\n",
      "749:\tlearn: 0.0646410\ttotal: 13.5s\tremaining: 4.49s\n",
      "750:\tlearn: 0.0646263\ttotal: 13.5s\tremaining: 4.47s\n",
      "751:\tlearn: 0.0646021\ttotal: 13.5s\tremaining: 4.45s\n",
      "752:\tlearn: 0.0645767\ttotal: 13.5s\tremaining: 4.43s\n",
      "753:\tlearn: 0.0645608\ttotal: 13.5s\tremaining: 4.42s\n",
      "754:\tlearn: 0.0645333\ttotal: 13.6s\tremaining: 4.4s\n",
      "755:\tlearn: 0.0645165\ttotal: 13.6s\tremaining: 4.38s\n",
      "756:\tlearn: 0.0644914\ttotal: 13.6s\tremaining: 4.36s\n",
      "757:\tlearn: 0.0644660\ttotal: 13.6s\tremaining: 4.34s\n",
      "758:\tlearn: 0.0644461\ttotal: 13.6s\tremaining: 4.32s\n",
      "759:\tlearn: 0.0644302\ttotal: 13.6s\tremaining: 4.31s\n",
      "760:\tlearn: 0.0644170\ttotal: 13.7s\tremaining: 4.29s\n",
      "761:\tlearn: 0.0644028\ttotal: 13.7s\tremaining: 4.27s\n",
      "762:\tlearn: 0.0643910\ttotal: 13.7s\tremaining: 4.25s\n",
      "763:\tlearn: 0.0643754\ttotal: 13.7s\tremaining: 4.23s\n",
      "764:\tlearn: 0.0643517\ttotal: 13.7s\tremaining: 4.22s\n",
      "765:\tlearn: 0.0643431\ttotal: 13.7s\tremaining: 4.2s\n",
      "766:\tlearn: 0.0643259\ttotal: 13.8s\tremaining: 4.18s\n",
      "767:\tlearn: 0.0643214\ttotal: 13.8s\tremaining: 4.16s\n",
      "768:\tlearn: 0.0643196\ttotal: 13.8s\tremaining: 4.14s\n",
      "769:\tlearn: 0.0643095\ttotal: 13.8s\tremaining: 4.13s\n",
      "770:\tlearn: 0.0642981\ttotal: 13.8s\tremaining: 4.11s\n",
      "771:\tlearn: 0.0642898\ttotal: 13.9s\tremaining: 4.09s\n",
      "772:\tlearn: 0.0642758\ttotal: 13.9s\tremaining: 4.07s\n",
      "773:\tlearn: 0.0642551\ttotal: 13.9s\tremaining: 4.06s\n",
      "774:\tlearn: 0.0642352\ttotal: 13.9s\tremaining: 4.04s\n",
      "775:\tlearn: 0.0642237\ttotal: 13.9s\tremaining: 4.02s\n",
      "776:\tlearn: 0.0642062\ttotal: 13.9s\tremaining: 4s\n",
      "777:\tlearn: 0.0641978\ttotal: 14s\tremaining: 3.98s\n",
      "778:\tlearn: 0.0641916\ttotal: 14s\tremaining: 3.96s\n",
      "779:\tlearn: 0.0641703\ttotal: 14s\tremaining: 3.95s\n",
      "780:\tlearn: 0.0641509\ttotal: 14s\tremaining: 3.93s\n",
      "781:\tlearn: 0.0641314\ttotal: 14s\tremaining: 3.91s\n",
      "782:\tlearn: 0.0641155\ttotal: 14s\tremaining: 3.89s\n",
      "783:\tlearn: 0.0640959\ttotal: 14.1s\tremaining: 3.87s\n",
      "784:\tlearn: 0.0640912\ttotal: 14.1s\tremaining: 3.85s\n",
      "785:\tlearn: 0.0640750\ttotal: 14.1s\tremaining: 3.84s\n",
      "786:\tlearn: 0.0640648\ttotal: 14.1s\tremaining: 3.82s\n",
      "787:\tlearn: 0.0640598\ttotal: 14.1s\tremaining: 3.8s\n",
      "788:\tlearn: 0.0640368\ttotal: 14.1s\tremaining: 3.78s\n",
      "789:\tlearn: 0.0640283\ttotal: 14.2s\tremaining: 3.76s\n",
      "790:\tlearn: 0.0639985\ttotal: 14.2s\tremaining: 3.75s\n",
      "791:\tlearn: 0.0639839\ttotal: 14.2s\tremaining: 3.73s\n",
      "792:\tlearn: 0.0639737\ttotal: 14.2s\tremaining: 3.71s\n",
      "793:\tlearn: 0.0639506\ttotal: 14.2s\tremaining: 3.69s\n",
      "794:\tlearn: 0.0639287\ttotal: 14.2s\tremaining: 3.67s\n",
      "795:\tlearn: 0.0639192\ttotal: 14.3s\tremaining: 3.65s\n",
      "796:\tlearn: 0.0639058\ttotal: 14.3s\tremaining: 3.64s\n",
      "797:\tlearn: 0.0638889\ttotal: 14.3s\tremaining: 3.62s\n",
      "798:\tlearn: 0.0638740\ttotal: 14.3s\tremaining: 3.6s\n",
      "799:\tlearn: 0.0638624\ttotal: 14.3s\tremaining: 3.58s\n",
      "800:\tlearn: 0.0638521\ttotal: 14.3s\tremaining: 3.56s\n",
      "801:\tlearn: 0.0638441\ttotal: 14.4s\tremaining: 3.55s\n",
      "802:\tlearn: 0.0638169\ttotal: 14.4s\tremaining: 3.53s\n",
      "803:\tlearn: 0.0637996\ttotal: 14.4s\tremaining: 3.51s\n",
      "804:\tlearn: 0.0637824\ttotal: 14.4s\tremaining: 3.49s\n",
      "805:\tlearn: 0.0637640\ttotal: 14.5s\tremaining: 3.48s\n",
      "806:\tlearn: 0.0637455\ttotal: 14.5s\tremaining: 3.46s\n",
      "807:\tlearn: 0.0637248\ttotal: 14.5s\tremaining: 3.45s\n",
      "808:\tlearn: 0.0637106\ttotal: 14.5s\tremaining: 3.43s\n",
      "809:\tlearn: 0.0636964\ttotal: 14.6s\tremaining: 3.41s\n",
      "810:\tlearn: 0.0636792\ttotal: 14.6s\tremaining: 3.4s\n",
      "811:\tlearn: 0.0636688\ttotal: 14.6s\tremaining: 3.38s\n",
      "812:\tlearn: 0.0636485\ttotal: 14.6s\tremaining: 3.36s\n",
      "813:\tlearn: 0.0636282\ttotal: 14.6s\tremaining: 3.35s\n",
      "814:\tlearn: 0.0636162\ttotal: 14.7s\tremaining: 3.33s\n",
      "815:\tlearn: 0.0636017\ttotal: 14.7s\tremaining: 3.31s\n",
      "816:\tlearn: 0.0635764\ttotal: 14.7s\tremaining: 3.29s\n",
      "817:\tlearn: 0.0635654\ttotal: 14.7s\tremaining: 3.28s\n",
      "818:\tlearn: 0.0635515\ttotal: 14.8s\tremaining: 3.26s\n",
      "819:\tlearn: 0.0635413\ttotal: 14.8s\tremaining: 3.25s\n",
      "820:\tlearn: 0.0635140\ttotal: 14.8s\tremaining: 3.23s\n",
      "821:\tlearn: 0.0634890\ttotal: 14.8s\tremaining: 3.21s\n",
      "822:\tlearn: 0.0634783\ttotal: 14.9s\tremaining: 3.2s\n",
      "823:\tlearn: 0.0634650\ttotal: 14.9s\tremaining: 3.18s\n",
      "824:\tlearn: 0.0634517\ttotal: 14.9s\tremaining: 3.16s\n",
      "825:\tlearn: 0.0634244\ttotal: 14.9s\tremaining: 3.15s\n",
      "826:\tlearn: 0.0634195\ttotal: 15s\tremaining: 3.13s\n",
      "827:\tlearn: 0.0634027\ttotal: 15s\tremaining: 3.11s\n",
      "828:\tlearn: 0.0633927\ttotal: 15s\tremaining: 3.09s\n",
      "829:\tlearn: 0.0633878\ttotal: 15s\tremaining: 3.08s\n",
      "830:\tlearn: 0.0633661\ttotal: 15s\tremaining: 3.06s\n",
      "831:\tlearn: 0.0633436\ttotal: 15.1s\tremaining: 3.04s\n",
      "832:\tlearn: 0.0633262\ttotal: 15.1s\tremaining: 3.02s\n",
      "833:\tlearn: 0.0633057\ttotal: 15.1s\tremaining: 3s\n",
      "834:\tlearn: 0.0632864\ttotal: 15.1s\tremaining: 2.98s\n",
      "835:\tlearn: 0.0632770\ttotal: 15.1s\tremaining: 2.97s\n",
      "836:\tlearn: 0.0632530\ttotal: 15.1s\tremaining: 2.95s\n",
      "837:\tlearn: 0.0632328\ttotal: 15.2s\tremaining: 2.93s\n",
      "838:\tlearn: 0.0632250\ttotal: 15.2s\tremaining: 2.91s\n",
      "839:\tlearn: 0.0632206\ttotal: 15.2s\tremaining: 2.89s\n",
      "840:\tlearn: 0.0631989\ttotal: 15.2s\tremaining: 2.88s\n",
      "841:\tlearn: 0.0631773\ttotal: 15.2s\tremaining: 2.86s\n",
      "842:\tlearn: 0.0631565\ttotal: 15.2s\tremaining: 2.84s\n",
      "843:\tlearn: 0.0631362\ttotal: 15.3s\tremaining: 2.82s\n",
      "844:\tlearn: 0.0631073\ttotal: 15.3s\tremaining: 2.8s\n",
      "845:\tlearn: 0.0630936\ttotal: 15.3s\tremaining: 2.78s\n",
      "846:\tlearn: 0.0630762\ttotal: 15.3s\tremaining: 2.77s\n",
      "847:\tlearn: 0.0630632\ttotal: 15.3s\tremaining: 2.75s\n",
      "848:\tlearn: 0.0630471\ttotal: 15.4s\tremaining: 2.73s\n",
      "849:\tlearn: 0.0630363\ttotal: 15.4s\tremaining: 2.71s\n",
      "850:\tlearn: 0.0630166\ttotal: 15.4s\tremaining: 2.69s\n",
      "851:\tlearn: 0.0630044\ttotal: 15.4s\tremaining: 2.68s\n",
      "852:\tlearn: 0.0629774\ttotal: 15.4s\tremaining: 2.66s\n",
      "853:\tlearn: 0.0629607\ttotal: 15.4s\tremaining: 2.64s\n",
      "854:\tlearn: 0.0629448\ttotal: 15.5s\tremaining: 2.62s\n",
      "855:\tlearn: 0.0629266\ttotal: 15.5s\tremaining: 2.6s\n",
      "856:\tlearn: 0.0629152\ttotal: 15.5s\tremaining: 2.59s\n",
      "857:\tlearn: 0.0628956\ttotal: 15.5s\tremaining: 2.57s\n",
      "858:\tlearn: 0.0628901\ttotal: 15.5s\tremaining: 2.55s\n",
      "859:\tlearn: 0.0628680\ttotal: 15.6s\tremaining: 2.53s\n",
      "860:\tlearn: 0.0628569\ttotal: 15.6s\tremaining: 2.51s\n",
      "861:\tlearn: 0.0628544\ttotal: 15.6s\tremaining: 2.5s\n",
      "862:\tlearn: 0.0628433\ttotal: 15.6s\tremaining: 2.48s\n",
      "863:\tlearn: 0.0628325\ttotal: 15.6s\tremaining: 2.46s\n",
      "864:\tlearn: 0.0628155\ttotal: 15.6s\tremaining: 2.44s\n",
      "865:\tlearn: 0.0627980\ttotal: 15.7s\tremaining: 2.42s\n",
      "866:\tlearn: 0.0627837\ttotal: 15.7s\tremaining: 2.4s\n",
      "867:\tlearn: 0.0627602\ttotal: 15.7s\tremaining: 2.39s\n",
      "868:\tlearn: 0.0627461\ttotal: 15.7s\tremaining: 2.37s\n",
      "869:\tlearn: 0.0627266\ttotal: 15.7s\tremaining: 2.35s\n",
      "870:\tlearn: 0.0627074\ttotal: 15.8s\tremaining: 2.33s\n",
      "871:\tlearn: 0.0627002\ttotal: 15.8s\tremaining: 2.31s\n",
      "872:\tlearn: 0.0626815\ttotal: 15.8s\tremaining: 2.3s\n",
      "873:\tlearn: 0.0626669\ttotal: 15.8s\tremaining: 2.28s\n",
      "874:\tlearn: 0.0626493\ttotal: 15.8s\tremaining: 2.26s\n",
      "875:\tlearn: 0.0626394\ttotal: 15.8s\tremaining: 2.24s\n",
      "876:\tlearn: 0.0626141\ttotal: 15.9s\tremaining: 2.22s\n",
      "877:\tlearn: 0.0626021\ttotal: 15.9s\tremaining: 2.21s\n",
      "878:\tlearn: 0.0625832\ttotal: 15.9s\tremaining: 2.19s\n",
      "879:\tlearn: 0.0625698\ttotal: 15.9s\tremaining: 2.17s\n",
      "880:\tlearn: 0.0625657\ttotal: 15.9s\tremaining: 2.15s\n",
      "881:\tlearn: 0.0625537\ttotal: 15.9s\tremaining: 2.13s\n",
      "882:\tlearn: 0.0625314\ttotal: 16s\tremaining: 2.11s\n",
      "883:\tlearn: 0.0625266\ttotal: 16s\tremaining: 2.1s\n",
      "884:\tlearn: 0.0625200\ttotal: 16s\tremaining: 2.08s\n",
      "885:\tlearn: 0.0625113\ttotal: 16s\tremaining: 2.06s\n",
      "886:\tlearn: 0.0624897\ttotal: 16s\tremaining: 2.04s\n",
      "887:\tlearn: 0.0624884\ttotal: 16s\tremaining: 2.02s\n",
      "888:\tlearn: 0.0624660\ttotal: 16.1s\tremaining: 2.01s\n",
      "889:\tlearn: 0.0624513\ttotal: 16.1s\tremaining: 1.99s\n",
      "890:\tlearn: 0.0624315\ttotal: 16.1s\tremaining: 1.97s\n",
      "891:\tlearn: 0.0624136\ttotal: 16.1s\tremaining: 1.95s\n",
      "892:\tlearn: 0.0623958\ttotal: 16.1s\tremaining: 1.93s\n",
      "893:\tlearn: 0.0623866\ttotal: 16.1s\tremaining: 1.91s\n",
      "894:\tlearn: 0.0623738\ttotal: 16.2s\tremaining: 1.9s\n",
      "895:\tlearn: 0.0623607\ttotal: 16.2s\tremaining: 1.88s\n",
      "896:\tlearn: 0.0623292\ttotal: 16.2s\tremaining: 1.86s\n",
      "897:\tlearn: 0.0623135\ttotal: 16.2s\tremaining: 1.84s\n",
      "898:\tlearn: 0.0622953\ttotal: 16.2s\tremaining: 1.82s\n",
      "899:\tlearn: 0.0622875\ttotal: 16.2s\tremaining: 1.8s\n",
      "900:\tlearn: 0.0622815\ttotal: 16.3s\tremaining: 1.79s\n",
      "901:\tlearn: 0.0622633\ttotal: 16.3s\tremaining: 1.77s\n",
      "902:\tlearn: 0.0622429\ttotal: 16.3s\tremaining: 1.75s\n",
      "903:\tlearn: 0.0622316\ttotal: 16.3s\tremaining: 1.73s\n",
      "904:\tlearn: 0.0622172\ttotal: 16.3s\tremaining: 1.71s\n",
      "905:\tlearn: 0.0622022\ttotal: 16.4s\tremaining: 1.7s\n",
      "906:\tlearn: 0.0621894\ttotal: 16.4s\tremaining: 1.68s\n",
      "907:\tlearn: 0.0621749\ttotal: 16.4s\tremaining: 1.66s\n",
      "908:\tlearn: 0.0621578\ttotal: 16.4s\tremaining: 1.64s\n",
      "909:\tlearn: 0.0621422\ttotal: 16.4s\tremaining: 1.62s\n",
      "910:\tlearn: 0.0621328\ttotal: 16.4s\tremaining: 1.6s\n",
      "911:\tlearn: 0.0621032\ttotal: 16.4s\tremaining: 1.59s\n",
      "912:\tlearn: 0.0620844\ttotal: 16.5s\tremaining: 1.57s\n",
      "913:\tlearn: 0.0620725\ttotal: 16.5s\tremaining: 1.55s\n",
      "914:\tlearn: 0.0620632\ttotal: 16.5s\tremaining: 1.53s\n",
      "915:\tlearn: 0.0620544\ttotal: 16.5s\tremaining: 1.51s\n",
      "916:\tlearn: 0.0620429\ttotal: 16.5s\tremaining: 1.5s\n",
      "917:\tlearn: 0.0620315\ttotal: 16.6s\tremaining: 1.48s\n",
      "918:\tlearn: 0.0620161\ttotal: 16.6s\tremaining: 1.46s\n",
      "919:\tlearn: 0.0619961\ttotal: 16.6s\tremaining: 1.44s\n",
      "920:\tlearn: 0.0619796\ttotal: 16.6s\tremaining: 1.42s\n",
      "921:\tlearn: 0.0619605\ttotal: 16.6s\tremaining: 1.41s\n",
      "922:\tlearn: 0.0619492\ttotal: 16.6s\tremaining: 1.39s\n",
      "923:\tlearn: 0.0619325\ttotal: 16.7s\tremaining: 1.37s\n",
      "924:\tlearn: 0.0619232\ttotal: 16.7s\tremaining: 1.35s\n",
      "925:\tlearn: 0.0619142\ttotal: 16.7s\tremaining: 1.33s\n",
      "926:\tlearn: 0.0619074\ttotal: 16.7s\tremaining: 1.32s\n",
      "927:\tlearn: 0.0618829\ttotal: 16.7s\tremaining: 1.3s\n",
      "928:\tlearn: 0.0618661\ttotal: 16.8s\tremaining: 1.28s\n",
      "929:\tlearn: 0.0618535\ttotal: 16.8s\tremaining: 1.26s\n",
      "930:\tlearn: 0.0618400\ttotal: 16.8s\tremaining: 1.24s\n",
      "931:\tlearn: 0.0618253\ttotal: 16.8s\tremaining: 1.23s\n",
      "932:\tlearn: 0.0618109\ttotal: 16.8s\tremaining: 1.21s\n",
      "933:\tlearn: 0.0617883\ttotal: 16.8s\tremaining: 1.19s\n",
      "934:\tlearn: 0.0617721\ttotal: 16.9s\tremaining: 1.17s\n",
      "935:\tlearn: 0.0617566\ttotal: 16.9s\tremaining: 1.15s\n",
      "936:\tlearn: 0.0617420\ttotal: 16.9s\tremaining: 1.14s\n",
      "937:\tlearn: 0.0617219\ttotal: 16.9s\tremaining: 1.12s\n",
      "938:\tlearn: 0.0617137\ttotal: 16.9s\tremaining: 1.1s\n",
      "939:\tlearn: 0.0617032\ttotal: 16.9s\tremaining: 1.08s\n",
      "940:\tlearn: 0.0616995\ttotal: 17s\tremaining: 1.06s\n",
      "941:\tlearn: 0.0616934\ttotal: 17s\tremaining: 1.04s\n",
      "942:\tlearn: 0.0616794\ttotal: 17s\tremaining: 1.03s\n",
      "943:\tlearn: 0.0616707\ttotal: 17s\tremaining: 1.01s\n",
      "944:\tlearn: 0.0616594\ttotal: 17s\tremaining: 991ms\n",
      "945:\tlearn: 0.0616467\ttotal: 17s\tremaining: 973ms\n",
      "946:\tlearn: 0.0616343\ttotal: 17.1s\tremaining: 955ms\n",
      "947:\tlearn: 0.0616089\ttotal: 17.1s\tremaining: 937ms\n",
      "948:\tlearn: 0.0615897\ttotal: 17.1s\tremaining: 919ms\n",
      "949:\tlearn: 0.0615794\ttotal: 17.1s\tremaining: 901ms\n",
      "950:\tlearn: 0.0615718\ttotal: 17.1s\tremaining: 883ms\n",
      "951:\tlearn: 0.0615586\ttotal: 17.2s\tremaining: 865ms\n",
      "952:\tlearn: 0.0615481\ttotal: 17.2s\tremaining: 847ms\n",
      "953:\tlearn: 0.0615311\ttotal: 17.2s\tremaining: 829ms\n",
      "954:\tlearn: 0.0615232\ttotal: 17.2s\tremaining: 811ms\n",
      "955:\tlearn: 0.0615121\ttotal: 17.2s\tremaining: 793ms\n",
      "956:\tlearn: 0.0614867\ttotal: 17.2s\tremaining: 775ms\n",
      "957:\tlearn: 0.0614716\ttotal: 17.3s\tremaining: 757ms\n",
      "958:\tlearn: 0.0614614\ttotal: 17.3s\tremaining: 739ms\n",
      "959:\tlearn: 0.0614526\ttotal: 17.3s\tremaining: 721ms\n",
      "960:\tlearn: 0.0614432\ttotal: 17.3s\tremaining: 703ms\n",
      "961:\tlearn: 0.0614271\ttotal: 17.3s\tremaining: 685ms\n",
      "962:\tlearn: 0.0614098\ttotal: 17.4s\tremaining: 667ms\n",
      "963:\tlearn: 0.0614031\ttotal: 17.4s\tremaining: 649ms\n",
      "964:\tlearn: 0.0613803\ttotal: 17.4s\tremaining: 631ms\n",
      "965:\tlearn: 0.0613556\ttotal: 17.4s\tremaining: 613ms\n",
      "966:\tlearn: 0.0613420\ttotal: 17.4s\tremaining: 595ms\n",
      "967:\tlearn: 0.0613211\ttotal: 17.4s\tremaining: 577ms\n",
      "968:\tlearn: 0.0613098\ttotal: 17.5s\tremaining: 561ms\n",
      "969:\tlearn: 0.0612985\ttotal: 17.6s\tremaining: 544ms\n",
      "970:\tlearn: 0.0612758\ttotal: 17.6s\tremaining: 526ms\n",
      "971:\tlearn: 0.0612646\ttotal: 17.6s\tremaining: 507ms\n",
      "972:\tlearn: 0.0612528\ttotal: 17.6s\tremaining: 489ms\n",
      "973:\tlearn: 0.0612401\ttotal: 17.6s\tremaining: 471ms\n",
      "974:\tlearn: 0.0612187\ttotal: 17.7s\tremaining: 453ms\n",
      "975:\tlearn: 0.0612047\ttotal: 17.7s\tremaining: 435ms\n",
      "976:\tlearn: 0.0611953\ttotal: 17.7s\tremaining: 417ms\n",
      "977:\tlearn: 0.0611848\ttotal: 17.7s\tremaining: 398ms\n",
      "978:\tlearn: 0.0611699\ttotal: 17.7s\tremaining: 380ms\n",
      "979:\tlearn: 0.0611590\ttotal: 17.7s\tremaining: 362ms\n",
      "980:\tlearn: 0.0611473\ttotal: 17.8s\tremaining: 344ms\n",
      "981:\tlearn: 0.0611334\ttotal: 17.8s\tremaining: 326ms\n",
      "982:\tlearn: 0.0611182\ttotal: 17.8s\tremaining: 308ms\n",
      "983:\tlearn: 0.0611021\ttotal: 17.8s\tremaining: 290ms\n",
      "984:\tlearn: 0.0610852\ttotal: 17.8s\tremaining: 272ms\n",
      "985:\tlearn: 0.0610659\ttotal: 17.9s\tremaining: 253ms\n",
      "986:\tlearn: 0.0610462\ttotal: 17.9s\tremaining: 235ms\n",
      "987:\tlearn: 0.0610321\ttotal: 17.9s\tremaining: 217ms\n",
      "988:\tlearn: 0.0610215\ttotal: 17.9s\tremaining: 199ms\n",
      "989:\tlearn: 0.0610072\ttotal: 17.9s\tremaining: 181ms\n",
      "990:\tlearn: 0.0610002\ttotal: 17.9s\tremaining: 163ms\n",
      "991:\tlearn: 0.0609842\ttotal: 18s\tremaining: 145ms\n",
      "992:\tlearn: 0.0609698\ttotal: 18s\tremaining: 127ms\n",
      "993:\tlearn: 0.0609655\ttotal: 18s\tremaining: 109ms\n",
      "994:\tlearn: 0.0609592\ttotal: 18s\tremaining: 90.5ms\n",
      "995:\tlearn: 0.0609549\ttotal: 18s\tremaining: 72.4ms\n",
      "996:\tlearn: 0.0609370\ttotal: 18.1s\tremaining: 54.3ms\n",
      "997:\tlearn: 0.0609320\ttotal: 18.1s\tremaining: 36.2ms\n",
      "998:\tlearn: 0.0609065\ttotal: 18.1s\tremaining: 18.1ms\n",
      "999:\tlearn: 0.0608883\ttotal: 18.1s\tremaining: 0us\n"
     ]
    },
    {
     "data": {
      "text/plain": [
       "<catboost.core.CatBoostClassifier at 0x244681f1420>"
      ]
     },
     "execution_count": 112,
     "metadata": {},
     "output_type": "execute_result"
    }
   ],
   "source": [
    "CB.fit(X_train,y_train)"
   ]
  },
  {
   "cell_type": "code",
   "execution_count": 113,
   "id": "342574be",
   "metadata": {
    "colab": {
     "base_uri": "https://localhost:8080/"
    },
    "id": "22f3764d",
    "outputId": "011f7c46-e9f1-4895-8dee-3d18ba56dd09"
   },
   "outputs": [
    {
     "name": "stdout",
     "output_type": "stream",
     "text": [
      "              precision    recall  f1-score   support\n",
      "\n",
      "           0       0.97      1.00      0.98     21925\n",
      "           1       0.96      0.68      0.80      2112\n",
      "\n",
      "    accuracy                           0.97     24037\n",
      "   macro avg       0.96      0.84      0.89     24037\n",
      "weighted avg       0.97      0.97      0.97     24037\n",
      "\n"
     ]
    }
   ],
   "source": [
    "print(classification_report(y_test,y_pred_test))"
   ]
  },
  {
   "cell_type": "code",
   "execution_count": 114,
   "id": "ed16f35a",
   "metadata": {},
   "outputs": [],
   "source": [
    "y_pred_test=CB.predict(X_test)\n",
    "y_pred_train=CB.predict(X_train)"
   ]
  },
  {
   "cell_type": "code",
   "execution_count": 115,
   "id": "c22c02c1",
   "metadata": {
    "colab": {
     "base_uri": "https://localhost:8080/"
    },
    "id": "079c81a3",
    "outputId": "84d2cf9b-1fef-449a-ea7d-2b6c0f155080"
   },
   "outputs": [
    {
     "name": "stdout",
     "output_type": "stream",
     "text": [
      "Training Accuracy : 0.9782967452051755\n",
      "Testing Accuracy : 0.9690893206306943\n",
      "F1 Score : 0.7950344827586207\n",
      "Recall : 0.6822916666666666\n",
      "Precision : 0.9524124256444151\n"
     ]
    }
   ],
   "source": [
    "train_acc=accuracy_score(y_train,y_pred_train)\n",
    "test_acc=accuracy_score(y_test,y_pred_test)\n",
    "recal=recall_score(y_test,y_pred_test)\n",
    "prec=precision_score(y_test,y_pred_test)\n",
    "f1=f1_score(y_test,y_pred_test)\n",
    "print(\"Training Accuracy :\", train_acc)\n",
    "print(\"Testing Accuracy :\", test_acc)\n",
    "print(\"F1 Score :\", f1)\n",
    "print(\"Recall :\", recal)\n",
    "print(\"Precision :\", prec)"
   ]
  },
  {
   "cell_type": "code",
   "execution_count": 116,
   "id": "5922ea09",
   "metadata": {
    "id": "2a63f6b0"
   },
   "outputs": [],
   "source": [
    "metric[\"CatBoost\"]={\"Training_Accuracy\":train_acc, \"Testing Accuracy\":test_acc, \"f1 score\":f1, \"Recall\":recal, \"Precision\":prec}"
   ]
  },
  {
   "cell_type": "code",
   "execution_count": 117,
   "id": "b2307d31",
   "metadata": {
    "id": "ftqY1RwGarYC"
   },
   "outputs": [
    {
     "data": {
      "image/png": "[encoded data removed]",
      "text/plain": [
       "<Figure size 500x300 with 2 Axes>"
      ]
     },
     "metadata": {},
     "output_type": "display_data"
    }
   ],
   "source": [
    "conf_matrix = pd.DataFrame(data = confusion_matrix(y_test,y_pred_test),\n",
    "                           columns = ['Predicted:0', 'Predicted:1'],\n",
    "                           index =['Actual:0', 'Actual:1'])\n",
    "plt.figure(figsize = (5, 3))\n",
    "sns.heatmap(conf_matrix, annot = True, fmt = 'd')\n",
    "plt.show()"
   ]
  },
  {
   "cell_type": "markdown",
   "id": "a4938962",
   "metadata": {
    "id": "a4938962"
   },
   "source": [
    "* ## AdaBoost"
   ]
  },
  {
   "cell_type": "code",
   "execution_count": 118,
   "id": "ca05491d",
   "metadata": {},
   "outputs": [],
   "source": [
    "from sklearn.ensemble import AdaBoostClassifier"
   ]
  },
  {
   "cell_type": "code",
   "execution_count": 119,
   "id": "261d6d42",
   "metadata": {},
   "outputs": [],
   "source": [
    "AB=AdaBoostClassifier(algorithm='SAMME')"
   ]
  },
  {
   "cell_type": "code",
   "execution_count": 120,
   "id": "5c3eeda2",
   "metadata": {},
   "outputs": [
    {
     "data": {
      "text/html": [
       "<style>#sk-container-id-11 {color: black;background-color: white;}#sk-container-id-11 pre{padding: 0;}#sk-container-id-11 div.sk-toggleable {background-color: white;}#sk-container-id-11 label.sk-toggleable__label {cursor: pointer;display: block;width: 100%;margin-bottom: 0;padding: 0.3em;box-sizing: border-box;text-align: center;}#sk-container-id-11 label.sk-toggleable__label-arrow:before {content: \"▸\";float: left;margin-right: 0.25em;color: #696969;}#sk-container-id-11 label.sk-toggleable__label-arrow:hover:before {color: black;}#sk-container-id-11 div.sk-estimator:hover label.sk-toggleable__label-arrow:before {color: black;}#sk-container-id-11 div.sk-toggleable__content {max-height: 0;max-width: 0;overflow: hidden;text-align: left;background-color: #f0f8ff;}#sk-container-id-11 div.sk-toggleable__content pre {margin: 0.2em;color: black;border-radius: 0.25em;background-color: #f0f8ff;}#sk-container-id-11 input.sk-toggleable__control:checked~div.sk-toggleable__content {max-height: 200px;max-width: 100%;overflow: auto;}#sk-container-id-11 input.sk-toggleable__control:checked~label.sk-toggleable__label-arrow:before {content: \"▾\";}#sk-container-id-11 div.sk-estimator input.sk-toggleable__control:checked~label.sk-toggleable__label {background-color: #d4ebff;}#sk-container-id-11 div.sk-label input.sk-toggleable__control:checked~label.sk-toggleable__label {background-color: #d4ebff;}#sk-container-id-11 input.sk-hidden--visually {border: 0;clip: rect(1px 1px 1px 1px);clip: rect(1px, 1px, 1px, 1px);height: 1px;margin: -1px;overflow: hidden;padding: 0;position: absolute;width: 1px;}#sk-container-id-11 div.sk-estimator {font-family: monospace;background-color: #f0f8ff;border: 1px dotted black;border-radius: 0.25em;box-sizing: border-box;margin-bottom: 0.5em;}#sk-container-id-11 div.sk-estimator:hover {background-color: #d4ebff;}#sk-container-id-11 div.sk-parallel-item::after {content: \"\";width: 100%;border-bottom: 1px solid gray;flex-grow: 1;}#sk-container-id-11 div.sk-label:hover label.sk-toggleable__label {background-color: #d4ebff;}#sk-container-id-11 div.sk-serial::before {content: \"\";position: absolute;border-left: 1px solid gray;box-sizing: border-box;top: 0;bottom: 0;left: 50%;z-index: 0;}#sk-container-id-11 div.sk-serial {display: flex;flex-direction: column;align-items: center;background-color: white;padding-right: 0.2em;padding-left: 0.2em;position: relative;}#sk-container-id-11 div.sk-item {position: relative;z-index: 1;}#sk-container-id-11 div.sk-parallel {display: flex;align-items: stretch;justify-content: center;background-color: white;position: relative;}#sk-container-id-11 div.sk-item::before, #sk-container-id-11 div.sk-parallel-item::before {content: \"\";position: absolute;border-left: 1px solid gray;box-sizing: border-box;top: 0;bottom: 0;left: 50%;z-index: -1;}#sk-container-id-11 div.sk-parallel-item {display: flex;flex-direction: column;z-index: 1;position: relative;background-color: white;}#sk-container-id-11 div.sk-parallel-item:first-child::after {align-self: flex-end;width: 50%;}#sk-container-id-11 div.sk-parallel-item:last-child::after {align-self: flex-start;width: 50%;}#sk-container-id-11 div.sk-parallel-item:only-child::after {width: 0;}#sk-container-id-11 div.sk-dashed-wrapped {border: 1px dashed gray;margin: 0 0.4em 0.5em 0.4em;box-sizing: border-box;padding-bottom: 0.4em;background-color: white;}#sk-container-id-11 div.sk-label label {font-family: monospace;font-weight: bold;display: inline-block;line-height: 1.2em;}#sk-container-id-11 div.sk-label-container {text-align: center;}#sk-container-id-11 div.sk-container {/* jupyter's `normalize.less` sets `[hidden] { display: none; }` but bootstrap.min.css set `[hidden] { display: none !important; }` so we also need the `!important` here to be able to override the default hidden behavior on the sphinx rendered scikit-learn.org. See: https://github.com/scikit-learn/scikit-learn/issues/21755 */display: inline-block !important;position: relative;}#sk-container-id-11 div.sk-text-repr-fallback {display: none;}</style><div id=\"sk-container-id-11\" class=\"sk-top-container\"><div class=\"sk-text-repr-fallback\"><pre>AdaBoostClassifier(algorithm=&#x27;SAMME&#x27;)</pre><b>In a Jupyter environment, please rerun this cell to show the HTML representation or trust the notebook. <br />On GitHub, the HTML representation is unable to render, please try loading this page with nbviewer.org.</b></div><div class=\"sk-container\" hidden><div class=\"sk-item\"><div class=\"sk-estimator sk-toggleable\"><input class=\"sk-toggleable__control sk-hidden--visually\" id=\"sk-estimator-id-11\" type=\"checkbox\" checked><label for=\"sk-estimator-id-11\" class=\"sk-toggleable__label sk-toggleable__label-arrow\">AdaBoostClassifier</label><div class=\"sk-toggleable__content\"><pre>AdaBoostClassifier(algorithm=&#x27;SAMME&#x27;)</pre></div></div></div></div></div>"
      ],
      "text/plain": [
       "AdaBoostClassifier(algorithm='SAMME')"
      ]
     },
     "execution_count": 120,
     "metadata": {},
     "output_type": "execute_result"
    }
   ],
   "source": [
    "AB.fit(X_train,y_train)"
   ]
  },
  {
   "cell_type": "code",
   "execution_count": 121,
   "id": "45c0e2ae",
   "metadata": {
    "colab": {
     "base_uri": "https://localhost:8080/"
    },
    "id": "22f3764d",
    "outputId": "011f7c46-e9f1-4895-8dee-3d18ba56dd09"
   },
   "outputs": [
    {
     "name": "stdout",
     "output_type": "stream",
     "text": [
      "              precision    recall  f1-score   support\n",
      "\n",
      "           0       0.97      1.00      0.98     21925\n",
      "           1       0.95      0.68      0.80      2112\n",
      "\n",
      "    accuracy                           0.97     24037\n",
      "   macro avg       0.96      0.84      0.89     24037\n",
      "weighted avg       0.97      0.97      0.97     24037\n",
      "\n"
     ]
    }
   ],
   "source": [
    "print(classification_report(y_test,y_pred_test))"
   ]
  },
  {
   "cell_type": "code",
   "execution_count": 122,
   "id": "534ca26c",
   "metadata": {},
   "outputs": [],
   "source": [
    "y_pred_test=AB.predict(X_test)\n",
    "y_pred_train=AB.predict(X_train)"
   ]
  },
  {
   "cell_type": "code",
   "execution_count": 123,
   "id": "38e5ab8b",
   "metadata": {
    "colab": {
     "base_uri": "https://localhost:8080/"
    },
    "id": "079c81a3",
    "outputId": "84d2cf9b-1fef-449a-ea7d-2b6c0f155080"
   },
   "outputs": [
    {
     "name": "stdout",
     "output_type": "stream",
     "text": [
      "Training Accuracy : 0.9711409116753803\n",
      "Testing Accuracy : 0.9696301535133336\n",
      "F1 Score : 0.7910704064109902\n",
      "Recall : 0.6543560606060606\n",
      "Precision : 1.0\n"
     ]
    }
   ],
   "source": [
    "train_acc=accuracy_score(y_train,y_pred_train)\n",
    "test_acc=accuracy_score(y_test,y_pred_test)\n",
    "recal=recall_score(y_test,y_pred_test)\n",
    "prec=precision_score(y_test,y_pred_test)\n",
    "f1=f1_score(y_test,y_pred_test)\n",
    "print(\"Training Accuracy :\", train_acc)\n",
    "print(\"Testing Accuracy :\", test_acc)\n",
    "print(\"F1 Score :\", f1)\n",
    "print(\"Recall :\", recal)\n",
    "print(\"Precision :\", prec)"
   ]
  },
  {
   "cell_type": "code",
   "execution_count": 124,
   "id": "f11f30b2",
   "metadata": {
    "id": "2a63f6b0"
   },
   "outputs": [],
   "source": [
    "metric[\"AdaBoost\"]={\"Training_Accuracy\":train_acc, \"Testing Accuracy\":test_acc, \"f1 score\":f1, \"Recall\":recal, \"Precision\":prec}"
   ]
  },
  {
   "cell_type": "code",
   "execution_count": 125,
   "id": "6ee37917",
   "metadata": {
    "id": "ftqY1RwGarYC"
   },
   "outputs": [
    {
     "data": {
      "image/png": "[encoded data removed]",
      "text/plain": [
       "<Figure size 500x300 with 2 Axes>"
      ]
     },
     "metadata": {},
     "output_type": "display_data"
    }
   ],
   "source": [
    "conf_matrix = pd.DataFrame(data = confusion_matrix(y_test,y_pred_test),\n",
    "                           columns = ['Predicted:0', 'Predicted:1'],\n",
    "                           index =['Actual:0', 'Actual:1'])\n",
    "plt.figure(figsize = (5, 3))\n",
    "sns.heatmap(conf_matrix, annot = True, fmt = 'd')\n",
    "plt.show()"
   ]
  },
  {
   "cell_type": "markdown",
   "id": "9f689cb0",
   "metadata": {},
   "source": [
    "# Conclusion"
   ]
  },
  {
   "cell_type": "code",
   "execution_count": 126,
   "id": "2fece19d",
   "metadata": {
    "id": "2fece19d"
   },
   "outputs": [
    {
     "data": {
      "text/html": [
       "<div>\n",
       "<style scoped>\n",
       "    .dataframe tbody tr th:only-of-type {\n",
       "        vertical-align: middle;\n",
       "    }\n",
       "\n",
       "    .dataframe tbody tr th {\n",
       "        vertical-align: top;\n",
       "    }\n",
       "\n",
       "    .dataframe thead th {\n",
       "        text-align: right;\n",
       "    }\n",
       "</style>\n",
       "<table border=\"1\" class=\"dataframe\">\n",
       "  <thead>\n",
       "    <tr style=\"text-align: right;\">\n",
       "      <th></th>\n",
       "      <th>Training_Accuracy</th>\n",
       "      <th>Testing Accuracy</th>\n",
       "      <th>f1 score</th>\n",
       "      <th>Recall</th>\n",
       "      <th>Precision</th>\n",
       "    </tr>\n",
       "  </thead>\n",
       "  <tbody>\n",
       "    <tr>\n",
       "      <th>Logistic Regression</th>\n",
       "      <td>0.958174</td>\n",
       "      <td>0.957565</td>\n",
       "      <td>0.719318</td>\n",
       "      <td>0.618845</td>\n",
       "      <td>0.858739</td>\n",
       "    </tr>\n",
       "    <tr>\n",
       "      <th>Support Vector Machine</th>\n",
       "      <td>0.775299</td>\n",
       "      <td>0.776386</td>\n",
       "      <td>0.430433</td>\n",
       "      <td>0.961648</td>\n",
       "      <td>0.277270</td>\n",
       "    </tr>\n",
       "    <tr>\n",
       "      <th>Gaussian Navies Bayes</th>\n",
       "      <td>0.900955</td>\n",
       "      <td>0.903316</td>\n",
       "      <td>0.539802</td>\n",
       "      <td>0.645360</td>\n",
       "      <td>0.463921</td>\n",
       "    </tr>\n",
       "    <tr>\n",
       "      <th>KNN</th>\n",
       "      <td>0.959755</td>\n",
       "      <td>0.953072</td>\n",
       "      <td>0.657559</td>\n",
       "      <td>0.512784</td>\n",
       "      <td>0.916244</td>\n",
       "    </tr>\n",
       "    <tr>\n",
       "      <th>Decision Tree</th>\n",
       "      <td>0.999307</td>\n",
       "      <td>0.950576</td>\n",
       "      <td>0.718750</td>\n",
       "      <td>0.718750</td>\n",
       "      <td>0.718750</td>\n",
       "    </tr>\n",
       "    <tr>\n",
       "      <th>Random Forest</th>\n",
       "      <td>0.971141</td>\n",
       "      <td>0.969630</td>\n",
       "      <td>0.791070</td>\n",
       "      <td>0.654356</td>\n",
       "      <td>1.000000</td>\n",
       "    </tr>\n",
       "    <tr>\n",
       "      <th>Gradient Boosting Classifier</th>\n",
       "      <td>0.971696</td>\n",
       "      <td>0.969297</td>\n",
       "      <td>0.791408</td>\n",
       "      <td>0.662879</td>\n",
       "      <td>0.981767</td>\n",
       "    </tr>\n",
       "    <tr>\n",
       "      <th>Stochastic Gradient Descent Classifier</th>\n",
       "      <td>0.957287</td>\n",
       "      <td>0.955860</td>\n",
       "      <td>0.686743</td>\n",
       "      <td>0.550663</td>\n",
       "      <td>0.912157</td>\n",
       "    </tr>\n",
       "    <tr>\n",
       "      <th>LGBM Classifier</th>\n",
       "      <td>0.972431</td>\n",
       "      <td>0.969505</td>\n",
       "      <td>0.793230</td>\n",
       "      <td>0.665720</td>\n",
       "      <td>0.981158</td>\n",
       "    </tr>\n",
       "    <tr>\n",
       "      <th>XGBoost</th>\n",
       "      <td>0.975731</td>\n",
       "      <td>0.969547</td>\n",
       "      <td>0.797902</td>\n",
       "      <td>0.684186</td>\n",
       "      <td>0.956954</td>\n",
       "    </tr>\n",
       "    <tr>\n",
       "      <th>CatBoost</th>\n",
       "      <td>0.978297</td>\n",
       "      <td>0.969089</td>\n",
       "      <td>0.795034</td>\n",
       "      <td>0.682292</td>\n",
       "      <td>0.952412</td>\n",
       "    </tr>\n",
       "    <tr>\n",
       "      <th>AdaBoost</th>\n",
       "      <td>0.971141</td>\n",
       "      <td>0.969630</td>\n",
       "      <td>0.791070</td>\n",
       "      <td>0.654356</td>\n",
       "      <td>1.000000</td>\n",
       "    </tr>\n",
       "  </tbody>\n",
       "</table>\n",
       "</div>"
      ],
      "text/plain": [
       "                                        Training_Accuracy  Testing Accuracy  \\\n",
       "Logistic Regression                              0.958174          0.957565   \n",
       "Support Vector Machine                           0.775299          0.776386   \n",
       "Gaussian Navies Bayes                            0.900955          0.903316   \n",
       "KNN                                              0.959755          0.953072   \n",
       "Decision Tree                                    0.999307          0.950576   \n",
       "Random Forest                                    0.971141          0.969630   \n",
       "Gradient Boosting Classifier                     0.971696          0.969297   \n",
       "Stochastic Gradient Descent Classifier           0.957287          0.955860   \n",
       "LGBM Classifier                                  0.972431          0.969505   \n",
       "XGBoost                                          0.975731          0.969547   \n",
       "CatBoost                                         0.978297          0.969089   \n",
       "AdaBoost                                         0.971141          0.969630   \n",
       "\n",
       "                                        f1 score    Recall  Precision  \n",
       "Logistic Regression                     0.719318  0.618845   0.858739  \n",
       "Support Vector Machine                  0.430433  0.961648   0.277270  \n",
       "Gaussian Navies Bayes                   0.539802  0.645360   0.463921  \n",
       "KNN                                     0.657559  0.512784   0.916244  \n",
       "Decision Tree                           0.718750  0.718750   0.718750  \n",
       "Random Forest                           0.791070  0.654356   1.000000  \n",
       "Gradient Boosting Classifier            0.791408  0.662879   0.981767  \n",
       "Stochastic Gradient Descent Classifier  0.686743  0.550663   0.912157  \n",
       "LGBM Classifier                         0.793230  0.665720   0.981158  \n",
       "XGBoost                                 0.797902  0.684186   0.956954  \n",
       "CatBoost                                0.795034  0.682292   0.952412  \n",
       "AdaBoost                                0.791070  0.654356   1.000000  "
      ]
     },
     "execution_count": 126,
     "metadata": {},
     "output_type": "execute_result"
    }
   ],
   "source": [
    "metric.T"
   ]
  },
  {
   "cell_type": "code",
   "execution_count": 127,
   "id": "0585bff7",
   "metadata": {},
   "outputs": [
    {
     "data": {
      "image/png": "[encoded data removed]",
      "text/plain": [
       "<Figure size 640x480 with 1 Axes>"
      ]
     },
     "metadata": {},
     "output_type": "display_data"
    }
   ],
   "source": [
    "ax=sns.barplot(data=metric.T,y=metric.T.index,x='Training_Accuracy')\n",
    "for i in ax.containers:\n",
    "    ax.bar_label(i,fmt='%.03f')"
   ]
  },
  {
   "cell_type": "code",
   "execution_count": 128,
   "id": "d6cabaa9",
   "metadata": {},
   "outputs": [
    {
     "data": {
      "image/png": "[encoded data removed]",
      "text/plain": [
       "<Figure size 640x480 with 1 Axes>"
      ]
     },
     "metadata": {},
     "output_type": "display_data"
    }
   ],
   "source": [
    "ax=sns.barplot(data=metric.T,y=metric.T.index,x='Testing Accuracy')\n",
    "for i in ax.containers:\n",
    "    ax.bar_label(i,fmt='%.03f')"
   ]
  },
  {
   "cell_type": "code",
   "execution_count": 129,
   "id": "5e5dea09",
   "metadata": {},
   "outputs": [
    {
     "data": {
      "image/png": "[encoded data removed]",
      "text/plain": [
       "<Figure size 640x480 with 1 Axes>"
      ]
     },
     "metadata": {},
     "output_type": "display_data"
    }
   ],
   "source": [
    "ax=sns.barplot(data=metric.T,y=metric.T.index,x='f1 score')\n",
    "for i in ax.containers:\n",
    "    ax.bar_label(i,fmt='%.03f')"
   ]
  },
  {
   "cell_type": "code",
   "execution_count": 130,
   "id": "8cb23ff2",
   "metadata": {},
   "outputs": [
    {
     "data": {
      "image/png": "[encoded data removed]",
      "text/plain": [
       "<Figure size 640x480 with 1 Axes>"
      ]
     },
     "metadata": {},
     "output_type": "display_data"
    }
   ],
   "source": [
    "ax=sns.barplot(data=metric.T,y=metric.T.index,x='Recall')\n",
    "for i in ax.containers:\n",
    "    ax.bar_label(i,fmt='%.03f')"
   ]
  },
  {
   "cell_type": "code",
   "execution_count": 131,
   "id": "f44427d1",
   "metadata": {},
   "outputs": [
    {
     "data": {
      "image/png": "[encoded data removed]",
      "text/plain": [
       "<Figure size 640x480 with 1 Axes>"
      ]
     },
     "metadata": {},
     "output_type": "display_data"
    }
   ],
   "source": [
    "ax=sns.barplot(data=metric.T,y=metric.T.index,x='Precision')\n",
    "for i in ax.containers:\n",
    "    ax.bar_label(i,fmt='%.03f')"
   ]
  },
  {
   "cell_type": "markdown",
   "id": "a254dcc6",
   "metadata": {},
   "source": [
    "# Final Model Preparation"
   ]
  },
  {
   "cell_type": "code",
   "execution_count": 132,
   "id": "bd2de862",
   "metadata": {},
   "outputs": [
    {
     "data": {
      "text/html": [
       "<style>#sk-container-id-12 {color: black;background-color: white;}#sk-container-id-12 pre{padding: 0;}#sk-container-id-12 div.sk-toggleable {background-color: white;}#sk-container-id-12 label.sk-toggleable__label {cursor: pointer;display: block;width: 100%;margin-bottom: 0;padding: 0.3em;box-sizing: border-box;text-align: center;}#sk-container-id-12 label.sk-toggleable__label-arrow:before {content: \"▸\";float: left;margin-right: 0.25em;color: #696969;}#sk-container-id-12 label.sk-toggleable__label-arrow:hover:before {color: black;}#sk-container-id-12 div.sk-estimator:hover label.sk-toggleable__label-arrow:before {color: black;}#sk-container-id-12 div.sk-toggleable__content {max-height: 0;max-width: 0;overflow: hidden;text-align: left;background-color: #f0f8ff;}#sk-container-id-12 div.sk-toggleable__content pre {margin: 0.2em;color: black;border-radius: 0.25em;background-color: #f0f8ff;}#sk-container-id-12 input.sk-toggleable__control:checked~div.sk-toggleable__content {max-height: 200px;max-width: 100%;overflow: auto;}#sk-container-id-12 input.sk-toggleable__control:checked~label.sk-toggleable__label-arrow:before {content: \"▾\";}#sk-container-id-12 div.sk-estimator input.sk-toggleable__control:checked~label.sk-toggleable__label {background-color: #d4ebff;}#sk-container-id-12 div.sk-label input.sk-toggleable__control:checked~label.sk-toggleable__label {background-color: #d4ebff;}#sk-container-id-12 input.sk-hidden--visually {border: 0;clip: rect(1px 1px 1px 1px);clip: rect(1px, 1px, 1px, 1px);height: 1px;margin: -1px;overflow: hidden;padding: 0;position: absolute;width: 1px;}#sk-container-id-12 div.sk-estimator {font-family: monospace;background-color: #f0f8ff;border: 1px dotted black;border-radius: 0.25em;box-sizing: border-box;margin-bottom: 0.5em;}#sk-container-id-12 div.sk-estimator:hover {background-color: #d4ebff;}#sk-container-id-12 div.sk-parallel-item::after {content: \"\";width: 100%;border-bottom: 1px solid gray;flex-grow: 1;}#sk-container-id-12 div.sk-label:hover label.sk-toggleable__label {background-color: #d4ebff;}#sk-container-id-12 div.sk-serial::before {content: \"\";position: absolute;border-left: 1px solid gray;box-sizing: border-box;top: 0;bottom: 0;left: 50%;z-index: 0;}#sk-container-id-12 div.sk-serial {display: flex;flex-direction: column;align-items: center;background-color: white;padding-right: 0.2em;padding-left: 0.2em;position: relative;}#sk-container-id-12 div.sk-item {position: relative;z-index: 1;}#sk-container-id-12 div.sk-parallel {display: flex;align-items: stretch;justify-content: center;background-color: white;position: relative;}#sk-container-id-12 div.sk-item::before, #sk-container-id-12 div.sk-parallel-item::before {content: \"\";position: absolute;border-left: 1px solid gray;box-sizing: border-box;top: 0;bottom: 0;left: 50%;z-index: -1;}#sk-container-id-12 div.sk-parallel-item {display: flex;flex-direction: column;z-index: 1;position: relative;background-color: white;}#sk-container-id-12 div.sk-parallel-item:first-child::after {align-self: flex-end;width: 50%;}#sk-container-id-12 div.sk-parallel-item:last-child::after {align-self: flex-start;width: 50%;}#sk-container-id-12 div.sk-parallel-item:only-child::after {width: 0;}#sk-container-id-12 div.sk-dashed-wrapped {border: 1px dashed gray;margin: 0 0.4em 0.5em 0.4em;box-sizing: border-box;padding-bottom: 0.4em;background-color: white;}#sk-container-id-12 div.sk-label label {font-family: monospace;font-weight: bold;display: inline-block;line-height: 1.2em;}#sk-container-id-12 div.sk-label-container {text-align: center;}#sk-container-id-12 div.sk-container {/* jupyter's `normalize.less` sets `[hidden] { display: none; }` but bootstrap.min.css set `[hidden] { display: none !important; }` so we also need the `!important` here to be able to override the default hidden behavior on the sphinx rendered scikit-learn.org. See: https://github.com/scikit-learn/scikit-learn/issues/21755 */display: inline-block !important;position: relative;}#sk-container-id-12 div.sk-text-repr-fallback {display: none;}</style><div id=\"sk-container-id-12\" class=\"sk-top-container\"><div class=\"sk-text-repr-fallback\"><pre>AdaBoostClassifier(algorithm=&#x27;SAMME&#x27;)</pre><b>In a Jupyter environment, please rerun this cell to show the HTML representation or trust the notebook. <br />On GitHub, the HTML representation is unable to render, please try loading this page with nbviewer.org.</b></div><div class=\"sk-container\" hidden><div class=\"sk-item\"><div class=\"sk-estimator sk-toggleable\"><input class=\"sk-toggleable__control sk-hidden--visually\" id=\"sk-estimator-id-12\" type=\"checkbox\" checked><label for=\"sk-estimator-id-12\" class=\"sk-toggleable__label sk-toggleable__label-arrow\">AdaBoostClassifier</label><div class=\"sk-toggleable__content\"><pre>AdaBoostClassifier(algorithm=&#x27;SAMME&#x27;)</pre></div></div></div></div></div>"
      ],
      "text/plain": [
       "AdaBoostClassifier(algorithm='SAMME')"
      ]
     },
     "execution_count": 132,
     "metadata": {},
     "output_type": "execute_result"
    }
   ],
   "source": [
    "AB.fit(X,y)"
   ]
  },
  {
   "cell_type": "code",
   "execution_count": 133,
   "id": "5546fbdf",
   "metadata": {},
   "outputs": [],
   "source": [
    "#import pickle\n",
    "\n",
    "#pickle.dump(AB, open(\"model.dat\", \"wb\"))"
   ]
  },
  {
   "cell_type": "code",
   "execution_count": 135,
   "id": "08a4c68a",
   "metadata": {},
   "outputs": [
    {
     "data": {
      "text/plain": [
       "['model.dat']"
      ]
     },
     "execution_count": 135,
     "metadata": {},
     "output_type": "execute_result"
    }
   ],
   "source": [
    "import joblib\n",
    "\n",
    "joblib.dump(AB, \"model.dat\")"
   ]
  },
  {
   "cell_type": "code",
   "execution_count": null,
   "id": "deea0017",
   "metadata": {},
   "outputs": [],
   "source": []
  }
 ],
 "metadata": {
  "colab": {
   "provenance": []
  },
  "kernelspec": {
   "display_name": "Python 3 (ipykernel)",
   "language": "python",
   "name": "python3"
  },
  "language_info": {
   "codemirror_mode": {
    "name": "ipython",
    "version": 3
   },
   "file_extension": ".py",
   "mimetype": "text/x-python",
   "name": "python",
   "nbconvert_exporter": "python",
   "pygments_lexer": "ipython3",
   "version": "3.10.9"
  }
 },
 "nbformat": 4,
 "nbformat_minor": 5
}
